{
 "cells": [
  {
   "cell_type": "markdown",
   "metadata": {},
   "source": [
    "### Installing packages"
   ]
  },
  {
   "cell_type": "code",
   "execution_count": 4,
   "metadata": {},
   "outputs": [
    {
     "name": "stderr",
     "output_type": "stream",
     "text": [
      "Updating HTML index of packages in '.Library'\n",
      "Making 'packages.html' ... done\n"
     ]
    }
   ],
   "source": [
    "install.packages(c(\"ggplot2\", \"plyr\", \"readxl\"))"
   ]
  },
  {
   "cell_type": "code",
   "execution_count": 2,
   "metadata": {},
   "outputs": [],
   "source": [
    "library(ggplot2)\n",
    "\n",
    "library(plyr)\n",
    "\n",
    "library(readxl)"
   ]
  },
  {
   "cell_type": "markdown",
   "metadata": {},
   "source": [
    "### Loading Dataset\n",
    "\n",
    "Source: https://www.kaggle.com/nisargpatel/automobiles#Automobile.csv"
   ]
  },
  {
   "cell_type": "code",
   "execution_count": 3,
   "metadata": {},
   "outputs": [],
   "source": [
    "auto_mobile <- read.csv(\"datasets/Automobile.csv\", header = TRUE)"
   ]
  },
  {
   "cell_type": "code",
   "execution_count": 4,
   "metadata": {},
   "outputs": [
    {
     "data": {
      "text/html": [
       "<table>\n",
       "<thead><tr><th scope=col>symboling</th><th scope=col>normalized_losses</th><th scope=col>make</th><th scope=col>fuel_type</th><th scope=col>aspiration</th><th scope=col>number_of_doors</th><th scope=col>body_style</th><th scope=col>drive_wheels</th><th scope=col>engine_location</th><th scope=col>wheel_base</th><th scope=col>...</th><th scope=col>engine_size</th><th scope=col>fuel_system</th><th scope=col>bore</th><th scope=col>stroke</th><th scope=col>compression_ratio</th><th scope=col>horsepower</th><th scope=col>peak_rpm</th><th scope=col>city_mpg</th><th scope=col>highway_mpg</th><th scope=col>price</th></tr></thead>\n",
       "<tbody>\n",
       "\t<tr><td>3          </td><td>168        </td><td>alfa-romero</td><td>gas        </td><td>std        </td><td>two        </td><td>convertible</td><td>rwd        </td><td>front      </td><td>88.6       </td><td>...        </td><td>130        </td><td>mpfi       </td><td>3.47       </td><td>2.68       </td><td> 9         </td><td>111        </td><td>5000       </td><td>21         </td><td>27         </td><td>13495      </td></tr>\n",
       "\t<tr><td>3          </td><td>168        </td><td>alfa-romero</td><td>gas        </td><td>std        </td><td>two        </td><td>convertible</td><td>rwd        </td><td>front      </td><td>88.6       </td><td>...        </td><td>130        </td><td>mpfi       </td><td>3.47       </td><td>2.68       </td><td> 9         </td><td>111        </td><td>5000       </td><td>21         </td><td>27         </td><td>16500      </td></tr>\n",
       "\t<tr><td>1          </td><td>168        </td><td>alfa-romero</td><td>gas        </td><td>std        </td><td>two        </td><td>hatchback  </td><td>rwd        </td><td>front      </td><td>94.5       </td><td>...        </td><td>152        </td><td>mpfi       </td><td>2.68       </td><td>3.47       </td><td> 9         </td><td>154        </td><td>5000       </td><td>19         </td><td>26         </td><td>16500      </td></tr>\n",
       "\t<tr><td>2          </td><td>164        </td><td>audi       </td><td>gas        </td><td>std        </td><td>four       </td><td>sedan      </td><td>fwd        </td><td>front      </td><td>99.8       </td><td>...        </td><td>109        </td><td>mpfi       </td><td>3.19       </td><td>3.40       </td><td>10         </td><td>102        </td><td>5500       </td><td>24         </td><td>30         </td><td>13950      </td></tr>\n",
       "\t<tr><td>2          </td><td>164        </td><td>audi       </td><td>gas        </td><td>std        </td><td>four       </td><td>sedan      </td><td>4wd        </td><td>front      </td><td>99.4       </td><td>...        </td><td>136        </td><td>mpfi       </td><td>3.19       </td><td>3.40       </td><td> 8         </td><td>115        </td><td>5500       </td><td>18         </td><td>22         </td><td>17450      </td></tr>\n",
       "</tbody>\n",
       "</table>\n"
      ],
      "text/latex": [
       "\\begin{tabular}{r|llllllllllllllllllllllllll}\n",
       " symboling & normalized\\_losses & make & fuel\\_type & aspiration & number\\_of\\_doors & body\\_style & drive\\_wheels & engine\\_location & wheel\\_base & ... & engine\\_size & fuel\\_system & bore & stroke & compression\\_ratio & horsepower & peak\\_rpm & city\\_mpg & highway\\_mpg & price\\\\\n",
       "\\hline\n",
       "\t 3           & 168         & alfa-romero & gas         & std         & two         & convertible & rwd         & front       & 88.6        & ...         & 130         & mpfi        & 3.47        & 2.68        &  9          & 111         & 5000        & 21          & 27          & 13495      \\\\\n",
       "\t 3           & 168         & alfa-romero & gas         & std         & two         & convertible & rwd         & front       & 88.6        & ...         & 130         & mpfi        & 3.47        & 2.68        &  9          & 111         & 5000        & 21          & 27          & 16500      \\\\\n",
       "\t 1           & 168         & alfa-romero & gas         & std         & two         & hatchback   & rwd         & front       & 94.5        & ...         & 152         & mpfi        & 2.68        & 3.47        &  9          & 154         & 5000        & 19          & 26          & 16500      \\\\\n",
       "\t 2           & 164         & audi        & gas         & std         & four        & sedan       & fwd         & front       & 99.8        & ...         & 109         & mpfi        & 3.19        & 3.40        & 10          & 102         & 5500        & 24          & 30          & 13950      \\\\\n",
       "\t 2           & 164         & audi        & gas         & std         & four        & sedan       & 4wd         & front       & 99.4        & ...         & 136         & mpfi        & 3.19        & 3.40        &  8          & 115         & 5500        & 18          & 22          & 17450      \\\\\n",
       "\\end{tabular}\n"
      ],
      "text/markdown": [
       "\n",
       "| symboling | normalized_losses | make | fuel_type | aspiration | number_of_doors | body_style | drive_wheels | engine_location | wheel_base | ... | engine_size | fuel_system | bore | stroke | compression_ratio | horsepower | peak_rpm | city_mpg | highway_mpg | price |\n",
       "|---|---|---|---|---|---|---|---|---|---|---|---|---|---|---|---|---|---|---|---|---|\n",
       "| 3           | 168         | alfa-romero | gas         | std         | two         | convertible | rwd         | front       | 88.6        | ...         | 130         | mpfi        | 3.47        | 2.68        |  9          | 111         | 5000        | 21          | 27          | 13495       |\n",
       "| 3           | 168         | alfa-romero | gas         | std         | two         | convertible | rwd         | front       | 88.6        | ...         | 130         | mpfi        | 3.47        | 2.68        |  9          | 111         | 5000        | 21          | 27          | 16500       |\n",
       "| 1           | 168         | alfa-romero | gas         | std         | two         | hatchback   | rwd         | front       | 94.5        | ...         | 152         | mpfi        | 2.68        | 3.47        |  9          | 154         | 5000        | 19          | 26          | 16500       |\n",
       "| 2           | 164         | audi        | gas         | std         | four        | sedan       | fwd         | front       | 99.8        | ...         | 109         | mpfi        | 3.19        | 3.40        | 10          | 102         | 5500        | 24          | 30          | 13950       |\n",
       "| 2           | 164         | audi        | gas         | std         | four        | sedan       | 4wd         | front       | 99.4        | ...         | 136         | mpfi        | 3.19        | 3.40        |  8          | 115         | 5500        | 18          | 22          | 17450       |\n",
       "\n"
      ],
      "text/plain": [
       "  symboling normalized_losses make        fuel_type aspiration number_of_doors\n",
       "1 3         168               alfa-romero gas       std        two            \n",
       "2 3         168               alfa-romero gas       std        two            \n",
       "3 1         168               alfa-romero gas       std        two            \n",
       "4 2         164               audi        gas       std        four           \n",
       "5 2         164               audi        gas       std        four           \n",
       "  body_style  drive_wheels engine_location wheel_base ... engine_size\n",
       "1 convertible rwd          front           88.6       ... 130        \n",
       "2 convertible rwd          front           88.6       ... 130        \n",
       "3 hatchback   rwd          front           94.5       ... 152        \n",
       "4 sedan       fwd          front           99.8       ... 109        \n",
       "5 sedan       4wd          front           99.4       ... 136        \n",
       "  fuel_system bore stroke compression_ratio horsepower peak_rpm city_mpg\n",
       "1 mpfi        3.47 2.68    9                111        5000     21      \n",
       "2 mpfi        3.47 2.68    9                111        5000     21      \n",
       "3 mpfi        2.68 3.47    9                154        5000     19      \n",
       "4 mpfi        3.19 3.40   10                102        5500     24      \n",
       "5 mpfi        3.19 3.40    8                115        5500     18      \n",
       "  highway_mpg price\n",
       "1 27          13495\n",
       "2 27          16500\n",
       "3 26          16500\n",
       "4 30          13950\n",
       "5 22          17450"
      ]
     },
     "metadata": {},
     "output_type": "display_data"
    }
   ],
   "source": [
    "head(auto_mobile, 5)"
   ]
  },
  {
   "cell_type": "code",
   "execution_count": 5,
   "metadata": {},
   "outputs": [
    {
     "data": {
      "text/html": [
       "<ol class=list-inline>\n",
       "\t<li>201</li>\n",
       "\t<li>26</li>\n",
       "</ol>\n"
      ],
      "text/latex": [
       "\\begin{enumerate*}\n",
       "\\item 201\n",
       "\\item 26\n",
       "\\end{enumerate*}\n"
      ],
      "text/markdown": [
       "1. 201\n",
       "2. 26\n",
       "\n",
       "\n"
      ],
      "text/plain": [
       "[1] 201  26"
      ]
     },
     "metadata": {},
     "output_type": "display_data"
    }
   ],
   "source": [
    "dim(auto_mobile)"
   ]
  },
  {
   "cell_type": "code",
   "execution_count": 6,
   "metadata": {},
   "outputs": [
    {
     "data": {
      "text/html": [
       "<ol class=list-inline>\n",
       "\t<li>'symboling'</li>\n",
       "\t<li>'normalized_losses'</li>\n",
       "\t<li>'make'</li>\n",
       "\t<li>'fuel_type'</li>\n",
       "\t<li>'aspiration'</li>\n",
       "\t<li>'number_of_doors'</li>\n",
       "\t<li>'body_style'</li>\n",
       "\t<li>'drive_wheels'</li>\n",
       "\t<li>'engine_location'</li>\n",
       "\t<li>'wheel_base'</li>\n",
       "\t<li>'length'</li>\n",
       "\t<li>'width'</li>\n",
       "\t<li>'height'</li>\n",
       "\t<li>'curb_weight'</li>\n",
       "\t<li>'engine_type'</li>\n",
       "\t<li>'number_of_cylinders'</li>\n",
       "\t<li>'engine_size'</li>\n",
       "\t<li>'fuel_system'</li>\n",
       "\t<li>'bore'</li>\n",
       "\t<li>'stroke'</li>\n",
       "\t<li>'compression_ratio'</li>\n",
       "\t<li>'horsepower'</li>\n",
       "\t<li>'peak_rpm'</li>\n",
       "\t<li>'city_mpg'</li>\n",
       "\t<li>'highway_mpg'</li>\n",
       "\t<li>'price'</li>\n",
       "</ol>\n"
      ],
      "text/latex": [
       "\\begin{enumerate*}\n",
       "\\item 'symboling'\n",
       "\\item 'normalized\\_losses'\n",
       "\\item 'make'\n",
       "\\item 'fuel\\_type'\n",
       "\\item 'aspiration'\n",
       "\\item 'number\\_of\\_doors'\n",
       "\\item 'body\\_style'\n",
       "\\item 'drive\\_wheels'\n",
       "\\item 'engine\\_location'\n",
       "\\item 'wheel\\_base'\n",
       "\\item 'length'\n",
       "\\item 'width'\n",
       "\\item 'height'\n",
       "\\item 'curb\\_weight'\n",
       "\\item 'engine\\_type'\n",
       "\\item 'number\\_of\\_cylinders'\n",
       "\\item 'engine\\_size'\n",
       "\\item 'fuel\\_system'\n",
       "\\item 'bore'\n",
       "\\item 'stroke'\n",
       "\\item 'compression\\_ratio'\n",
       "\\item 'horsepower'\n",
       "\\item 'peak\\_rpm'\n",
       "\\item 'city\\_mpg'\n",
       "\\item 'highway\\_mpg'\n",
       "\\item 'price'\n",
       "\\end{enumerate*}\n"
      ],
      "text/markdown": [
       "1. 'symboling'\n",
       "2. 'normalized_losses'\n",
       "3. 'make'\n",
       "4. 'fuel_type'\n",
       "5. 'aspiration'\n",
       "6. 'number_of_doors'\n",
       "7. 'body_style'\n",
       "8. 'drive_wheels'\n",
       "9. 'engine_location'\n",
       "10. 'wheel_base'\n",
       "11. 'length'\n",
       "12. 'width'\n",
       "13. 'height'\n",
       "14. 'curb_weight'\n",
       "15. 'engine_type'\n",
       "16. 'number_of_cylinders'\n",
       "17. 'engine_size'\n",
       "18. 'fuel_system'\n",
       "19. 'bore'\n",
       "20. 'stroke'\n",
       "21. 'compression_ratio'\n",
       "22. 'horsepower'\n",
       "23. 'peak_rpm'\n",
       "24. 'city_mpg'\n",
       "25. 'highway_mpg'\n",
       "26. 'price'\n",
       "\n",
       "\n"
      ],
      "text/plain": [
       " [1] \"symboling\"           \"normalized_losses\"   \"make\"               \n",
       " [4] \"fuel_type\"           \"aspiration\"          \"number_of_doors\"    \n",
       " [7] \"body_style\"          \"drive_wheels\"        \"engine_location\"    \n",
       "[10] \"wheel_base\"          \"length\"              \"width\"              \n",
       "[13] \"height\"              \"curb_weight\"         \"engine_type\"        \n",
       "[16] \"number_of_cylinders\" \"engine_size\"         \"fuel_system\"        \n",
       "[19] \"bore\"                \"stroke\"              \"compression_ratio\"  \n",
       "[22] \"horsepower\"          \"peak_rpm\"            \"city_mpg\"           \n",
       "[25] \"highway_mpg\"         \"price\"              "
      ]
     },
     "metadata": {},
     "output_type": "display_data"
    }
   ],
   "source": [
    "colnames(auto_mobile)"
   ]
  },
  {
   "cell_type": "code",
   "execution_count": 7,
   "metadata": {},
   "outputs": [],
   "source": [
    "auto_mobile[ ,c(\"symboling\", \"make\", \"body_style\")] <- list(NULL)"
   ]
  },
  {
   "cell_type": "code",
   "execution_count": 8,
   "metadata": {},
   "outputs": [
    {
     "data": {
      "text/html": [
       "<ol class=list-inline>\n",
       "\t<li>201</li>\n",
       "\t<li>23</li>\n",
       "</ol>\n"
      ],
      "text/latex": [
       "\\begin{enumerate*}\n",
       "\\item 201\n",
       "\\item 23\n",
       "\\end{enumerate*}\n"
      ],
      "text/markdown": [
       "1. 201\n",
       "2. 23\n",
       "\n",
       "\n"
      ],
      "text/plain": [
       "[1] 201  23"
      ]
     },
     "metadata": {},
     "output_type": "display_data"
    }
   ],
   "source": [
    "dim(auto_mobile)"
   ]
  },
  {
   "cell_type": "code",
   "execution_count": 9,
   "metadata": {},
   "outputs": [
    {
     "data": {
      "text/html": [
       "<table>\n",
       "<thead><tr><th scope=col>normalized_losses</th><th scope=col>fuel_type</th><th scope=col>aspiration</th><th scope=col>number_of_doors</th><th scope=col>drive_wheels</th><th scope=col>engine_location</th><th scope=col>wheel_base</th><th scope=col>length</th><th scope=col>width</th><th scope=col>height</th><th scope=col>...</th><th scope=col>engine_size</th><th scope=col>fuel_system</th><th scope=col>bore</th><th scope=col>stroke</th><th scope=col>compression_ratio</th><th scope=col>horsepower</th><th scope=col>peak_rpm</th><th scope=col>city_mpg</th><th scope=col>highway_mpg</th><th scope=col>price</th></tr></thead>\n",
       "<tbody>\n",
       "\t<tr><td>168  </td><td>gas  </td><td>std  </td><td>two  </td><td>rwd  </td><td>front</td><td>88.6 </td><td>168.8</td><td>64.1 </td><td>48.8 </td><td>...  </td><td>130  </td><td>mpfi </td><td>3.47 </td><td>2.68 </td><td> 9   </td><td>111  </td><td>5000 </td><td>21   </td><td>27   </td><td>13495</td></tr>\n",
       "\t<tr><td>168  </td><td>gas  </td><td>std  </td><td>two  </td><td>rwd  </td><td>front</td><td>88.6 </td><td>168.8</td><td>64.1 </td><td>48.8 </td><td>...  </td><td>130  </td><td>mpfi </td><td>3.47 </td><td>2.68 </td><td> 9   </td><td>111  </td><td>5000 </td><td>21   </td><td>27   </td><td>16500</td></tr>\n",
       "\t<tr><td>168  </td><td>gas  </td><td>std  </td><td>two  </td><td>rwd  </td><td>front</td><td>94.5 </td><td>171.2</td><td>65.5 </td><td>52.4 </td><td>...  </td><td>152  </td><td>mpfi </td><td>2.68 </td><td>3.47 </td><td> 9   </td><td>154  </td><td>5000 </td><td>19   </td><td>26   </td><td>16500</td></tr>\n",
       "\t<tr><td>164  </td><td>gas  </td><td>std  </td><td>four </td><td>fwd  </td><td>front</td><td>99.8 </td><td>176.6</td><td>66.2 </td><td>54.3 </td><td>...  </td><td>109  </td><td>mpfi </td><td>3.19 </td><td>3.40 </td><td>10   </td><td>102  </td><td>5500 </td><td>24   </td><td>30   </td><td>13950</td></tr>\n",
       "\t<tr><td>164  </td><td>gas  </td><td>std  </td><td>four </td><td>4wd  </td><td>front</td><td>99.4 </td><td>176.6</td><td>66.4 </td><td>54.3 </td><td>...  </td><td>136  </td><td>mpfi </td><td>3.19 </td><td>3.40 </td><td> 8   </td><td>115  </td><td>5500 </td><td>18   </td><td>22   </td><td>17450</td></tr>\n",
       "</tbody>\n",
       "</table>\n"
      ],
      "text/latex": [
       "\\begin{tabular}{r|lllllllllllllllllllllll}\n",
       " normalized\\_losses & fuel\\_type & aspiration & number\\_of\\_doors & drive\\_wheels & engine\\_location & wheel\\_base & length & width & height & ... & engine\\_size & fuel\\_system & bore & stroke & compression\\_ratio & horsepower & peak\\_rpm & city\\_mpg & highway\\_mpg & price\\\\\n",
       "\\hline\n",
       "\t 168   & gas   & std   & two   & rwd   & front & 88.6  & 168.8 & 64.1  & 48.8  & ...   & 130   & mpfi  & 3.47  & 2.68  &  9    & 111   & 5000  & 21    & 27    & 13495\\\\\n",
       "\t 168   & gas   & std   & two   & rwd   & front & 88.6  & 168.8 & 64.1  & 48.8  & ...   & 130   & mpfi  & 3.47  & 2.68  &  9    & 111   & 5000  & 21    & 27    & 16500\\\\\n",
       "\t 168   & gas   & std   & two   & rwd   & front & 94.5  & 171.2 & 65.5  & 52.4  & ...   & 152   & mpfi  & 2.68  & 3.47  &  9    & 154   & 5000  & 19    & 26    & 16500\\\\\n",
       "\t 164   & gas   & std   & four  & fwd   & front & 99.8  & 176.6 & 66.2  & 54.3  & ...   & 109   & mpfi  & 3.19  & 3.40  & 10    & 102   & 5500  & 24    & 30    & 13950\\\\\n",
       "\t 164   & gas   & std   & four  & 4wd   & front & 99.4  & 176.6 & 66.4  & 54.3  & ...   & 136   & mpfi  & 3.19  & 3.40  &  8    & 115   & 5500  & 18    & 22    & 17450\\\\\n",
       "\\end{tabular}\n"
      ],
      "text/markdown": [
       "\n",
       "| normalized_losses | fuel_type | aspiration | number_of_doors | drive_wheels | engine_location | wheel_base | length | width | height | ... | engine_size | fuel_system | bore | stroke | compression_ratio | horsepower | peak_rpm | city_mpg | highway_mpg | price |\n",
       "|---|---|---|---|---|---|---|---|---|---|---|---|---|---|---|---|---|---|---|---|---|\n",
       "| 168   | gas   | std   | two   | rwd   | front | 88.6  | 168.8 | 64.1  | 48.8  | ...   | 130   | mpfi  | 3.47  | 2.68  |  9    | 111   | 5000  | 21    | 27    | 13495 |\n",
       "| 168   | gas   | std   | two   | rwd   | front | 88.6  | 168.8 | 64.1  | 48.8  | ...   | 130   | mpfi  | 3.47  | 2.68  |  9    | 111   | 5000  | 21    | 27    | 16500 |\n",
       "| 168   | gas   | std   | two   | rwd   | front | 94.5  | 171.2 | 65.5  | 52.4  | ...   | 152   | mpfi  | 2.68  | 3.47  |  9    | 154   | 5000  | 19    | 26    | 16500 |\n",
       "| 164   | gas   | std   | four  | fwd   | front | 99.8  | 176.6 | 66.2  | 54.3  | ...   | 109   | mpfi  | 3.19  | 3.40  | 10    | 102   | 5500  | 24    | 30    | 13950 |\n",
       "| 164   | gas   | std   | four  | 4wd   | front | 99.4  | 176.6 | 66.4  | 54.3  | ...   | 136   | mpfi  | 3.19  | 3.40  |  8    | 115   | 5500  | 18    | 22    | 17450 |\n",
       "\n"
      ],
      "text/plain": [
       "  normalized_losses fuel_type aspiration number_of_doors drive_wheels\n",
       "1 168               gas       std        two             rwd         \n",
       "2 168               gas       std        two             rwd         \n",
       "3 168               gas       std        two             rwd         \n",
       "4 164               gas       std        four            fwd         \n",
       "5 164               gas       std        four            4wd         \n",
       "  engine_location wheel_base length width height ... engine_size fuel_system\n",
       "1 front           88.6       168.8  64.1  48.8   ... 130         mpfi       \n",
       "2 front           88.6       168.8  64.1  48.8   ... 130         mpfi       \n",
       "3 front           94.5       171.2  65.5  52.4   ... 152         mpfi       \n",
       "4 front           99.8       176.6  66.2  54.3   ... 109         mpfi       \n",
       "5 front           99.4       176.6  66.4  54.3   ... 136         mpfi       \n",
       "  bore stroke compression_ratio horsepower peak_rpm city_mpg highway_mpg price\n",
       "1 3.47 2.68    9                111        5000     21       27          13495\n",
       "2 3.47 2.68    9                111        5000     21       27          16500\n",
       "3 2.68 3.47    9                154        5000     19       26          16500\n",
       "4 3.19 3.40   10                102        5500     24       30          13950\n",
       "5 3.19 3.40    8                115        5500     18       22          17450"
      ]
     },
     "metadata": {},
     "output_type": "display_data"
    }
   ],
   "source": [
    "head(auto_mobile, 5)"
   ]
  },
  {
   "cell_type": "code",
   "execution_count": 10,
   "metadata": {},
   "outputs": [
    {
     "data": {
      "text/html": [
       "<dl class=dl-horizontal>\n",
       "\t<dt>normalized_losses</dt>\n",
       "\t\t<dd>0</dd>\n",
       "\t<dt>fuel_type</dt>\n",
       "\t\t<dd>0</dd>\n",
       "\t<dt>aspiration</dt>\n",
       "\t\t<dd>0</dd>\n",
       "\t<dt>number_of_doors</dt>\n",
       "\t\t<dd>0</dd>\n",
       "\t<dt>drive_wheels</dt>\n",
       "\t\t<dd>0</dd>\n",
       "\t<dt>engine_location</dt>\n",
       "\t\t<dd>0</dd>\n",
       "\t<dt>wheel_base</dt>\n",
       "\t\t<dd>0</dd>\n",
       "\t<dt>length</dt>\n",
       "\t\t<dd>0</dd>\n",
       "\t<dt>width</dt>\n",
       "\t\t<dd>0</dd>\n",
       "\t<dt>height</dt>\n",
       "\t\t<dd>0</dd>\n",
       "\t<dt>curb_weight</dt>\n",
       "\t\t<dd>0</dd>\n",
       "\t<dt>engine_type</dt>\n",
       "\t\t<dd>0</dd>\n",
       "\t<dt>number_of_cylinders</dt>\n",
       "\t\t<dd>0</dd>\n",
       "\t<dt>engine_size</dt>\n",
       "\t\t<dd>0</dd>\n",
       "\t<dt>fuel_system</dt>\n",
       "\t\t<dd>0</dd>\n",
       "\t<dt>bore</dt>\n",
       "\t\t<dd>0</dd>\n",
       "\t<dt>stroke</dt>\n",
       "\t\t<dd>0</dd>\n",
       "\t<dt>compression_ratio</dt>\n",
       "\t\t<dd>0</dd>\n",
       "\t<dt>horsepower</dt>\n",
       "\t\t<dd>0</dd>\n",
       "\t<dt>peak_rpm</dt>\n",
       "\t\t<dd>0</dd>\n",
       "\t<dt>city_mpg</dt>\n",
       "\t\t<dd>0</dd>\n",
       "\t<dt>highway_mpg</dt>\n",
       "\t\t<dd>0</dd>\n",
       "\t<dt>price</dt>\n",
       "\t\t<dd>0</dd>\n",
       "</dl>\n"
      ],
      "text/latex": [
       "\\begin{description*}\n",
       "\\item[normalized\\textbackslash{}\\_losses] 0\n",
       "\\item[fuel\\textbackslash{}\\_type] 0\n",
       "\\item[aspiration] 0\n",
       "\\item[number\\textbackslash{}\\_of\\textbackslash{}\\_doors] 0\n",
       "\\item[drive\\textbackslash{}\\_wheels] 0\n",
       "\\item[engine\\textbackslash{}\\_location] 0\n",
       "\\item[wheel\\textbackslash{}\\_base] 0\n",
       "\\item[length] 0\n",
       "\\item[width] 0\n",
       "\\item[height] 0\n",
       "\\item[curb\\textbackslash{}\\_weight] 0\n",
       "\\item[engine\\textbackslash{}\\_type] 0\n",
       "\\item[number\\textbackslash{}\\_of\\textbackslash{}\\_cylinders] 0\n",
       "\\item[engine\\textbackslash{}\\_size] 0\n",
       "\\item[fuel\\textbackslash{}\\_system] 0\n",
       "\\item[bore] 0\n",
       "\\item[stroke] 0\n",
       "\\item[compression\\textbackslash{}\\_ratio] 0\n",
       "\\item[horsepower] 0\n",
       "\\item[peak\\textbackslash{}\\_rpm] 0\n",
       "\\item[city\\textbackslash{}\\_mpg] 0\n",
       "\\item[highway\\textbackslash{}\\_mpg] 0\n",
       "\\item[price] 0\n",
       "\\end{description*}\n"
      ],
      "text/markdown": [
       "normalized_losses\n",
       ":   0fuel_type\n",
       ":   0aspiration\n",
       ":   0number_of_doors\n",
       ":   0drive_wheels\n",
       ":   0engine_location\n",
       ":   0wheel_base\n",
       ":   0length\n",
       ":   0width\n",
       ":   0height\n",
       ":   0curb_weight\n",
       ":   0engine_type\n",
       ":   0number_of_cylinders\n",
       ":   0engine_size\n",
       ":   0fuel_system\n",
       ":   0bore\n",
       ":   0stroke\n",
       ":   0compression_ratio\n",
       ":   0horsepower\n",
       ":   0peak_rpm\n",
       ":   0city_mpg\n",
       ":   0highway_mpg\n",
       ":   0price\n",
       ":   0\n",
       "\n"
      ],
      "text/plain": [
       "  normalized_losses           fuel_type          aspiration     number_of_doors \n",
       "                  0                   0                   0                   0 \n",
       "       drive_wheels     engine_location          wheel_base              length \n",
       "                  0                   0                   0                   0 \n",
       "              width              height         curb_weight         engine_type \n",
       "                  0                   0                   0                   0 \n",
       "number_of_cylinders         engine_size         fuel_system                bore \n",
       "                  0                   0                   0                   0 \n",
       "             stroke   compression_ratio          horsepower            peak_rpm \n",
       "                  0                   0                   0                   0 \n",
       "           city_mpg         highway_mpg               price \n",
       "                  0                   0                   0 "
      ]
     },
     "metadata": {},
     "output_type": "display_data"
    }
   ],
   "source": [
    "colSums(is.na(auto_mobile))"
   ]
  },
  {
   "cell_type": "code",
   "execution_count": 11,
   "metadata": {},
   "outputs": [
    {
     "name": "stdout",
     "output_type": "stream",
     "text": [
      "'data.frame':\t201 obs. of  23 variables:\n",
      " $ normalized_losses  : int  168 168 168 164 164 161 158 168 158 192 ...\n",
      " $ fuel_type          : Factor w/ 2 levels \"diesel\",\"gas\": 2 2 2 2 2 2 2 2 2 2 ...\n",
      " $ aspiration         : Factor w/ 2 levels \"std\",\"turbo\": 1 1 1 1 1 1 1 1 2 1 ...\n",
      " $ number_of_doors    : Factor w/ 2 levels \"four\",\"two\": 2 2 2 1 1 2 1 1 1 2 ...\n",
      " $ drive_wheels       : Factor w/ 3 levels \"4wd\",\"fwd\",\"rwd\": 3 3 3 2 1 2 2 2 2 3 ...\n",
      " $ engine_location    : Factor w/ 2 levels \"front\",\"rear\": 1 1 1 1 1 1 1 1 1 1 ...\n",
      " $ wheel_base         : num  88.6 88.6 94.5 99.8 99.4 ...\n",
      " $ length             : num  169 169 171 177 177 ...\n",
      " $ width              : num  64.1 64.1 65.5 66.2 66.4 66.3 71.4 71.4 71.4 64.8 ...\n",
      " $ height             : num  48.8 48.8 52.4 54.3 54.3 53.1 55.7 55.7 55.9 54.3 ...\n",
      " $ curb_weight        : int  2548 2548 2823 2337 2824 2507 2844 2954 3086 2395 ...\n",
      " $ engine_type        : Factor w/ 6 levels \"dohc\",\"l\",\"ohc\",..: 1 1 5 3 3 3 3 3 3 3 ...\n",
      " $ number_of_cylinders: Factor w/ 7 levels \"eight\",\"five\",..: 3 3 4 3 2 2 2 2 2 3 ...\n",
      " $ engine_size        : int  130 130 152 109 136 136 136 136 131 108 ...\n",
      " $ fuel_system        : Factor w/ 8 levels \"1bbl\",\"2bbl\",..: 6 6 6 6 6 6 6 6 6 6 ...\n",
      " $ bore               : num  3.47 3.47 2.68 3.19 3.19 3.19 3.19 3.19 3.13 3.5 ...\n",
      " $ stroke             : num  2.68 2.68 3.47 3.4 3.4 3.4 3.4 3.4 3.4 2.8 ...\n",
      " $ compression_ratio  : num  9 9 9 10 8 8.5 8.5 8.5 8.3 8.8 ...\n",
      " $ horsepower         : int  111 111 154 102 115 110 110 110 140 101 ...\n",
      " $ peak_rpm           : int  5000 5000 5000 5500 5500 5500 5500 5500 5500 5800 ...\n",
      " $ city_mpg           : int  21 21 19 24 18 19 19 19 17 23 ...\n",
      " $ highway_mpg        : int  27 27 26 30 22 25 25 25 20 29 ...\n",
      " $ price              : int  13495 16500 16500 13950 17450 15250 17710 18920 23875 16430 ...\n"
     ]
    }
   ],
   "source": [
    "str(auto_mobile)"
   ]
  },
  {
   "cell_type": "code",
   "execution_count": 12,
   "metadata": {},
   "outputs": [
    {
     "data": {
      "text/html": [
       "<ol class=list-inline>\n",
       "\t<li>gas</li>\n",
       "\t<li>diesel</li>\n",
       "</ol>\n",
       "\n",
       "<details>\n",
       "\t<summary style=display:list-item;cursor:pointer>\n",
       "\t\t<strong>Levels</strong>:\n",
       "\t</summary>\n",
       "\t<ol class=list-inline>\n",
       "\t\t<li>'diesel'</li>\n",
       "\t\t<li>'gas'</li>\n",
       "\t</ol>\n",
       "</details>"
      ],
      "text/latex": [
       "\\begin{enumerate*}\n",
       "\\item gas\n",
       "\\item diesel\n",
       "\\end{enumerate*}\n",
       "\n",
       "\\emph{Levels}: \\begin{enumerate*}\n",
       "\\item 'diesel'\n",
       "\\item 'gas'\n",
       "\\end{enumerate*}\n"
      ],
      "text/markdown": [
       "1. gas\n",
       "2. diesel\n",
       "\n",
       "\n",
       "\n",
       "**Levels**: 1. 'diesel'\n",
       "2. 'gas'\n",
       "\n",
       "\n"
      ],
      "text/plain": [
       "[1] gas    diesel\n",
       "Levels: diesel gas"
      ]
     },
     "metadata": {},
     "output_type": "display_data"
    }
   ],
   "source": [
    "unique(auto_mobile$fuel_type)"
   ]
  },
  {
   "cell_type": "code",
   "execution_count": 13,
   "metadata": {},
   "outputs": [
    {
     "data": {
      "text/plain": [
       "\n",
       "diesel    gas \n",
       "    20    181 "
      ]
     },
     "metadata": {},
     "output_type": "display_data"
    }
   ],
   "source": [
    "table(auto_mobile$fuel_type)"
   ]
  },
  {
   "cell_type": "code",
   "execution_count": 14,
   "metadata": {},
   "outputs": [
    {
     "data": {
      "text/plain": [
       "\n",
       "  std turbo \n",
       "  165    36 "
      ]
     },
     "metadata": {},
     "output_type": "display_data"
    }
   ],
   "source": [
    "table(auto_mobile$aspiration)"
   ]
  },
  {
   "cell_type": "code",
   "execution_count": 15,
   "metadata": {},
   "outputs": [
    {
     "data": {
      "text/plain": [
       "\n",
       "four  two \n",
       " 114   87 "
      ]
     },
     "metadata": {},
     "output_type": "display_data"
    }
   ],
   "source": [
    "table(auto_mobile$number_of_doors)"
   ]
  },
  {
   "cell_type": "code",
   "execution_count": 16,
   "metadata": {},
   "outputs": [
    {
     "data": {
      "text/plain": [
       "\n",
       " eight   five   four    six  three twelve    two \n",
       "     4     10    157     24      1      1      4 "
      ]
     },
     "metadata": {},
     "output_type": "display_data"
    }
   ],
   "source": [
    "table(auto_mobile$number_of_cylinders)"
   ]
  },
  {
   "cell_type": "code",
   "execution_count": 17,
   "metadata": {},
   "outputs": [],
   "source": [
    "options(repr.plot.width = 6, repr.plot.height = 5)"
   ]
  },
  {
   "cell_type": "code",
   "execution_count": 18,
   "metadata": {},
   "outputs": [
    {
     "data": {
      "image/png": "[encoded data removed]",
      "text/plain": [
       "plot without title"
      ]
     },
     "metadata": {},
     "output_type": "display_data"
    }
   ],
   "source": [
    "g <- ggplot(auto_mobile, aes(number_of_cylinders))\n",
    "\n",
    "g + geom_bar() + theme(aspect.ratio = 0.5)"
   ]
  },
  {
   "cell_type": "code",
   "execution_count": 19,
   "metadata": {},
   "outputs": [
    {
     "data": {
      "image/png": "[encoded data removed]",
      "text/plain": [
       "plot without title"
      ]
     },
     "metadata": {},
     "output_type": "display_data"
    }
   ],
   "source": [
    "g <- ggplot(auto_mobile, aes(fuel_type))\n",
    "\n",
    "g + geom_bar() + theme(aspect.ratio = 0.5)"
   ]
  },
  {
   "cell_type": "code",
   "execution_count": 20,
   "metadata": {},
   "outputs": [
    {
     "data": {
      "image/png": "[encoded data removed]",
      "text/plain": [
       "plot without title"
      ]
     },
     "metadata": {},
     "output_type": "display_data"
    }
   ],
   "source": [
    "ggplot(auto_mobile, aes(x = horsepower, y = city_mpg)) + \n",
    "                        geom_point(col = 'purple')"
   ]
  },
  {
   "cell_type": "code",
   "execution_count": 21,
   "metadata": {},
   "outputs": [
    {
     "data": {
      "image/png": "[encoded data removed]",
      "text/plain": [
       "plot without title"
      ]
     },
     "metadata": {},
     "output_type": "display_data"
    }
   ],
   "source": [
    "ggplot(auto_mobile, aes(x = city_mpg, y = price)) + \n",
    "                        geom_point(col = 'darkgreen')"
   ]
  },
  {
   "cell_type": "markdown",
   "metadata": {},
   "source": [
    "#### Boxplot for price\n",
    "\n",
    "https://www.rdocumentation.org/packages/graphics/versions/3.6.1/topics/boxplot\n",
    "\n",
    "Here we can see that it has some outliers"
   ]
  },
  {
   "cell_type": "code",
   "execution_count": 29,
   "metadata": {},
   "outputs": [
    {
     "data": {
      "image/png": "[encoded data removed]",
      "text/plain": [
       "plot without title"
      ]
     },
     "metadata": {},
     "output_type": "display_data"
    }
   ],
   "source": [
    "price_boxplot <- boxplot(auto_mobile$price, col = \"#2E86C1\")"
   ]
  },
  {
   "cell_type": "markdown",
   "metadata": {},
   "source": [
    "List with the following components:\n",
    "\n",
    "stats: A matrix, each column contains the extreme of the lower whisker, the lower hinge, the median, the upper hinge and the extreme of the upper whisker for one group/plot. If all the inputs have the same class attribute, so will this component.\n",
    "\n",
    "n: A vector with the number of observations in each group.\n",
    "\n",
    "conf: A matrix where each column contains the lower and upper extremes of the notch.\n",
    "\n",
    "out: The values of any data points which lie beyond the extremes of the whiskers.\n",
    "\n",
    "group: A vector of the same length as out whose elements indicate to which group the outlier belongs.\n",
    "\n",
    "names: A vector of names for the groups."
   ]
  },
  {
   "cell_type": "code",
   "execution_count": 30,
   "metadata": {},
   "outputs": [
    {
     "data": {
      "text/html": [
       "<dl>\n",
       "\t<dt>$stats</dt>\n",
       "\t\t<dd><ol class=list-inline>\n",
       "\t<li>5118</li>\n",
       "\t<li>7775</li>\n",
       "\t<li>10295</li>\n",
       "\t<li>16500</li>\n",
       "\t<li>28248</li>\n",
       "</ol>\n",
       "</dd>\n",
       "\t<dt>$n</dt>\n",
       "\t\t<dd>201</dd>\n",
       "\t<dt>$conf</dt>\n",
       "\t\t<dd><table>\n",
       "<tbody>\n",
       "\t<tr><td> 9322.646</td></tr>\n",
       "\t<tr><td>11267.354</td></tr>\n",
       "</tbody>\n",
       "</table>\n",
       "</dd>\n",
       "\t<dt>$out</dt>\n",
       "\t\t<dd><ol class=list-inline>\n",
       "\t<li>30760</li>\n",
       "\t<li>41315</li>\n",
       "\t<li>36880</li>\n",
       "\t<li>32250</li>\n",
       "\t<li>35550</li>\n",
       "\t<li>36000</li>\n",
       "\t<li>31600</li>\n",
       "\t<li>34184</li>\n",
       "\t<li>35056</li>\n",
       "\t<li>40960</li>\n",
       "\t<li>45400</li>\n",
       "\t<li>32528</li>\n",
       "\t<li>34028</li>\n",
       "\t<li>37028</li>\n",
       "</ol>\n",
       "</dd>\n",
       "\t<dt>$group</dt>\n",
       "\t\t<dd><ol class=list-inline>\n",
       "\t<li>1</li>\n",
       "\t<li>1</li>\n",
       "\t<li>1</li>\n",
       "\t<li>1</li>\n",
       "\t<li>1</li>\n",
       "\t<li>1</li>\n",
       "\t<li>1</li>\n",
       "\t<li>1</li>\n",
       "\t<li>1</li>\n",
       "\t<li>1</li>\n",
       "\t<li>1</li>\n",
       "\t<li>1</li>\n",
       "\t<li>1</li>\n",
       "\t<li>1</li>\n",
       "</ol>\n",
       "</dd>\n",
       "\t<dt>$names</dt>\n",
       "\t\t<dd>'1'</dd>\n",
       "</dl>\n"
      ],
      "text/latex": [
       "\\begin{description}\n",
       "\\item[\\$stats] \\begin{enumerate*}\n",
       "\\item 5118\n",
       "\\item 7775\n",
       "\\item 10295\n",
       "\\item 16500\n",
       "\\item 28248\n",
       "\\end{enumerate*}\n",
       "\n",
       "\\item[\\$n] 201\n",
       "\\item[\\$conf] \\begin{tabular}{l}\n",
       "\t  9322.646\\\\\n",
       "\t 11267.354\\\\\n",
       "\\end{tabular}\n",
       "\n",
       "\\item[\\$out] \\begin{enumerate*}\n",
       "\\item 30760\n",
       "\\item 41315\n",
       "\\item 36880\n",
       "\\item 32250\n",
       "\\item 35550\n",
       "\\item 36000\n",
       "\\item 31600\n",
       "\\item 34184\n",
       "\\item 35056\n",
       "\\item 40960\n",
       "\\item 45400\n",
       "\\item 32528\n",
       "\\item 34028\n",
       "\\item 37028\n",
       "\\end{enumerate*}\n",
       "\n",
       "\\item[\\$group] \\begin{enumerate*}\n",
       "\\item 1\n",
       "\\item 1\n",
       "\\item 1\n",
       "\\item 1\n",
       "\\item 1\n",
       "\\item 1\n",
       "\\item 1\n",
       "\\item 1\n",
       "\\item 1\n",
       "\\item 1\n",
       "\\item 1\n",
       "\\item 1\n",
       "\\item 1\n",
       "\\item 1\n",
       "\\end{enumerate*}\n",
       "\n",
       "\\item[\\$names] '1'\n",
       "\\end{description}\n"
      ],
      "text/markdown": [
       "$stats\n",
       ":   1. 5118\n",
       "2. 7775\n",
       "3. 10295\n",
       "4. 16500\n",
       "5. 28248\n",
       "\n",
       "\n",
       "\n",
       "$n\n",
       ":   201\n",
       "$conf\n",
       ":   \n",
       "|  9322.646 |\n",
       "| 11267.354 |\n",
       "\n",
       "\n",
       "$out\n",
       ":   1. 30760\n",
       "2. 41315\n",
       "3. 36880\n",
       "4. 32250\n",
       "5. 35550\n",
       "6. 36000\n",
       "7. 31600\n",
       "8. 34184\n",
       "9. 35056\n",
       "10. 40960\n",
       "11. 45400\n",
       "12. 32528\n",
       "13. 34028\n",
       "14. 37028\n",
       "\n",
       "\n",
       "\n",
       "$group\n",
       ":   1. 1\n",
       "2. 1\n",
       "3. 1\n",
       "4. 1\n",
       "5. 1\n",
       "6. 1\n",
       "7. 1\n",
       "8. 1\n",
       "9. 1\n",
       "10. 1\n",
       "11. 1\n",
       "12. 1\n",
       "13. 1\n",
       "14. 1\n",
       "\n",
       "\n",
       "\n",
       "$names\n",
       ":   '1'\n",
       "\n",
       "\n"
      ],
      "text/plain": [
       "$stats\n",
       "      [,1]\n",
       "[1,]  5118\n",
       "[2,]  7775\n",
       "[3,] 10295\n",
       "[4,] 16500\n",
       "[5,] 28248\n",
       "attr(,\"class\")\n",
       "        1 \n",
       "\"integer\" \n",
       "\n",
       "$n\n",
       "[1] 201\n",
       "\n",
       "$conf\n",
       "          [,1]\n",
       "[1,]  9322.646\n",
       "[2,] 11267.354\n",
       "\n",
       "$out\n",
       " [1] 30760 41315 36880 32250 35550 36000 31600 34184 35056 40960 45400 32528\n",
       "[13] 34028 37028\n",
       "\n",
       "$group\n",
       " [1] 1 1 1 1 1 1 1 1 1 1 1 1 1 1\n",
       "\n",
       "$names\n",
       "[1] \"1\"\n"
      ]
     },
     "metadata": {},
     "output_type": "display_data"
    }
   ],
   "source": [
    "price_boxplot"
   ]
  },
  {
   "cell_type": "markdown",
   "metadata": {},
   "source": [
    "#### Printing outliers"
   ]
  },
  {
   "cell_type": "code",
   "execution_count": 31,
   "metadata": {},
   "outputs": [
    {
     "data": {
      "text/html": [
       "<ol class=list-inline>\n",
       "\t<li>30760</li>\n",
       "\t<li>41315</li>\n",
       "\t<li>36880</li>\n",
       "\t<li>32250</li>\n",
       "\t<li>35550</li>\n",
       "\t<li>36000</li>\n",
       "\t<li>31600</li>\n",
       "\t<li>34184</li>\n",
       "\t<li>35056</li>\n",
       "\t<li>40960</li>\n",
       "\t<li>45400</li>\n",
       "\t<li>32528</li>\n",
       "\t<li>34028</li>\n",
       "\t<li>37028</li>\n",
       "</ol>\n"
      ],
      "text/latex": [
       "\\begin{enumerate*}\n",
       "\\item 30760\n",
       "\\item 41315\n",
       "\\item 36880\n",
       "\\item 32250\n",
       "\\item 35550\n",
       "\\item 36000\n",
       "\\item 31600\n",
       "\\item 34184\n",
       "\\item 35056\n",
       "\\item 40960\n",
       "\\item 45400\n",
       "\\item 32528\n",
       "\\item 34028\n",
       "\\item 37028\n",
       "\\end{enumerate*}\n"
      ],
      "text/markdown": [
       "1. 30760\n",
       "2. 41315\n",
       "3. 36880\n",
       "4. 32250\n",
       "5. 35550\n",
       "6. 36000\n",
       "7. 31600\n",
       "8. 34184\n",
       "9. 35056\n",
       "10. 40960\n",
       "11. 45400\n",
       "12. 32528\n",
       "13. 34028\n",
       "14. 37028\n",
       "\n",
       "\n"
      ],
      "text/plain": [
       " [1] 30760 41315 36880 32250 35550 36000 31600 34184 35056 40960 45400 32528\n",
       "[13] 34028 37028"
      ]
     },
     "metadata": {},
     "output_type": "display_data"
    }
   ],
   "source": [
    "price_boxplot$out"
   ]
  },
  {
   "cell_type": "markdown",
   "metadata": {},
   "source": [
    "#### Removing outliers"
   ]
  },
  {
   "cell_type": "code",
   "execution_count": 32,
   "metadata": {},
   "outputs": [],
   "source": [
    "auto_mobile <- auto_mobile[-which(auto_mobile$price %in% price_boxplot$out),]"
   ]
  },
  {
   "cell_type": "code",
   "execution_count": 33,
   "metadata": {},
   "outputs": [
    {
     "data": {
      "text/html": [
       "<ol class=list-inline>\n",
       "\t<li>187</li>\n",
       "\t<li>23</li>\n",
       "</ol>\n"
      ],
      "text/latex": [
       "\\begin{enumerate*}\n",
       "\\item 187\n",
       "\\item 23\n",
       "\\end{enumerate*}\n"
      ],
      "text/markdown": [
       "1. 187\n",
       "2. 23\n",
       "\n",
       "\n"
      ],
      "text/plain": [
       "[1] 187  23"
      ]
     },
     "metadata": {},
     "output_type": "display_data"
    }
   ],
   "source": [
    "dim(auto_mobile)"
   ]
  },
  {
   "cell_type": "code",
   "execution_count": 34,
   "metadata": {},
   "outputs": [
    {
     "data": {
      "image/png": "[encoded data removed]",
      "text/plain": [
       "plot without title"
      ]
     },
     "metadata": {},
     "output_type": "display_data"
    }
   ],
   "source": [
    "price_boxplot <- boxplot(auto_mobile$price, col = \"#2E86C1\")"
   ]
  },
  {
   "cell_type": "code",
   "execution_count": 35,
   "metadata": {},
   "outputs": [
    {
     "data": {
      "text/html": [
       "<dl>\n",
       "\t<dt>$stats</dt>\n",
       "\t\t<dd><ol class=list-inline>\n",
       "\t<li>5118</li>\n",
       "\t<li>7649</li>\n",
       "\t<li>9960</li>\n",
       "\t<li>15145</li>\n",
       "\t<li>25552</li>\n",
       "</ol>\n",
       "</dd>\n",
       "\t<dt>$n</dt>\n",
       "\t\t<dd>187</dd>\n",
       "\t<dt>$conf</dt>\n",
       "\t\t<dd><table>\n",
       "<tbody>\n",
       "\t<tr><td> 9093.904</td></tr>\n",
       "\t<tr><td>10826.096</td></tr>\n",
       "</tbody>\n",
       "</table>\n",
       "</dd>\n",
       "\t<dt>$out</dt>\n",
       "\t\t<dd><ol class=list-inline>\n",
       "\t<li>28248</li>\n",
       "\t<li>28176</li>\n",
       "</ol>\n",
       "</dd>\n",
       "\t<dt>$group</dt>\n",
       "\t\t<dd><ol class=list-inline>\n",
       "\t<li>1</li>\n",
       "\t<li>1</li>\n",
       "</ol>\n",
       "</dd>\n",
       "\t<dt>$names</dt>\n",
       "\t\t<dd>'1'</dd>\n",
       "</dl>\n"
      ],
      "text/latex": [
       "\\begin{description}\n",
       "\\item[\\$stats] \\begin{enumerate*}\n",
       "\\item 5118\n",
       "\\item 7649\n",
       "\\item 9960\n",
       "\\item 15145\n",
       "\\item 25552\n",
       "\\end{enumerate*}\n",
       "\n",
       "\\item[\\$n] 187\n",
       "\\item[\\$conf] \\begin{tabular}{l}\n",
       "\t  9093.904\\\\\n",
       "\t 10826.096\\\\\n",
       "\\end{tabular}\n",
       "\n",
       "\\item[\\$out] \\begin{enumerate*}\n",
       "\\item 28248\n",
       "\\item 28176\n",
       "\\end{enumerate*}\n",
       "\n",
       "\\item[\\$group] \\begin{enumerate*}\n",
       "\\item 1\n",
       "\\item 1\n",
       "\\end{enumerate*}\n",
       "\n",
       "\\item[\\$names] '1'\n",
       "\\end{description}\n"
      ],
      "text/markdown": [
       "$stats\n",
       ":   1. 5118\n",
       "2. 7649\n",
       "3. 9960\n",
       "4. 15145\n",
       "5. 25552\n",
       "\n",
       "\n",
       "\n",
       "$n\n",
       ":   187\n",
       "$conf\n",
       ":   \n",
       "|  9093.904 |\n",
       "| 10826.096 |\n",
       "\n",
       "\n",
       "$out\n",
       ":   1. 28248\n",
       "2. 28176\n",
       "\n",
       "\n",
       "\n",
       "$group\n",
       ":   1. 1\n",
       "2. 1\n",
       "\n",
       "\n",
       "\n",
       "$names\n",
       ":   '1'\n",
       "\n",
       "\n"
      ],
      "text/plain": [
       "$stats\n",
       "      [,1]\n",
       "[1,]  5118\n",
       "[2,]  7649\n",
       "[3,]  9960\n",
       "[4,] 15145\n",
       "[5,] 25552\n",
       "attr(,\"class\")\n",
       "        1 \n",
       "\"integer\" \n",
       "\n",
       "$n\n",
       "[1] 187\n",
       "\n",
       "$conf\n",
       "          [,1]\n",
       "[1,]  9093.904\n",
       "[2,] 10826.096\n",
       "\n",
       "$out\n",
       "[1] 28248 28176\n",
       "\n",
       "$group\n",
       "[1] 1 1\n",
       "\n",
       "$names\n",
       "[1] \"1\"\n"
      ]
     },
     "metadata": {},
     "output_type": "display_data"
    }
   ],
   "source": [
    "price_boxplot"
   ]
  },
  {
   "cell_type": "markdown",
   "metadata": {},
   "source": [
    "#### Saving processed dataset in csv fromat"
   ]
  },
  {
   "cell_type": "code",
   "execution_count": 36,
   "metadata": {},
   "outputs": [],
   "source": [
    "write.csv(auto_mobile, file = \"datasets/auto_mobiles_processed.csv\", row.names = FALSE)"
   ]
  },
  {
   "cell_type": "code",
   "execution_count": 37,
   "metadata": {},
   "outputs": [
    {
     "data": {
      "text/html": [
       "<ol class=list-inline>\n",
       "\t<li>'auto_mobiles_processed.csv'</li>\n",
       "\t<li>'Automobile.csv'</li>\n",
       "\t<li>'blood_pressure.csv'</li>\n",
       "</ol>\n"
      ],
      "text/latex": [
       "\\begin{enumerate*}\n",
       "\\item 'auto\\_mobiles\\_processed.csv'\n",
       "\\item 'Automobile.csv'\n",
       "\\item 'blood\\_pressure.csv'\n",
       "\\end{enumerate*}\n"
      ],
      "text/markdown": [
       "1. 'auto_mobiles_processed.csv'\n",
       "2. 'Automobile.csv'\n",
       "3. 'blood_pressure.csv'\n",
       "\n",
       "\n"
      ],
      "text/plain": [
       "[1] \"auto_mobiles_processed.csv\" \"Automobile.csv\"            \n",
       "[3] \"blood_pressure.csv\"        "
      ]
     },
     "metadata": {},
     "output_type": "display_data"
    }
   ],
   "source": [
    "list.files(path = \"datasets\")"
   ]
  },
  {
   "cell_type": "code",
   "execution_count": null,
   "metadata": {},
   "outputs": [],
   "source": []
  },
  {
   "cell_type": "code",
   "execution_count": null,
   "metadata": {},
   "outputs": [],
   "source": []
  },
  {
   "cell_type": "code",
   "execution_count": null,
   "metadata": {},
   "outputs": [],
   "source": []
  },
  {
   "cell_type": "code",
   "execution_count": null,
   "metadata": {},
   "outputs": [],
   "source": []
  },
  {
   "cell_type": "code",
   "execution_count": null,
   "metadata": {},
   "outputs": [],
   "source": []
  },
  {
   "cell_type": "code",
   "execution_count": null,
   "metadata": {},
   "outputs": [],
   "source": []
  },
  {
   "cell_type": "code",
   "execution_count": null,
   "metadata": {},
   "outputs": [],
   "source": []
  },
  {
   "cell_type": "code",
   "execution_count": null,
   "metadata": {},
   "outputs": [],
   "source": []
  },
  {
   "cell_type": "code",
   "execution_count": null,
   "metadata": {},
   "outputs": [],
   "source": []
  },
  {
   "cell_type": "code",
   "execution_count": null,
   "metadata": {},
   "outputs": [],
   "source": []
  },
  {
   "cell_type": "code",
   "execution_count": null,
   "metadata": {},
   "outputs": [],
   "source": []
  },
  {
   "cell_type": "code",
   "execution_count": null,
   "metadata": {},
   "outputs": [],
   "source": []
  },
  {
   "cell_type": "code",
   "execution_count": null,
   "metadata": {},
   "outputs": [],
   "source": []
  },
  {
   "cell_type": "code",
   "execution_count": null,
   "metadata": {},
   "outputs": [],
   "source": []
  },
  {
   "cell_type": "code",
   "execution_count": null,
   "metadata": {},
   "outputs": [],
   "source": []
  },
  {
   "cell_type": "code",
   "execution_count": null,
   "metadata": {},
   "outputs": [],
   "source": []
  },
  {
   "cell_type": "code",
   "execution_count": null,
   "metadata": {},
   "outputs": [],
   "source": []
  },
  {
   "cell_type": "code",
   "execution_count": null,
   "metadata": {},
   "outputs": [],
   "source": []
  },
  {
   "cell_type": "code",
   "execution_count": null,
   "metadata": {},
   "outputs": [],
   "source": []
  },
  {
   "cell_type": "code",
   "execution_count": null,
   "metadata": {},
   "outputs": [],
   "source": []
  },
  {
   "cell_type": "code",
   "execution_count": null,
   "metadata": {},
   "outputs": [],
   "source": []
  },
  {
   "cell_type": "code",
   "execution_count": null,
   "metadata": {},
   "outputs": [],
   "source": []
  },
  {
   "cell_type": "code",
   "execution_count": null,
   "metadata": {},
   "outputs": [],
   "source": []
  },
  {
   "cell_type": "code",
   "execution_count": null,
   "metadata": {},
   "outputs": [],
   "source": []
  },
  {
   "cell_type": "code",
   "execution_count": null,
   "metadata": {},
   "outputs": [],
   "source": []
  },
  {
   "cell_type": "code",
   "execution_count": null,
   "metadata": {},
   "outputs": [],
   "source": []
  },
  {
   "cell_type": "code",
   "execution_count": null,
   "metadata": {},
   "outputs": [],
   "source": []
  },
  {
   "cell_type": "code",
   "execution_count": null,
   "metadata": {},
   "outputs": [],
   "source": []
  },
  {
   "cell_type": "code",
   "execution_count": null,
   "metadata": {},
   "outputs": [],
   "source": []
  },
  {
   "cell_type": "code",
   "execution_count": null,
   "metadata": {},
   "outputs": [],
   "source": []
  },
  {
   "cell_type": "code",
   "execution_count": null,
   "metadata": {},
   "outputs": [],
   "source": []
  },
  {
   "cell_type": "code",
   "execution_count": null,
   "metadata": {},
   "outputs": [],
   "source": []
  },
  {
   "cell_type": "code",
   "execution_count": null,
   "metadata": {},
   "outputs": [],
   "source": []
  },
  {
   "cell_type": "code",
   "execution_count": null,
   "metadata": {},
   "outputs": [],
   "source": []
  },
  {
   "cell_type": "code",
   "execution_count": null,
   "metadata": {},
   "outputs": [],
   "source": []
  },
  {
   "cell_type": "code",
   "execution_count": null,
   "metadata": {},
   "outputs": [],
   "source": []
  },
  {
   "cell_type": "code",
   "execution_count": null,
   "metadata": {},
   "outputs": [],
   "source": []
  },
  {
   "cell_type": "code",
   "execution_count": null,
   "metadata": {},
   "outputs": [],
   "source": []
  },
  {
   "cell_type": "code",
   "execution_count": null,
   "metadata": {},
   "outputs": [],
   "source": []
  },
  {
   "cell_type": "code",
   "execution_count": null,
   "metadata": {},
   "outputs": [],
   "source": []
  },
  {
   "cell_type": "code",
   "execution_count": null,
   "metadata": {},
   "outputs": [],
   "source": []
  },
  {
   "cell_type": "code",
   "execution_count": null,
   "metadata": {},
   "outputs": [],
   "source": []
  },
  {
   "cell_type": "code",
   "execution_count": null,
   "metadata": {},
   "outputs": [],
   "source": []
  },
  {
   "cell_type": "code",
   "execution_count": null,
   "metadata": {},
   "outputs": [],
   "source": []
  },
  {
   "cell_type": "code",
   "execution_count": null,
   "metadata": {},
   "outputs": [],
   "source": []
  },
  {
   "cell_type": "code",
   "execution_count": null,
   "metadata": {},
   "outputs": [],
   "source": []
  },
  {
   "cell_type": "code",
   "execution_count": null,
   "metadata": {},
   "outputs": [],
   "source": []
  }
 ],
 "metadata": {
  "kernelspec": {
   "display_name": "R",
   "language": "R",
   "name": "ir"
  },
  "language_info": {
   "codemirror_mode": "r",
   "file_extension": ".r",
   "mimetype": "text/x-r-source",
   "name": "R",
   "pygments_lexer": "r",
   "version": "3.6.1"
  }
 },
 "nbformat": 4,
 "nbformat_minor": 2
}
