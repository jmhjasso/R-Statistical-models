{
 "cells": [
  {
   "cell_type": "markdown",
   "metadata": {},
   "source": [
    "# Direct and iterative numerical methods"
   ]
  },
  {
   "cell_type": "markdown",
   "metadata": {},
   "source": [
    "### Install library\n",
    "\n",
    "Note:- Before installing `Rlinesolve` we have to install `RcppArmadillo` by command line `conda install -c conda-forge r-rcpparmadillo`\n",
    "\n",
    "https://anaconda.org/conda-forge/r-rcpparmadillo"
   ]
  },
  {
   "cell_type": "code",
   "execution_count": 1,
   "metadata": {},
   "outputs": [
    {
     "name": "stderr",
     "output_type": "stream",
     "text": [
      "also installing the dependencies ‘bigmemory.sri’, ‘bibtex’, ‘gbRd’, ‘bigmemory’, ‘Rdpack’\n",
      "\n",
      "Updating HTML index of packages in '.Library'\n",
      "Making 'packages.html' ... done\n",
      "Updating HTML index of packages in '.Library'\n",
      "Making 'packages.html' ... done\n",
      "Updating HTML index of packages in '.Library'\n",
      "Making 'packages.html' ... done\n"
     ]
    }
   ],
   "source": [
    "install.packages('Rlinsolve')\n",
    "install.packages('ggplot2')\n",
    "install.packages('pracma')"
   ]
  },
  {
   "cell_type": "code",
   "execution_count": 103,
   "metadata": {},
   "outputs": [],
   "source": [
    "library(RcppArmadillo)\n",
    "library(Rlinsolve)\n",
    "library(ggplot2)\n",
    "library(pracma)\n",
    "\n",
    "options(repr.plot.width = 6, repr.plot.height = 4)"
   ]
  },
  {
   "attachments": {
    "image.png": {
     "image/png": "[encoded data removed]"
    }
   },
   "cell_type": "markdown",
   "metadata": {},
   "source": [
    "### Implementation of the Jacobi iteration to find the solution to 𝐴𝑥=𝑏\n",
    "\n",
    "__Jacobi iteration__:- In numerical linear algebra, the Jacobi method is an iterative algorithm for determining the solutions of a strictly diagonally dominant system of linear equations. Each diagonal element is solved for, and an approximate value is plugged in. The process is then iterated until it converges. This algorithm is a stripped-down version of the Jacobi transformation method of matrix diagonalization. The method is named after Carl Gustav Jacob Jacobi.\n",
    "\n",
    "\n",
    "#### Diagonally dominant means: ![image.png](attachment:image.png)\n",
    "\n",
    "https://www.rdocumentation.org/packages/Rlinsolve/versions/0.3.0/topics/lsolve.jacobi\n",
    "\n",
    "https://en.wikipedia.org/wiki/Jacobi_method\n",
    "\n",
    "Example:- https://en.wikipedia.org/wiki/Jacobi_method#Example"
   ]
  },
  {
   "cell_type": "markdown",
   "metadata": {},
   "source": [
    "### Equation are `2x + y = 11` and `5x + 7y = 13`\n",
    "\n",
    "### Create a matrix for above equation"
   ]
  },
  {
   "cell_type": "code",
   "execution_count": 82,
   "metadata": {},
   "outputs": [
    {
     "data": {
      "text/html": [
       "<table>\n",
       "<tbody>\n",
       "\t<tr><td>2</td><td>1</td></tr>\n",
       "\t<tr><td>5</td><td>7</td></tr>\n",
       "</tbody>\n",
       "</table>\n"
      ],
      "text/latex": [
       "\\begin{tabular}{ll}\n",
       "\t 2 & 1\\\\\n",
       "\t 5 & 7\\\\\n",
       "\\end{tabular}\n"
      ],
      "text/markdown": [
       "\n",
       "| 2 | 1 |\n",
       "| 5 | 7 |\n",
       "\n"
      ],
      "text/plain": [
       "     [,1] [,2]\n",
       "[1,] 2    1   \n",
       "[2,] 5    7   "
      ]
     },
     "metadata": {},
     "output_type": "display_data"
    }
   ],
   "source": [
    "A <- matrix(c(2, 1,\n",
    "              5, 7), nrow = 2, ncol = 2, byrow = T)\n",
    "\n",
    "A"
   ]
  },
  {
   "cell_type": "markdown",
   "metadata": {},
   "source": [
    "### Create a matrix as a vector for above equation"
   ]
  },
  {
   "cell_type": "code",
   "execution_count": 83,
   "metadata": {},
   "outputs": [
    {
     "data": {
      "text/html": [
       "<table>\n",
       "<tbody>\n",
       "\t<tr><td>11</td></tr>\n",
       "\t<tr><td>13</td></tr>\n",
       "</tbody>\n",
       "</table>\n"
      ],
      "text/latex": [
       "\\begin{tabular}{l}\n",
       "\t 11\\\\\n",
       "\t 13\\\\\n",
       "\\end{tabular}\n"
      ],
      "text/markdown": [
       "\n",
       "| 11 |\n",
       "| 13 |\n",
       "\n"
      ],
      "text/plain": [
       "     [,1]\n",
       "[1,] 11  \n",
       "[2,] 13  "
      ]
     },
     "metadata": {},
     "output_type": "display_data"
    }
   ],
   "source": [
    "b <- matrix(c(11, 13), nrow = 2, ncol = 1, byrow = T)\n",
    "\n",
    "b"
   ]
  },
  {
   "cell_type": "markdown",
   "metadata": {},
   "source": [
    "### Apply jacobi method to solve linear equation"
   ]
  },
  {
   "cell_type": "code",
   "execution_count": 84,
   "metadata": {
    "scrolled": false
   },
   "outputs": [],
   "source": [
    "out1 = lsolve.jacobi(A, b, weight = 1, verbose = F)"
   ]
  },
  {
   "cell_type": "markdown",
   "metadata": {},
   "source": [
    "### Value of `x` and `y` for the solution of equation"
   ]
  },
  {
   "cell_type": "code",
   "execution_count": 85,
   "metadata": {},
   "outputs": [
    {
     "data": {
      "text/html": [
       "<table>\n",
       "<tbody>\n",
       "\t<tr><td> 7.111096</td></tr>\n",
       "\t<tr><td>-3.222161</td></tr>\n",
       "</tbody>\n",
       "</table>\n"
      ],
      "text/latex": [
       "\\begin{tabular}{l}\n",
       "\t  7.111096\\\\\n",
       "\t -3.222161\\\\\n",
       "\\end{tabular}\n"
      ],
      "text/markdown": [
       "\n",
       "|  7.111096 |\n",
       "| -3.222161 |\n",
       "\n"
      ],
      "text/plain": [
       "     [,1]     \n",
       "[1,]  7.111096\n",
       "[2,] -3.222161"
      ]
     },
     "metadata": {},
     "output_type": "display_data"
    }
   ],
   "source": [
    "out1$x"
   ]
  },
  {
   "cell_type": "code",
   "execution_count": 86,
   "metadata": {},
   "outputs": [
    {
     "data": {
      "text/html": [
       "400"
      ],
      "text/latex": [
       "400"
      ],
      "text/markdown": [
       "400"
      ],
      "text/plain": [
       "[1] 400"
      ]
     },
     "metadata": {},
     "output_type": "display_data"
    }
   ],
   "source": [
    "out1$iter"
   ]
  },
  {
   "cell_type": "markdown",
   "metadata": {},
   "source": [
    "### Error in each iteration\n",
    "\n",
    "https://en.wikipedia.org/wiki/Jacobi_method#An_example_using_Python_and_Numpy\n",
    "\n",
    "__error = | A . x - b |__"
   ]
  },
  {
   "cell_type": "code",
   "execution_count": 87,
   "metadata": {},
   "outputs": [
    {
     "data": {
      "text/html": [
       "<table>\n",
       "<tbody>\n",
       "\t<tr><td>0.9825539</td></tr>\n",
       "\t<tr><td>0.9441379</td></tr>\n",
       "\t<tr><td>0.9276664</td></tr>\n",
       "\t<tr><td>0.8913964</td></tr>\n",
       "\t<tr><td>0.8758451</td></tr>\n",
       "\t<tr><td>0.8416012</td></tr>\n",
       "</tbody>\n",
       "</table>\n"
      ],
      "text/latex": [
       "\\begin{tabular}{l}\n",
       "\t 0.9825539\\\\\n",
       "\t 0.9441379\\\\\n",
       "\t 0.9276664\\\\\n",
       "\t 0.8913964\\\\\n",
       "\t 0.8758451\\\\\n",
       "\t 0.8416012\\\\\n",
       "\\end{tabular}\n"
      ],
      "text/markdown": [
       "\n",
       "| 0.9825539 |\n",
       "| 0.9441379 |\n",
       "| 0.9276664 |\n",
       "| 0.8913964 |\n",
       "| 0.8758451 |\n",
       "| 0.8416012 |\n",
       "\n"
      ],
      "text/plain": [
       "     [,1]     \n",
       "[1,] 0.9825539\n",
       "[2,] 0.9441379\n",
       "[3,] 0.9276664\n",
       "[4,] 0.8913964\n",
       "[5,] 0.8758451\n",
       "[6,] 0.8416012"
      ]
     },
     "metadata": {},
     "output_type": "display_data"
    }
   ],
   "source": [
    "head(out1$errors)"
   ]
  },
  {
   "cell_type": "code",
   "execution_count": 88,
   "metadata": {},
   "outputs": [
    {
     "data": {
      "text/html": [
       "<table>\n",
       "<tbody>\n",
       "\t<tr><th scope=row>[396,]</th><td>1.140298e-05</td></tr>\n",
       "\t<tr><th scope=row>[397,]</th><td>1.120404e-05</td></tr>\n",
       "\t<tr><th scope=row>[398,]</th><td>1.076598e-05</td></tr>\n",
       "\t<tr><th scope=row>[399,]</th><td>1.057816e-05</td></tr>\n",
       "\t<tr><th scope=row>[400,]</th><td>1.016457e-05</td></tr>\n",
       "\t<tr><th scope=row>[401,]</th><td>9.987242e-06</td></tr>\n",
       "</tbody>\n",
       "</table>\n"
      ],
      "text/latex": [
       "\\begin{tabular}{r|l}\n",
       "\t{[}396,{]} & 1.140298e-05\\\\\n",
       "\t{[}397,{]} & 1.120404e-05\\\\\n",
       "\t{[}398,{]} & 1.076598e-05\\\\\n",
       "\t{[}399,{]} & 1.057816e-05\\\\\n",
       "\t{[}400,{]} & 1.016457e-05\\\\\n",
       "\t{[}401,{]} & 9.987242e-06\\\\\n",
       "\\end{tabular}\n"
      ],
      "text/markdown": [
       "\n",
       "| [396,] | 1.140298e-05 |\n",
       "| [397,] | 1.120404e-05 |\n",
       "| [398,] | 1.076598e-05 |\n",
       "| [399,] | 1.057816e-05 |\n",
       "| [400,] | 1.016457e-05 |\n",
       "| [401,] | 9.987242e-06 |\n",
       "\n"
      ],
      "text/plain": [
       "       [,1]        \n",
       "[396,] 1.140298e-05\n",
       "[397,] 1.120404e-05\n",
       "[398,] 1.076598e-05\n",
       "[399,] 1.057816e-05\n",
       "[400,] 1.016457e-05\n",
       "[401,] 9.987242e-06"
      ]
     },
     "metadata": {},
     "output_type": "display_data"
    }
   ],
   "source": [
    "tail(out1$errors)"
   ]
  },
  {
   "cell_type": "code",
   "execution_count": 89,
   "metadata": {},
   "outputs": [],
   "source": [
    "error <- out1$errors\n",
    "\n",
    "iteration <- out1$iter"
   ]
  },
  {
   "cell_type": "markdown",
   "metadata": {},
   "source": [
    "### Create sequence of iteration of "
   ]
  },
  {
   "cell_type": "code",
   "execution_count": 92,
   "metadata": {},
   "outputs": [
    {
     "data": {
      "text/html": [
       "<ol class=list-inline>\n",
       "\t<li>0</li>\n",
       "\t<li>1</li>\n",
       "\t<li>2</li>\n",
       "\t<li>3</li>\n",
       "\t<li>4</li>\n",
       "\t<li>5</li>\n",
       "\t<li>6</li>\n",
       "\t<li>7</li>\n",
       "\t<li>8</li>\n",
       "\t<li>9</li>\n",
       "\t<li>10</li>\n",
       "\t<li>11</li>\n",
       "\t<li>12</li>\n",
       "\t<li>13</li>\n",
       "\t<li>14</li>\n",
       "\t<li>15</li>\n",
       "\t<li>16</li>\n",
       "\t<li>17</li>\n",
       "\t<li>18</li>\n",
       "\t<li>19</li>\n",
       "\t<li>20</li>\n",
       "\t<li>21</li>\n",
       "\t<li>22</li>\n",
       "\t<li>23</li>\n",
       "\t<li>24</li>\n",
       "\t<li>25</li>\n",
       "\t<li>26</li>\n",
       "\t<li>27</li>\n",
       "\t<li>28</li>\n",
       "\t<li>29</li>\n",
       "\t<li>30</li>\n",
       "\t<li>31</li>\n",
       "\t<li>32</li>\n",
       "\t<li>33</li>\n",
       "\t<li>34</li>\n",
       "\t<li>35</li>\n",
       "\t<li>36</li>\n",
       "\t<li>37</li>\n",
       "\t<li>38</li>\n",
       "\t<li>39</li>\n",
       "\t<li>40</li>\n",
       "\t<li>41</li>\n",
       "\t<li>42</li>\n",
       "\t<li>43</li>\n",
       "\t<li>44</li>\n",
       "\t<li>45</li>\n",
       "\t<li>46</li>\n",
       "\t<li>47</li>\n",
       "\t<li>48</li>\n",
       "\t<li>49</li>\n",
       "\t<li>50</li>\n",
       "\t<li>51</li>\n",
       "\t<li>52</li>\n",
       "\t<li>53</li>\n",
       "\t<li>54</li>\n",
       "\t<li>55</li>\n",
       "\t<li>56</li>\n",
       "\t<li>57</li>\n",
       "\t<li>58</li>\n",
       "\t<li>59</li>\n",
       "\t<li>60</li>\n",
       "\t<li>61</li>\n",
       "\t<li>62</li>\n",
       "\t<li>63</li>\n",
       "\t<li>64</li>\n",
       "\t<li>65</li>\n",
       "\t<li>66</li>\n",
       "\t<li>67</li>\n",
       "\t<li>68</li>\n",
       "\t<li>69</li>\n",
       "\t<li>70</li>\n",
       "\t<li>71</li>\n",
       "\t<li>72</li>\n",
       "\t<li>73</li>\n",
       "\t<li>74</li>\n",
       "\t<li>75</li>\n",
       "\t<li>76</li>\n",
       "\t<li>77</li>\n",
       "\t<li>78</li>\n",
       "\t<li>79</li>\n",
       "\t<li>80</li>\n",
       "\t<li>81</li>\n",
       "\t<li>82</li>\n",
       "\t<li>83</li>\n",
       "\t<li>84</li>\n",
       "\t<li>85</li>\n",
       "\t<li>86</li>\n",
       "\t<li>87</li>\n",
       "\t<li>88</li>\n",
       "\t<li>89</li>\n",
       "\t<li>90</li>\n",
       "\t<li>91</li>\n",
       "\t<li>92</li>\n",
       "\t<li>93</li>\n",
       "\t<li>94</li>\n",
       "\t<li>95</li>\n",
       "\t<li>96</li>\n",
       "\t<li>97</li>\n",
       "\t<li>98</li>\n",
       "\t<li>99</li>\n",
       "\t<li>100</li>\n",
       "\t<li>101</li>\n",
       "\t<li>102</li>\n",
       "\t<li>103</li>\n",
       "\t<li>104</li>\n",
       "\t<li>105</li>\n",
       "\t<li>106</li>\n",
       "\t<li>107</li>\n",
       "\t<li>108</li>\n",
       "\t<li>109</li>\n",
       "\t<li>110</li>\n",
       "\t<li>111</li>\n",
       "\t<li>112</li>\n",
       "\t<li>113</li>\n",
       "\t<li>114</li>\n",
       "\t<li>115</li>\n",
       "\t<li>116</li>\n",
       "\t<li>117</li>\n",
       "\t<li>118</li>\n",
       "\t<li>119</li>\n",
       "\t<li>120</li>\n",
       "\t<li>121</li>\n",
       "\t<li>122</li>\n",
       "\t<li>123</li>\n",
       "\t<li>124</li>\n",
       "\t<li>125</li>\n",
       "\t<li>126</li>\n",
       "\t<li>127</li>\n",
       "\t<li>128</li>\n",
       "\t<li>129</li>\n",
       "\t<li>130</li>\n",
       "\t<li>131</li>\n",
       "\t<li>132</li>\n",
       "\t<li>133</li>\n",
       "\t<li>134</li>\n",
       "\t<li>135</li>\n",
       "\t<li>136</li>\n",
       "\t<li>137</li>\n",
       "\t<li>138</li>\n",
       "\t<li>139</li>\n",
       "\t<li>140</li>\n",
       "\t<li>141</li>\n",
       "\t<li>142</li>\n",
       "\t<li>143</li>\n",
       "\t<li>144</li>\n",
       "\t<li>145</li>\n",
       "\t<li>146</li>\n",
       "\t<li>147</li>\n",
       "\t<li>148</li>\n",
       "\t<li>149</li>\n",
       "\t<li>150</li>\n",
       "\t<li>151</li>\n",
       "\t<li>152</li>\n",
       "\t<li>153</li>\n",
       "\t<li>154</li>\n",
       "\t<li>155</li>\n",
       "\t<li>156</li>\n",
       "\t<li>157</li>\n",
       "\t<li>158</li>\n",
       "\t<li>159</li>\n",
       "\t<li>160</li>\n",
       "\t<li>161</li>\n",
       "\t<li>162</li>\n",
       "\t<li>163</li>\n",
       "\t<li>164</li>\n",
       "\t<li>165</li>\n",
       "\t<li>166</li>\n",
       "\t<li>167</li>\n",
       "\t<li>168</li>\n",
       "\t<li>169</li>\n",
       "\t<li>170</li>\n",
       "\t<li>171</li>\n",
       "\t<li>172</li>\n",
       "\t<li>173</li>\n",
       "\t<li>174</li>\n",
       "\t<li>175</li>\n",
       "\t<li>176</li>\n",
       "\t<li>177</li>\n",
       "\t<li>178</li>\n",
       "\t<li>179</li>\n",
       "\t<li>180</li>\n",
       "\t<li>181</li>\n",
       "\t<li>182</li>\n",
       "\t<li>183</li>\n",
       "\t<li>184</li>\n",
       "\t<li>185</li>\n",
       "\t<li>186</li>\n",
       "\t<li>187</li>\n",
       "\t<li>188</li>\n",
       "\t<li>189</li>\n",
       "\t<li>190</li>\n",
       "\t<li>191</li>\n",
       "\t<li>192</li>\n",
       "\t<li>193</li>\n",
       "\t<li>194</li>\n",
       "\t<li>195</li>\n",
       "\t<li>196</li>\n",
       "\t<li>197</li>\n",
       "\t<li>198</li>\n",
       "\t<li>199</li>\n",
       "\t<li>200</li>\n",
       "\t<li>201</li>\n",
       "\t<li>202</li>\n",
       "\t<li>203</li>\n",
       "\t<li>204</li>\n",
       "\t<li>205</li>\n",
       "\t<li>206</li>\n",
       "\t<li>207</li>\n",
       "\t<li>208</li>\n",
       "\t<li>209</li>\n",
       "\t<li>210</li>\n",
       "\t<li>211</li>\n",
       "\t<li>212</li>\n",
       "\t<li>213</li>\n",
       "\t<li>214</li>\n",
       "\t<li>215</li>\n",
       "\t<li>216</li>\n",
       "\t<li>217</li>\n",
       "\t<li>218</li>\n",
       "\t<li>219</li>\n",
       "\t<li>220</li>\n",
       "\t<li>221</li>\n",
       "\t<li>222</li>\n",
       "\t<li>223</li>\n",
       "\t<li>224</li>\n",
       "\t<li>225</li>\n",
       "\t<li>226</li>\n",
       "\t<li>227</li>\n",
       "\t<li>228</li>\n",
       "\t<li>229</li>\n",
       "\t<li>230</li>\n",
       "\t<li>231</li>\n",
       "\t<li>232</li>\n",
       "\t<li>233</li>\n",
       "\t<li>234</li>\n",
       "\t<li>235</li>\n",
       "\t<li>236</li>\n",
       "\t<li>237</li>\n",
       "\t<li>238</li>\n",
       "\t<li>239</li>\n",
       "\t<li>240</li>\n",
       "\t<li>241</li>\n",
       "\t<li>242</li>\n",
       "\t<li>243</li>\n",
       "\t<li>244</li>\n",
       "\t<li>245</li>\n",
       "\t<li>246</li>\n",
       "\t<li>247</li>\n",
       "\t<li>248</li>\n",
       "\t<li>249</li>\n",
       "\t<li>250</li>\n",
       "\t<li>251</li>\n",
       "\t<li>252</li>\n",
       "\t<li>253</li>\n",
       "\t<li>254</li>\n",
       "\t<li>255</li>\n",
       "\t<li>256</li>\n",
       "\t<li>257</li>\n",
       "\t<li>258</li>\n",
       "\t<li>259</li>\n",
       "\t<li>260</li>\n",
       "\t<li>261</li>\n",
       "\t<li>262</li>\n",
       "\t<li>263</li>\n",
       "\t<li>264</li>\n",
       "\t<li>265</li>\n",
       "\t<li>266</li>\n",
       "\t<li>267</li>\n",
       "\t<li>268</li>\n",
       "\t<li>269</li>\n",
       "\t<li>270</li>\n",
       "\t<li>271</li>\n",
       "\t<li>272</li>\n",
       "\t<li>273</li>\n",
       "\t<li>274</li>\n",
       "\t<li>275</li>\n",
       "\t<li>276</li>\n",
       "\t<li>277</li>\n",
       "\t<li>278</li>\n",
       "\t<li>279</li>\n",
       "\t<li>280</li>\n",
       "\t<li>281</li>\n",
       "\t<li>282</li>\n",
       "\t<li>283</li>\n",
       "\t<li>284</li>\n",
       "\t<li>285</li>\n",
       "\t<li>286</li>\n",
       "\t<li>287</li>\n",
       "\t<li>288</li>\n",
       "\t<li>289</li>\n",
       "\t<li>290</li>\n",
       "\t<li>291</li>\n",
       "\t<li>292</li>\n",
       "\t<li>293</li>\n",
       "\t<li>294</li>\n",
       "\t<li>295</li>\n",
       "\t<li>296</li>\n",
       "\t<li>297</li>\n",
       "\t<li>298</li>\n",
       "\t<li>299</li>\n",
       "\t<li>300</li>\n",
       "\t<li>301</li>\n",
       "\t<li>302</li>\n",
       "\t<li>303</li>\n",
       "\t<li>304</li>\n",
       "\t<li>305</li>\n",
       "\t<li>306</li>\n",
       "\t<li>307</li>\n",
       "\t<li>308</li>\n",
       "\t<li>309</li>\n",
       "\t<li>310</li>\n",
       "\t<li>311</li>\n",
       "\t<li>312</li>\n",
       "\t<li>313</li>\n",
       "\t<li>314</li>\n",
       "\t<li>315</li>\n",
       "\t<li>316</li>\n",
       "\t<li>317</li>\n",
       "\t<li>318</li>\n",
       "\t<li>319</li>\n",
       "\t<li>320</li>\n",
       "\t<li>321</li>\n",
       "\t<li>322</li>\n",
       "\t<li>323</li>\n",
       "\t<li>324</li>\n",
       "\t<li>325</li>\n",
       "\t<li>326</li>\n",
       "\t<li>327</li>\n",
       "\t<li>328</li>\n",
       "\t<li>329</li>\n",
       "\t<li>330</li>\n",
       "\t<li>331</li>\n",
       "\t<li>332</li>\n",
       "\t<li>333</li>\n",
       "\t<li>334</li>\n",
       "\t<li>335</li>\n",
       "\t<li>336</li>\n",
       "\t<li>337</li>\n",
       "\t<li>338</li>\n",
       "\t<li>339</li>\n",
       "\t<li>340</li>\n",
       "\t<li>341</li>\n",
       "\t<li>342</li>\n",
       "\t<li>343</li>\n",
       "\t<li>344</li>\n",
       "\t<li>345</li>\n",
       "\t<li>346</li>\n",
       "\t<li>347</li>\n",
       "\t<li>348</li>\n",
       "\t<li>349</li>\n",
       "\t<li>350</li>\n",
       "\t<li>351</li>\n",
       "\t<li>352</li>\n",
       "\t<li>353</li>\n",
       "\t<li>354</li>\n",
       "\t<li>355</li>\n",
       "\t<li>356</li>\n",
       "\t<li>357</li>\n",
       "\t<li>358</li>\n",
       "\t<li>359</li>\n",
       "\t<li>360</li>\n",
       "\t<li>361</li>\n",
       "\t<li>362</li>\n",
       "\t<li>363</li>\n",
       "\t<li>364</li>\n",
       "\t<li>365</li>\n",
       "\t<li>366</li>\n",
       "\t<li>367</li>\n",
       "\t<li>368</li>\n",
       "\t<li>369</li>\n",
       "\t<li>370</li>\n",
       "\t<li>371</li>\n",
       "\t<li>372</li>\n",
       "\t<li>373</li>\n",
       "\t<li>374</li>\n",
       "\t<li>375</li>\n",
       "\t<li>376</li>\n",
       "\t<li>377</li>\n",
       "\t<li>378</li>\n",
       "\t<li>379</li>\n",
       "\t<li>380</li>\n",
       "\t<li>381</li>\n",
       "\t<li>382</li>\n",
       "\t<li>383</li>\n",
       "\t<li>384</li>\n",
       "\t<li>385</li>\n",
       "\t<li>386</li>\n",
       "\t<li>387</li>\n",
       "\t<li>388</li>\n",
       "\t<li>389</li>\n",
       "\t<li>390</li>\n",
       "\t<li>391</li>\n",
       "\t<li>392</li>\n",
       "\t<li>393</li>\n",
       "\t<li>394</li>\n",
       "\t<li>395</li>\n",
       "\t<li>396</li>\n",
       "\t<li>397</li>\n",
       "\t<li>398</li>\n",
       "\t<li>399</li>\n",
       "\t<li>400</li>\n",
       "</ol>\n"
      ],
      "text/latex": [
       "\\begin{enumerate*}\n",
       "\\item 0\n",
       "\\item 1\n",
       "\\item 2\n",
       "\\item 3\n",
       "\\item 4\n",
       "\\item 5\n",
       "\\item 6\n",
       "\\item 7\n",
       "\\item 8\n",
       "\\item 9\n",
       "\\item 10\n",
       "\\item 11\n",
       "\\item 12\n",
       "\\item 13\n",
       "\\item 14\n",
       "\\item 15\n",
       "\\item 16\n",
       "\\item 17\n",
       "\\item 18\n",
       "\\item 19\n",
       "\\item 20\n",
       "\\item 21\n",
       "\\item 22\n",
       "\\item 23\n",
       "\\item 24\n",
       "\\item 25\n",
       "\\item 26\n",
       "\\item 27\n",
       "\\item 28\n",
       "\\item 29\n",
       "\\item 30\n",
       "\\item 31\n",
       "\\item 32\n",
       "\\item 33\n",
       "\\item 34\n",
       "\\item 35\n",
       "\\item 36\n",
       "\\item 37\n",
       "\\item 38\n",
       "\\item 39\n",
       "\\item 40\n",
       "\\item 41\n",
       "\\item 42\n",
       "\\item 43\n",
       "\\item 44\n",
       "\\item 45\n",
       "\\item 46\n",
       "\\item 47\n",
       "\\item 48\n",
       "\\item 49\n",
       "\\item 50\n",
       "\\item 51\n",
       "\\item 52\n",
       "\\item 53\n",
       "\\item 54\n",
       "\\item 55\n",
       "\\item 56\n",
       "\\item 57\n",
       "\\item 58\n",
       "\\item 59\n",
       "\\item 60\n",
       "\\item 61\n",
       "\\item 62\n",
       "\\item 63\n",
       "\\item 64\n",
       "\\item 65\n",
       "\\item 66\n",
       "\\item 67\n",
       "\\item 68\n",
       "\\item 69\n",
       "\\item 70\n",
       "\\item 71\n",
       "\\item 72\n",
       "\\item 73\n",
       "\\item 74\n",
       "\\item 75\n",
       "\\item 76\n",
       "\\item 77\n",
       "\\item 78\n",
       "\\item 79\n",
       "\\item 80\n",
       "\\item 81\n",
       "\\item 82\n",
       "\\item 83\n",
       "\\item 84\n",
       "\\item 85\n",
       "\\item 86\n",
       "\\item 87\n",
       "\\item 88\n",
       "\\item 89\n",
       "\\item 90\n",
       "\\item 91\n",
       "\\item 92\n",
       "\\item 93\n",
       "\\item 94\n",
       "\\item 95\n",
       "\\item 96\n",
       "\\item 97\n",
       "\\item 98\n",
       "\\item 99\n",
       "\\item 100\n",
       "\\item 101\n",
       "\\item 102\n",
       "\\item 103\n",
       "\\item 104\n",
       "\\item 105\n",
       "\\item 106\n",
       "\\item 107\n",
       "\\item 108\n",
       "\\item 109\n",
       "\\item 110\n",
       "\\item 111\n",
       "\\item 112\n",
       "\\item 113\n",
       "\\item 114\n",
       "\\item 115\n",
       "\\item 116\n",
       "\\item 117\n",
       "\\item 118\n",
       "\\item 119\n",
       "\\item 120\n",
       "\\item 121\n",
       "\\item 122\n",
       "\\item 123\n",
       "\\item 124\n",
       "\\item 125\n",
       "\\item 126\n",
       "\\item 127\n",
       "\\item 128\n",
       "\\item 129\n",
       "\\item 130\n",
       "\\item 131\n",
       "\\item 132\n",
       "\\item 133\n",
       "\\item 134\n",
       "\\item 135\n",
       "\\item 136\n",
       "\\item 137\n",
       "\\item 138\n",
       "\\item 139\n",
       "\\item 140\n",
       "\\item 141\n",
       "\\item 142\n",
       "\\item 143\n",
       "\\item 144\n",
       "\\item 145\n",
       "\\item 146\n",
       "\\item 147\n",
       "\\item 148\n",
       "\\item 149\n",
       "\\item 150\n",
       "\\item 151\n",
       "\\item 152\n",
       "\\item 153\n",
       "\\item 154\n",
       "\\item 155\n",
       "\\item 156\n",
       "\\item 157\n",
       "\\item 158\n",
       "\\item 159\n",
       "\\item 160\n",
       "\\item 161\n",
       "\\item 162\n",
       "\\item 163\n",
       "\\item 164\n",
       "\\item 165\n",
       "\\item 166\n",
       "\\item 167\n",
       "\\item 168\n",
       "\\item 169\n",
       "\\item 170\n",
       "\\item 171\n",
       "\\item 172\n",
       "\\item 173\n",
       "\\item 174\n",
       "\\item 175\n",
       "\\item 176\n",
       "\\item 177\n",
       "\\item 178\n",
       "\\item 179\n",
       "\\item 180\n",
       "\\item 181\n",
       "\\item 182\n",
       "\\item 183\n",
       "\\item 184\n",
       "\\item 185\n",
       "\\item 186\n",
       "\\item 187\n",
       "\\item 188\n",
       "\\item 189\n",
       "\\item 190\n",
       "\\item 191\n",
       "\\item 192\n",
       "\\item 193\n",
       "\\item 194\n",
       "\\item 195\n",
       "\\item 196\n",
       "\\item 197\n",
       "\\item 198\n",
       "\\item 199\n",
       "\\item 200\n",
       "\\item 201\n",
       "\\item 202\n",
       "\\item 203\n",
       "\\item 204\n",
       "\\item 205\n",
       "\\item 206\n",
       "\\item 207\n",
       "\\item 208\n",
       "\\item 209\n",
       "\\item 210\n",
       "\\item 211\n",
       "\\item 212\n",
       "\\item 213\n",
       "\\item 214\n",
       "\\item 215\n",
       "\\item 216\n",
       "\\item 217\n",
       "\\item 218\n",
       "\\item 219\n",
       "\\item 220\n",
       "\\item 221\n",
       "\\item 222\n",
       "\\item 223\n",
       "\\item 224\n",
       "\\item 225\n",
       "\\item 226\n",
       "\\item 227\n",
       "\\item 228\n",
       "\\item 229\n",
       "\\item 230\n",
       "\\item 231\n",
       "\\item 232\n",
       "\\item 233\n",
       "\\item 234\n",
       "\\item 235\n",
       "\\item 236\n",
       "\\item 237\n",
       "\\item 238\n",
       "\\item 239\n",
       "\\item 240\n",
       "\\item 241\n",
       "\\item 242\n",
       "\\item 243\n",
       "\\item 244\n",
       "\\item 245\n",
       "\\item 246\n",
       "\\item 247\n",
       "\\item 248\n",
       "\\item 249\n",
       "\\item 250\n",
       "\\item 251\n",
       "\\item 252\n",
       "\\item 253\n",
       "\\item 254\n",
       "\\item 255\n",
       "\\item 256\n",
       "\\item 257\n",
       "\\item 258\n",
       "\\item 259\n",
       "\\item 260\n",
       "\\item 261\n",
       "\\item 262\n",
       "\\item 263\n",
       "\\item 264\n",
       "\\item 265\n",
       "\\item 266\n",
       "\\item 267\n",
       "\\item 268\n",
       "\\item 269\n",
       "\\item 270\n",
       "\\item 271\n",
       "\\item 272\n",
       "\\item 273\n",
       "\\item 274\n",
       "\\item 275\n",
       "\\item 276\n",
       "\\item 277\n",
       "\\item 278\n",
       "\\item 279\n",
       "\\item 280\n",
       "\\item 281\n",
       "\\item 282\n",
       "\\item 283\n",
       "\\item 284\n",
       "\\item 285\n",
       "\\item 286\n",
       "\\item 287\n",
       "\\item 288\n",
       "\\item 289\n",
       "\\item 290\n",
       "\\item 291\n",
       "\\item 292\n",
       "\\item 293\n",
       "\\item 294\n",
       "\\item 295\n",
       "\\item 296\n",
       "\\item 297\n",
       "\\item 298\n",
       "\\item 299\n",
       "\\item 300\n",
       "\\item 301\n",
       "\\item 302\n",
       "\\item 303\n",
       "\\item 304\n",
       "\\item 305\n",
       "\\item 306\n",
       "\\item 307\n",
       "\\item 308\n",
       "\\item 309\n",
       "\\item 310\n",
       "\\item 311\n",
       "\\item 312\n",
       "\\item 313\n",
       "\\item 314\n",
       "\\item 315\n",
       "\\item 316\n",
       "\\item 317\n",
       "\\item 318\n",
       "\\item 319\n",
       "\\item 320\n",
       "\\item 321\n",
       "\\item 322\n",
       "\\item 323\n",
       "\\item 324\n",
       "\\item 325\n",
       "\\item 326\n",
       "\\item 327\n",
       "\\item 328\n",
       "\\item 329\n",
       "\\item 330\n",
       "\\item 331\n",
       "\\item 332\n",
       "\\item 333\n",
       "\\item 334\n",
       "\\item 335\n",
       "\\item 336\n",
       "\\item 337\n",
       "\\item 338\n",
       "\\item 339\n",
       "\\item 340\n",
       "\\item 341\n",
       "\\item 342\n",
       "\\item 343\n",
       "\\item 344\n",
       "\\item 345\n",
       "\\item 346\n",
       "\\item 347\n",
       "\\item 348\n",
       "\\item 349\n",
       "\\item 350\n",
       "\\item 351\n",
       "\\item 352\n",
       "\\item 353\n",
       "\\item 354\n",
       "\\item 355\n",
       "\\item 356\n",
       "\\item 357\n",
       "\\item 358\n",
       "\\item 359\n",
       "\\item 360\n",
       "\\item 361\n",
       "\\item 362\n",
       "\\item 363\n",
       "\\item 364\n",
       "\\item 365\n",
       "\\item 366\n",
       "\\item 367\n",
       "\\item 368\n",
       "\\item 369\n",
       "\\item 370\n",
       "\\item 371\n",
       "\\item 372\n",
       "\\item 373\n",
       "\\item 374\n",
       "\\item 375\n",
       "\\item 376\n",
       "\\item 377\n",
       "\\item 378\n",
       "\\item 379\n",
       "\\item 380\n",
       "\\item 381\n",
       "\\item 382\n",
       "\\item 383\n",
       "\\item 384\n",
       "\\item 385\n",
       "\\item 386\n",
       "\\item 387\n",
       "\\item 388\n",
       "\\item 389\n",
       "\\item 390\n",
       "\\item 391\n",
       "\\item 392\n",
       "\\item 393\n",
       "\\item 394\n",
       "\\item 395\n",
       "\\item 396\n",
       "\\item 397\n",
       "\\item 398\n",
       "\\item 399\n",
       "\\item 400\n",
       "\\end{enumerate*}\n"
      ],
      "text/markdown": [
       "1. 0\n",
       "2. 1\n",
       "3. 2\n",
       "4. 3\n",
       "5. 4\n",
       "6. 5\n",
       "7. 6\n",
       "8. 7\n",
       "9. 8\n",
       "10. 9\n",
       "11. 10\n",
       "12. 11\n",
       "13. 12\n",
       "14. 13\n",
       "15. 14\n",
       "16. 15\n",
       "17. 16\n",
       "18. 17\n",
       "19. 18\n",
       "20. 19\n",
       "21. 20\n",
       "22. 21\n",
       "23. 22\n",
       "24. 23\n",
       "25. 24\n",
       "26. 25\n",
       "27. 26\n",
       "28. 27\n",
       "29. 28\n",
       "30. 29\n",
       "31. 30\n",
       "32. 31\n",
       "33. 32\n",
       "34. 33\n",
       "35. 34\n",
       "36. 35\n",
       "37. 36\n",
       "38. 37\n",
       "39. 38\n",
       "40. 39\n",
       "41. 40\n",
       "42. 41\n",
       "43. 42\n",
       "44. 43\n",
       "45. 44\n",
       "46. 45\n",
       "47. 46\n",
       "48. 47\n",
       "49. 48\n",
       "50. 49\n",
       "51. 50\n",
       "52. 51\n",
       "53. 52\n",
       "54. 53\n",
       "55. 54\n",
       "56. 55\n",
       "57. 56\n",
       "58. 57\n",
       "59. 58\n",
       "60. 59\n",
       "61. 60\n",
       "62. 61\n",
       "63. 62\n",
       "64. 63\n",
       "65. 64\n",
       "66. 65\n",
       "67. 66\n",
       "68. 67\n",
       "69. 68\n",
       "70. 69\n",
       "71. 70\n",
       "72. 71\n",
       "73. 72\n",
       "74. 73\n",
       "75. 74\n",
       "76. 75\n",
       "77. 76\n",
       "78. 77\n",
       "79. 78\n",
       "80. 79\n",
       "81. 80\n",
       "82. 81\n",
       "83. 82\n",
       "84. 83\n",
       "85. 84\n",
       "86. 85\n",
       "87. 86\n",
       "88. 87\n",
       "89. 88\n",
       "90. 89\n",
       "91. 90\n",
       "92. 91\n",
       "93. 92\n",
       "94. 93\n",
       "95. 94\n",
       "96. 95\n",
       "97. 96\n",
       "98. 97\n",
       "99. 98\n",
       "100. 99\n",
       "101. 100\n",
       "102. 101\n",
       "103. 102\n",
       "104. 103\n",
       "105. 104\n",
       "106. 105\n",
       "107. 106\n",
       "108. 107\n",
       "109. 108\n",
       "110. 109\n",
       "111. 110\n",
       "112. 111\n",
       "113. 112\n",
       "114. 113\n",
       "115. 114\n",
       "116. 115\n",
       "117. 116\n",
       "118. 117\n",
       "119. 118\n",
       "120. 119\n",
       "121. 120\n",
       "122. 121\n",
       "123. 122\n",
       "124. 123\n",
       "125. 124\n",
       "126. 125\n",
       "127. 126\n",
       "128. 127\n",
       "129. 128\n",
       "130. 129\n",
       "131. 130\n",
       "132. 131\n",
       "133. 132\n",
       "134. 133\n",
       "135. 134\n",
       "136. 135\n",
       "137. 136\n",
       "138. 137\n",
       "139. 138\n",
       "140. 139\n",
       "141. 140\n",
       "142. 141\n",
       "143. 142\n",
       "144. 143\n",
       "145. 144\n",
       "146. 145\n",
       "147. 146\n",
       "148. 147\n",
       "149. 148\n",
       "150. 149\n",
       "151. 150\n",
       "152. 151\n",
       "153. 152\n",
       "154. 153\n",
       "155. 154\n",
       "156. 155\n",
       "157. 156\n",
       "158. 157\n",
       "159. 158\n",
       "160. 159\n",
       "161. 160\n",
       "162. 161\n",
       "163. 162\n",
       "164. 163\n",
       "165. 164\n",
       "166. 165\n",
       "167. 166\n",
       "168. 167\n",
       "169. 168\n",
       "170. 169\n",
       "171. 170\n",
       "172. 171\n",
       "173. 172\n",
       "174. 173\n",
       "175. 174\n",
       "176. 175\n",
       "177. 176\n",
       "178. 177\n",
       "179. 178\n",
       "180. 179\n",
       "181. 180\n",
       "182. 181\n",
       "183. 182\n",
       "184. 183\n",
       "185. 184\n",
       "186. 185\n",
       "187. 186\n",
       "188. 187\n",
       "189. 188\n",
       "190. 189\n",
       "191. 190\n",
       "192. 191\n",
       "193. 192\n",
       "194. 193\n",
       "195. 194\n",
       "196. 195\n",
       "197. 196\n",
       "198. 197\n",
       "199. 198\n",
       "200. 199\n",
       "201. 200\n",
       "202. 201\n",
       "203. 202\n",
       "204. 203\n",
       "205. 204\n",
       "206. 205\n",
       "207. 206\n",
       "208. 207\n",
       "209. 208\n",
       "210. 209\n",
       "211. 210\n",
       "212. 211\n",
       "213. 212\n",
       "214. 213\n",
       "215. 214\n",
       "216. 215\n",
       "217. 216\n",
       "218. 217\n",
       "219. 218\n",
       "220. 219\n",
       "221. 220\n",
       "222. 221\n",
       "223. 222\n",
       "224. 223\n",
       "225. 224\n",
       "226. 225\n",
       "227. 226\n",
       "228. 227\n",
       "229. 228\n",
       "230. 229\n",
       "231. 230\n",
       "232. 231\n",
       "233. 232\n",
       "234. 233\n",
       "235. 234\n",
       "236. 235\n",
       "237. 236\n",
       "238. 237\n",
       "239. 238\n",
       "240. 239\n",
       "241. 240\n",
       "242. 241\n",
       "243. 242\n",
       "244. 243\n",
       "245. 244\n",
       "246. 245\n",
       "247. 246\n",
       "248. 247\n",
       "249. 248\n",
       "250. 249\n",
       "251. 250\n",
       "252. 251\n",
       "253. 252\n",
       "254. 253\n",
       "255. 254\n",
       "256. 255\n",
       "257. 256\n",
       "258. 257\n",
       "259. 258\n",
       "260. 259\n",
       "261. 260\n",
       "262. 261\n",
       "263. 262\n",
       "264. 263\n",
       "265. 264\n",
       "266. 265\n",
       "267. 266\n",
       "268. 267\n",
       "269. 268\n",
       "270. 269\n",
       "271. 270\n",
       "272. 271\n",
       "273. 272\n",
       "274. 273\n",
       "275. 274\n",
       "276. 275\n",
       "277. 276\n",
       "278. 277\n",
       "279. 278\n",
       "280. 279\n",
       "281. 280\n",
       "282. 281\n",
       "283. 282\n",
       "284. 283\n",
       "285. 284\n",
       "286. 285\n",
       "287. 286\n",
       "288. 287\n",
       "289. 288\n",
       "290. 289\n",
       "291. 290\n",
       "292. 291\n",
       "293. 292\n",
       "294. 293\n",
       "295. 294\n",
       "296. 295\n",
       "297. 296\n",
       "298. 297\n",
       "299. 298\n",
       "300. 299\n",
       "301. 300\n",
       "302. 301\n",
       "303. 302\n",
       "304. 303\n",
       "305. 304\n",
       "306. 305\n",
       "307. 306\n",
       "308. 307\n",
       "309. 308\n",
       "310. 309\n",
       "311. 310\n",
       "312. 311\n",
       "313. 312\n",
       "314. 313\n",
       "315. 314\n",
       "316. 315\n",
       "317. 316\n",
       "318. 317\n",
       "319. 318\n",
       "320. 319\n",
       "321. 320\n",
       "322. 321\n",
       "323. 322\n",
       "324. 323\n",
       "325. 324\n",
       "326. 325\n",
       "327. 326\n",
       "328. 327\n",
       "329. 328\n",
       "330. 329\n",
       "331. 330\n",
       "332. 331\n",
       "333. 332\n",
       "334. 333\n",
       "335. 334\n",
       "336. 335\n",
       "337. 336\n",
       "338. 337\n",
       "339. 338\n",
       "340. 339\n",
       "341. 340\n",
       "342. 341\n",
       "343. 342\n",
       "344. 343\n",
       "345. 344\n",
       "346. 345\n",
       "347. 346\n",
       "348. 347\n",
       "349. 348\n",
       "350. 349\n",
       "351. 350\n",
       "352. 351\n",
       "353. 352\n",
       "354. 353\n",
       "355. 354\n",
       "356. 355\n",
       "357. 356\n",
       "358. 357\n",
       "359. 358\n",
       "360. 359\n",
       "361. 360\n",
       "362. 361\n",
       "363. 362\n",
       "364. 363\n",
       "365. 364\n",
       "366. 365\n",
       "367. 366\n",
       "368. 367\n",
       "369. 368\n",
       "370. 369\n",
       "371. 370\n",
       "372. 371\n",
       "373. 372\n",
       "374. 373\n",
       "375. 374\n",
       "376. 375\n",
       "377. 376\n",
       "378. 377\n",
       "379. 378\n",
       "380. 379\n",
       "381. 380\n",
       "382. 381\n",
       "383. 382\n",
       "384. 383\n",
       "385. 384\n",
       "386. 385\n",
       "387. 386\n",
       "388. 387\n",
       "389. 388\n",
       "390. 389\n",
       "391. 390\n",
       "392. 391\n",
       "393. 392\n",
       "394. 393\n",
       "395. 394\n",
       "396. 395\n",
       "397. 396\n",
       "398. 397\n",
       "399. 398\n",
       "400. 399\n",
       "401. 400\n",
       "\n",
       "\n"
      ],
      "text/plain": [
       "  [1]   0   1   2   3   4   5   6   7   8   9  10  11  12  13  14  15  16  17\n",
       " [19]  18  19  20  21  22  23  24  25  26  27  28  29  30  31  32  33  34  35\n",
       " [37]  36  37  38  39  40  41  42  43  44  45  46  47  48  49  50  51  52  53\n",
       " [55]  54  55  56  57  58  59  60  61  62  63  64  65  66  67  68  69  70  71\n",
       " [73]  72  73  74  75  76  77  78  79  80  81  82  83  84  85  86  87  88  89\n",
       " [91]  90  91  92  93  94  95  96  97  98  99 100 101 102 103 104 105 106 107\n",
       "[109] 108 109 110 111 112 113 114 115 116 117 118 119 120 121 122 123 124 125\n",
       "[127] 126 127 128 129 130 131 132 133 134 135 136 137 138 139 140 141 142 143\n",
       "[145] 144 145 146 147 148 149 150 151 152 153 154 155 156 157 158 159 160 161\n",
       "[163] 162 163 164 165 166 167 168 169 170 171 172 173 174 175 176 177 178 179\n",
       "[181] 180 181 182 183 184 185 186 187 188 189 190 191 192 193 194 195 196 197\n",
       "[199] 198 199 200 201 202 203 204 205 206 207 208 209 210 211 212 213 214 215\n",
       "[217] 216 217 218 219 220 221 222 223 224 225 226 227 228 229 230 231 232 233\n",
       "[235] 234 235 236 237 238 239 240 241 242 243 244 245 246 247 248 249 250 251\n",
       "[253] 252 253 254 255 256 257 258 259 260 261 262 263 264 265 266 267 268 269\n",
       "[271] 270 271 272 273 274 275 276 277 278 279 280 281 282 283 284 285 286 287\n",
       "[289] 288 289 290 291 292 293 294 295 296 297 298 299 300 301 302 303 304 305\n",
       "[307] 306 307 308 309 310 311 312 313 314 315 316 317 318 319 320 321 322 323\n",
       "[325] 324 325 326 327 328 329 330 331 332 333 334 335 336 337 338 339 340 341\n",
       "[343] 342 343 344 345 346 347 348 349 350 351 352 353 354 355 356 357 358 359\n",
       "[361] 360 361 362 363 364 365 366 367 368 369 370 371 372 373 374 375 376 377\n",
       "[379] 378 379 380 381 382 383 384 385 386 387 388 389 390 391 392 393 394 395\n",
       "[397] 396 397 398 399 400"
      ]
     },
     "metadata": {},
     "output_type": "display_data"
    }
   ],
   "source": [
    "iter_seq <- seq.int(0, iteration, 1)\n",
    "\n",
    "iter_seq"
   ]
  },
  {
   "cell_type": "markdown",
   "metadata": {},
   "source": [
    "### Fit it into data frame"
   ]
  },
  {
   "cell_type": "code",
   "execution_count": 93,
   "metadata": {},
   "outputs": [
    {
     "data": {
      "text/html": [
       "<table>\n",
       "<thead><tr><th scope=col>iter_seq</th><th scope=col>error</th></tr></thead>\n",
       "<tbody>\n",
       "\t<tr><td>0        </td><td>0.9825539</td></tr>\n",
       "\t<tr><td>1        </td><td>0.9441379</td></tr>\n",
       "\t<tr><td>2        </td><td>0.9276664</td></tr>\n",
       "\t<tr><td>3        </td><td>0.8913964</td></tr>\n",
       "\t<tr><td>4        </td><td>0.8758451</td></tr>\n",
       "\t<tr><td>5        </td><td>0.8416012</td></tr>\n",
       "</tbody>\n",
       "</table>\n"
      ],
      "text/latex": [
       "\\begin{tabular}{r|ll}\n",
       " iter\\_seq & error\\\\\n",
       "\\hline\n",
       "\t 0         & 0.9825539\\\\\n",
       "\t 1         & 0.9441379\\\\\n",
       "\t 2         & 0.9276664\\\\\n",
       "\t 3         & 0.8913964\\\\\n",
       "\t 4         & 0.8758451\\\\\n",
       "\t 5         & 0.8416012\\\\\n",
       "\\end{tabular}\n"
      ],
      "text/markdown": [
       "\n",
       "| iter_seq | error |\n",
       "|---|---|\n",
       "| 0         | 0.9825539 |\n",
       "| 1         | 0.9441379 |\n",
       "| 2         | 0.9276664 |\n",
       "| 3         | 0.8913964 |\n",
       "| 4         | 0.8758451 |\n",
       "| 5         | 0.8416012 |\n",
       "\n"
      ],
      "text/plain": [
       "  iter_seq error    \n",
       "1 0        0.9825539\n",
       "2 1        0.9441379\n",
       "3 2        0.9276664\n",
       "4 3        0.8913964\n",
       "5 4        0.8758451\n",
       "6 5        0.8416012"
      ]
     },
     "metadata": {},
     "output_type": "display_data"
    }
   ],
   "source": [
    "error_per_iter <- data.frame(iter_seq, error)\n",
    "\n",
    "head(error_per_iter)"
   ]
  },
  {
   "cell_type": "markdown",
   "metadata": {},
   "source": [
    "### Error \n",
    "\n",
    "https://en.wikipedia.org/wiki/Jacobi_method#An_example_using_Python_and_Numpy\n",
    "\n",
    "__error = | A . x - b |__"
   ]
  },
  {
   "cell_type": "markdown",
   "metadata": {},
   "source": [
    "### Graph between error vs iteration"
   ]
  },
  {
   "cell_type": "code",
   "execution_count": 94,
   "metadata": {},
   "outputs": [
    {
     "data": {
      "image/png": "[encoded data removed]",
      "text/plain": [
       "plot without title"
      ]
     },
     "metadata": {},
     "output_type": "display_data"
    }
   ],
   "source": [
    "ggplot(error_per_iter, aes(x = iter_seq, y = error)) + \n",
    "                        geom_line(col = 'red', size = 2) "
   ]
  },
  {
   "cell_type": "markdown",
   "metadata": {},
   "source": [
    "### Apply jacobi method with weight = `0.66`"
   ]
  },
  {
   "cell_type": "code",
   "execution_count": 95,
   "metadata": {},
   "outputs": [
    {
     "data": {
      "text/html": [
       "<table>\n",
       "<tbody>\n",
       "\t<tr><td> 7.109709</td></tr>\n",
       "\t<tr><td>-3.221154</td></tr>\n",
       "</tbody>\n",
       "</table>\n"
      ],
      "text/latex": [
       "\\begin{tabular}{l}\n",
       "\t  7.109709\\\\\n",
       "\t -3.221154\\\\\n",
       "\\end{tabular}\n"
      ],
      "text/markdown": [
       "\n",
       "|  7.109709 |\n",
       "| -3.221154 |\n",
       "\n"
      ],
      "text/plain": [
       "     [,1]     \n",
       "[1,]  7.109709\n",
       "[2,] -3.221154"
      ]
     },
     "metadata": {},
     "output_type": "display_data"
    }
   ],
   "source": [
    "out2 = lsolve.jacobi(A, b, weight = 0.66, verbose = FALSE)\n",
    "\n",
    "out2$x"
   ]
  },
  {
   "cell_type": "code",
   "execution_count": 96,
   "metadata": {},
   "outputs": [],
   "source": [
    "error <- out2$errors\n",
    "\n",
    "iteration <- out2$iter"
   ]
  },
  {
   "cell_type": "code",
   "execution_count": 97,
   "metadata": {},
   "outputs": [
    {
     "data": {
      "text/html": [
       "<table>\n",
       "<thead><tr><th scope=col>iter_seq</th><th scope=col>error</th></tr></thead>\n",
       "<tbody>\n",
       "\t<tr><td>0         </td><td>0.32288074</td></tr>\n",
       "\t<tr><td>1         </td><td>0.09253084</td></tr>\n",
       "\t<tr><td>2         </td><td>0.06332663</td></tr>\n",
       "\t<tr><td>3         </td><td>0.04758677</td></tr>\n",
       "\t<tr><td>4         </td><td>0.04893039</td></tr>\n",
       "\t<tr><td>5         </td><td>0.04710468</td></tr>\n",
       "</tbody>\n",
       "</table>\n"
      ],
      "text/latex": [
       "\\begin{tabular}{r|ll}\n",
       " iter\\_seq & error\\\\\n",
       "\\hline\n",
       "\t 0          & 0.32288074\\\\\n",
       "\t 1          & 0.09253084\\\\\n",
       "\t 2          & 0.06332663\\\\\n",
       "\t 3          & 0.04758677\\\\\n",
       "\t 4          & 0.04893039\\\\\n",
       "\t 5          & 0.04710468\\\\\n",
       "\\end{tabular}\n"
      ],
      "text/markdown": [
       "\n",
       "| iter_seq | error |\n",
       "|---|---|\n",
       "| 0          | 0.32288074 |\n",
       "| 1          | 0.09253084 |\n",
       "| 2          | 0.06332663 |\n",
       "| 3          | 0.04758677 |\n",
       "| 4          | 0.04893039 |\n",
       "| 5          | 0.04710468 |\n",
       "\n"
      ],
      "text/plain": [
       "  iter_seq error     \n",
       "1 0        0.32288074\n",
       "2 1        0.09253084\n",
       "3 2        0.06332663\n",
       "4 3        0.04758677\n",
       "5 4        0.04893039\n",
       "6 5        0.04710468"
      ]
     },
     "metadata": {},
     "output_type": "display_data"
    }
   ],
   "source": [
    "iter_seq <- seq(0, iteration, 1)\n",
    "\n",
    "error_per_iter <- data.frame(iter_seq, error)\n",
    "\n",
    "head(error_per_iter)"
   ]
  },
  {
   "cell_type": "code",
   "execution_count": 98,
   "metadata": {},
   "outputs": [
    {
     "data": {
      "image/png": "[encoded data removed]",
      "text/plain": [
       "plot without title"
      ]
     },
     "metadata": {},
     "output_type": "display_data"
    }
   ],
   "source": [
    "ggplot(error_per_iter, aes(x = iter_seq, y = error)) +\n",
    "    geom_line(col = 'red', size = 2)"
   ]
  },
  {
   "cell_type": "markdown",
   "metadata": {},
   "source": [
    "## Direct method"
   ]
  },
  {
   "cell_type": "markdown",
   "metadata": {},
   "source": [
    "### Gaussian Elimination\n",
    "\n",
    "https://math.oregonstate.edu/home/programs/undergrad/CalculusQuestStudyGuides/vcalc/system/system.html#matrixnot\n",
    "\n",
    "https://en.m.wikipedia.org/wiki/Gaussian_elimination\n",
    "\n",
    "https://math.oregonstate.edu/home/programs/undergrad/CalculusQuestStudyGuides/vcalc/gauss/gauss.html"
   ]
  },
  {
   "cell_type": "markdown",
   "metadata": {},
   "source": [
    "### Example-I"
   ]
  },
  {
   "cell_type": "markdown",
   "metadata": {},
   "source": [
    "### Equation are `2x + y = 11` and `5x + 7y = 13`"
   ]
  },
  {
   "cell_type": "markdown",
   "metadata": {},
   "source": [
    "### Create a matrix for a above equation"
   ]
  },
  {
   "cell_type": "code",
   "execution_count": 104,
   "metadata": {},
   "outputs": [
    {
     "data": {
      "text/html": [
       "<table>\n",
       "<tbody>\n",
       "\t<tr><td>2</td><td>1</td></tr>\n",
       "\t<tr><td>5</td><td>7</td></tr>\n",
       "</tbody>\n",
       "</table>\n"
      ],
      "text/latex": [
       "\\begin{tabular}{ll}\n",
       "\t 2 & 1\\\\\n",
       "\t 5 & 7\\\\\n",
       "\\end{tabular}\n"
      ],
      "text/markdown": [
       "\n",
       "| 2 | 1 |\n",
       "| 5 | 7 |\n",
       "\n"
      ],
      "text/plain": [
       "     [,1] [,2]\n",
       "[1,] 2    1   \n",
       "[2,] 5    7   "
      ]
     },
     "metadata": {},
     "output_type": "display_data"
    }
   ],
   "source": [
    "A <- matrix(c(2, 1,\n",
    "              5, 7), nrow = 2, ncol = 2, byrow = T)\n",
    "\n",
    "A"
   ]
  },
  {
   "cell_type": "markdown",
   "metadata": {},
   "source": [
    "### Create a matrix as a vector for above equation"
   ]
  },
  {
   "cell_type": "code",
   "execution_count": 105,
   "metadata": {},
   "outputs": [
    {
     "data": {
      "text/html": [
       "<table>\n",
       "<tbody>\n",
       "\t<tr><td>11</td></tr>\n",
       "\t<tr><td>13</td></tr>\n",
       "</tbody>\n",
       "</table>\n"
      ],
      "text/latex": [
       "\\begin{tabular}{l}\n",
       "\t 11\\\\\n",
       "\t 13\\\\\n",
       "\\end{tabular}\n"
      ],
      "text/markdown": [
       "\n",
       "| 11 |\n",
       "| 13 |\n",
       "\n"
      ],
      "text/plain": [
       "     [,1]\n",
       "[1,] 11  \n",
       "[2,] 13  "
      ]
     },
     "metadata": {},
     "output_type": "display_data"
    }
   ],
   "source": [
    "b <- matrix(c(11, 13), nrow = 2, ncol = 1, byrow = T)\n",
    "\n",
    "b"
   ]
  },
  {
   "cell_type": "markdown",
   "metadata": {},
   "source": [
    "### Apply Reduced Row Echelon Form (`rref`)\n",
    "\n",
    "https://math.oregonstate.edu/home/programs/undergrad/CalculusQuestStudyGuides/vcalc/gauss/gauss.html\n",
    "\n",
    "https://en.m.wikipedia.org/wiki/Gaussian_elimination\n",
    "\n",
    "https://www.rdocumentation.org/packages/pracma/versions/1.9.9/topics/rref\n",
    "\n",
    "http://mathworld.wolfram.com/EchelonForm.html"
   ]
  },
  {
   "cell_type": "code",
   "execution_count": 106,
   "metadata": {},
   "outputs": [
    {
     "data": {
      "text/html": [
       "<table>\n",
       "<tbody>\n",
       "\t<tr><td>1        </td><td>0        </td><td> 7.111111</td></tr>\n",
       "\t<tr><td>0        </td><td>1        </td><td>-3.222222</td></tr>\n",
       "</tbody>\n",
       "</table>\n"
      ],
      "text/latex": [
       "\\begin{tabular}{lll}\n",
       "\t 1         & 0         &  7.111111\\\\\n",
       "\t 0         & 1         & -3.222222\\\\\n",
       "\\end{tabular}\n"
      ],
      "text/markdown": [
       "\n",
       "| 1         | 0         |  7.111111 |\n",
       "| 0         | 1         | -3.222222 |\n",
       "\n"
      ],
      "text/plain": [
       "     [,1] [,2] [,3]     \n",
       "[1,] 1    0     7.111111\n",
       "[2,] 0    1    -3.222222"
      ]
     },
     "metadata": {},
     "output_type": "display_data"
    }
   ],
   "source": [
    "rref(cbind(A, b))"
   ]
  },
  {
   "cell_type": "code",
   "execution_count": 108,
   "metadata": {},
   "outputs": [
    {
     "data": {
      "text/html": [
       "<table>\n",
       "<tbody>\n",
       "\t<tr><td>6</td><td>4</td><td>1</td></tr>\n",
       "\t<tr><td>1</td><td>4</td><td>2</td></tr>\n",
       "\t<tr><td>1</td><td>1</td><td>3</td></tr>\n",
       "</tbody>\n",
       "</table>\n"
      ],
      "text/latex": [
       "\\begin{tabular}{lll}\n",
       "\t 6 & 4 & 1\\\\\n",
       "\t 1 & 4 & 2\\\\\n",
       "\t 1 & 1 & 3\\\\\n",
       "\\end{tabular}\n"
      ],
      "text/markdown": [
       "\n",
       "| 6 | 4 | 1 |\n",
       "| 1 | 4 | 2 |\n",
       "| 1 | 1 | 3 |\n",
       "\n"
      ],
      "text/plain": [
       "     [,1] [,2] [,3]\n",
       "[1,] 6    4    1   \n",
       "[2,] 1    4    2   \n",
       "[3,] 1    1    3   "
      ]
     },
     "metadata": {},
     "output_type": "display_data"
    }
   ],
   "source": [
    "A <- matrix(c(6, 4, 1,\n",
    "              1, 4, 2,\n",
    "              1, 1, 3), nrow = 3, ncol = 3, byrow = T)\n",
    "\n",
    "A"
   ]
  },
  {
   "cell_type": "code",
   "execution_count": 109,
   "metadata": {},
   "outputs": [
    {
     "data": {
      "text/html": [
       "<table>\n",
       "<tbody>\n",
       "\t<tr><td>24</td></tr>\n",
       "\t<tr><td>11</td></tr>\n",
       "\t<tr><td>10</td></tr>\n",
       "</tbody>\n",
       "</table>\n"
      ],
      "text/latex": [
       "\\begin{tabular}{l}\n",
       "\t 24\\\\\n",
       "\t 11\\\\\n",
       "\t 10\\\\\n",
       "\\end{tabular}\n"
      ],
      "text/markdown": [
       "\n",
       "| 24 |\n",
       "| 11 |\n",
       "| 10 |\n",
       "\n"
      ],
      "text/plain": [
       "     [,1]\n",
       "[1,] 24  \n",
       "[2,] 11  \n",
       "[3,] 10  "
      ]
     },
     "metadata": {},
     "output_type": "display_data"
    }
   ],
   "source": [
    "b <- matrix(c(24,\n",
    "              11,\n",
    "              10), nrow = 3, ncol = 1, byrow = T)\n",
    "b"
   ]
  },
  {
   "cell_type": "markdown",
   "metadata": {},
   "source": [
    "### Apply Reduced Row Echelon Form (`rref`)"
   ]
  },
  {
   "cell_type": "code",
   "execution_count": 110,
   "metadata": {},
   "outputs": [
    {
     "data": {
      "text/html": [
       "<table>\n",
       "<tbody>\n",
       "\t<tr><td>1</td><td>0</td><td>0</td><td>3</td></tr>\n",
       "\t<tr><td>0</td><td>1</td><td>0</td><td>1</td></tr>\n",
       "\t<tr><td>0</td><td>0</td><td>1</td><td>2</td></tr>\n",
       "</tbody>\n",
       "</table>\n"
      ],
      "text/latex": [
       "\\begin{tabular}{llll}\n",
       "\t 1 & 0 & 0 & 3\\\\\n",
       "\t 0 & 1 & 0 & 1\\\\\n",
       "\t 0 & 0 & 1 & 2\\\\\n",
       "\\end{tabular}\n"
      ],
      "text/markdown": [
       "\n",
       "| 1 | 0 | 0 | 3 |\n",
       "| 0 | 1 | 0 | 1 |\n",
       "| 0 | 0 | 1 | 2 |\n",
       "\n"
      ],
      "text/plain": [
       "     [,1] [,2] [,3] [,4]\n",
       "[1,] 1    0    0    3   \n",
       "[2,] 0    1    0    1   \n",
       "[3,] 0    0    1    2   "
      ]
     },
     "metadata": {},
     "output_type": "display_data"
    }
   ],
   "source": [
    "rref(cbind(A, b))"
   ]
  },
  {
   "cell_type": "markdown",
   "metadata": {},
   "source": [
    "### Create a matrix for above equation\n",
    "\n",
    "Note:- Here, matrix is not diagonally dominant.\n",
    "\n",
    "`x + 2y = 5`, `5x + 4y = 3`"
   ]
  },
  {
   "cell_type": "markdown",
   "metadata": {},
   "source": [
    "### Equation are `x + 2y = 5` and  `5x + 4y = 1`"
   ]
  },
  {
   "cell_type": "code",
   "execution_count": 115,
   "metadata": {},
   "outputs": [
    {
     "data": {
      "text/html": [
       "<table>\n",
       "<tbody>\n",
       "\t<tr><td>1</td><td>2</td></tr>\n",
       "\t<tr><td>5</td><td>4</td></tr>\n",
       "</tbody>\n",
       "</table>\n"
      ],
      "text/latex": [
       "\\begin{tabular}{ll}\n",
       "\t 1 & 2\\\\\n",
       "\t 5 & 4\\\\\n",
       "\\end{tabular}\n"
      ],
      "text/markdown": [
       "\n",
       "| 1 | 2 |\n",
       "| 5 | 4 |\n",
       "\n"
      ],
      "text/plain": [
       "     [,1] [,2]\n",
       "[1,] 1    2   \n",
       "[2,] 5    4   "
      ]
     },
     "metadata": {},
     "output_type": "display_data"
    }
   ],
   "source": [
    "A <- matrix(c(1, 2,\n",
    "              5, 4), nrow = 2, ncol = 2, byrow = T)\n",
    "\n",
    "A"
   ]
  },
  {
   "cell_type": "markdown",
   "metadata": {},
   "source": [
    "### Create a matrix as a vector for above equation"
   ]
  },
  {
   "cell_type": "code",
   "execution_count": 116,
   "metadata": {},
   "outputs": [
    {
     "data": {
      "text/html": [
       "<table>\n",
       "<tbody>\n",
       "\t<tr><td>5</td></tr>\n",
       "\t<tr><td>3</td></tr>\n",
       "</tbody>\n",
       "</table>\n"
      ],
      "text/latex": [
       "\\begin{tabular}{l}\n",
       "\t 5\\\\\n",
       "\t 3\\\\\n",
       "\\end{tabular}\n"
      ],
      "text/markdown": [
       "\n",
       "| 5 |\n",
       "| 3 |\n",
       "\n"
      ],
      "text/plain": [
       "     [,1]\n",
       "[1,] 5   \n",
       "[2,] 3   "
      ]
     },
     "metadata": {},
     "output_type": "display_data"
    }
   ],
   "source": [
    "b <- matrix(c(5, 3), nrow = 2, ncol = 1, byrow = T)\n",
    "\n",
    "b"
   ]
  },
  {
   "cell_type": "markdown",
   "metadata": {},
   "source": [
    "### Apply Reduced Row Echelon Form (`rref`)"
   ]
  },
  {
   "cell_type": "code",
   "execution_count": 117,
   "metadata": {},
   "outputs": [
    {
     "data": {
      "text/html": [
       "<table>\n",
       "<tbody>\n",
       "\t<tr><td>1        </td><td>0        </td><td>-2.333333</td></tr>\n",
       "\t<tr><td>0        </td><td>1        </td><td> 3.666667</td></tr>\n",
       "</tbody>\n",
       "</table>\n"
      ],
      "text/latex": [
       "\\begin{tabular}{lll}\n",
       "\t 1         & 0         & -2.333333\\\\\n",
       "\t 0         & 1         &  3.666667\\\\\n",
       "\\end{tabular}\n"
      ],
      "text/markdown": [
       "\n",
       "| 1         | 0         | -2.333333 |\n",
       "| 0         | 1         |  3.666667 |\n",
       "\n"
      ],
      "text/plain": [
       "     [,1] [,2] [,3]     \n",
       "[1,] 1    0    -2.333333\n",
       "[2,] 0    1     3.666667"
      ]
     },
     "metadata": {},
     "output_type": "display_data"
    }
   ],
   "source": [
    "rref(cbind(A, b))"
   ]
  },
  {
   "cell_type": "markdown",
   "metadata": {},
   "source": [
    "Solution of given equation are `x = -2.333333` and `y = -3.666667`"
   ]
  },
  {
   "cell_type": "markdown",
   "metadata": {},
   "source": [
    "### Equation are `3x + 4y  + z = 15` ,  `x +2y + 2z = 9` and `x + y + z = 6`\n",
    "\n",
    "### Create matrix for above equation"
   ]
  },
  {
   "cell_type": "code",
   "execution_count": 119,
   "metadata": {},
   "outputs": [
    {
     "data": {
      "text/html": [
       "<table>\n",
       "<tbody>\n",
       "\t<tr><td>3</td><td>4</td><td>1</td></tr>\n",
       "\t<tr><td>1</td><td>2</td><td>2</td></tr>\n",
       "\t<tr><td>1</td><td>1</td><td>1</td></tr>\n",
       "</tbody>\n",
       "</table>\n"
      ],
      "text/latex": [
       "\\begin{tabular}{lll}\n",
       "\t 3 & 4 & 1\\\\\n",
       "\t 1 & 2 & 2\\\\\n",
       "\t 1 & 1 & 1\\\\\n",
       "\\end{tabular}\n"
      ],
      "text/markdown": [
       "\n",
       "| 3 | 4 | 1 |\n",
       "| 1 | 2 | 2 |\n",
       "| 1 | 1 | 1 |\n",
       "\n"
      ],
      "text/plain": [
       "     [,1] [,2] [,3]\n",
       "[1,] 3    4    1   \n",
       "[2,] 1    2    2   \n",
       "[3,] 1    1    1   "
      ]
     },
     "metadata": {},
     "output_type": "display_data"
    }
   ],
   "source": [
    "A <- matrix(c(3, 4, 1,\n",
    "              1, 2, 2,\n",
    "              1, 1, 1), nrow = 3, ncol = 3, byrow = T)\n",
    "\n",
    "A"
   ]
  },
  {
   "cell_type": "markdown",
   "metadata": {},
   "source": [
    "### Create a matrix as a vector for above equation"
   ]
  },
  {
   "cell_type": "code",
   "execution_count": 120,
   "metadata": {},
   "outputs": [
    {
     "data": {
      "text/html": [
       "<table>\n",
       "<tbody>\n",
       "\t<tr><td>15</td></tr>\n",
       "\t<tr><td> 9</td></tr>\n",
       "\t<tr><td> 6</td></tr>\n",
       "</tbody>\n",
       "</table>\n"
      ],
      "text/latex": [
       "\\begin{tabular}{l}\n",
       "\t 15\\\\\n",
       "\t  9\\\\\n",
       "\t  6\\\\\n",
       "\\end{tabular}\n"
      ],
      "text/markdown": [
       "\n",
       "| 15 |\n",
       "|  9 |\n",
       "|  6 |\n",
       "\n"
      ],
      "text/plain": [
       "     [,1]\n",
       "[1,] 15  \n",
       "[2,]  9  \n",
       "[3,]  6  "
      ]
     },
     "metadata": {},
     "output_type": "display_data"
    }
   ],
   "source": [
    "b <- matrix(c(15,\n",
    "             9,\n",
    "             6), nrow = 3, ncol = 1, byrow = T)\n",
    "b"
   ]
  },
  {
   "cell_type": "markdown",
   "metadata": {},
   "source": [
    "### Apply Reduced Row Echelon Form (`rref`)"
   ]
  },
  {
   "cell_type": "code",
   "execution_count": 121,
   "metadata": {},
   "outputs": [
    {
     "data": {
      "text/html": [
       "<table>\n",
       "<tbody>\n",
       "\t<tr><td>1</td><td>0</td><td>0</td><td>3</td></tr>\n",
       "\t<tr><td>0</td><td>1</td><td>0</td><td>1</td></tr>\n",
       "\t<tr><td>0</td><td>0</td><td>1</td><td>2</td></tr>\n",
       "</tbody>\n",
       "</table>\n"
      ],
      "text/latex": [
       "\\begin{tabular}{llll}\n",
       "\t 1 & 0 & 0 & 3\\\\\n",
       "\t 0 & 1 & 0 & 1\\\\\n",
       "\t 0 & 0 & 1 & 2\\\\\n",
       "\\end{tabular}\n"
      ],
      "text/markdown": [
       "\n",
       "| 1 | 0 | 0 | 3 |\n",
       "| 0 | 1 | 0 | 1 |\n",
       "| 0 | 0 | 1 | 2 |\n",
       "\n"
      ],
      "text/plain": [
       "     [,1] [,2] [,3] [,4]\n",
       "[1,] 1    0    0    3   \n",
       "[2,] 0    1    0    1   \n",
       "[3,] 0    0    1    2   "
      ]
     },
     "metadata": {},
     "output_type": "display_data"
    }
   ],
   "source": [
    "rref(cbind(A, b))"
   ]
  },
  {
   "cell_type": "code",
   "execution_count": null,
   "metadata": {},
   "outputs": [],
   "source": []
  },
  {
   "cell_type": "code",
   "execution_count": null,
   "metadata": {},
   "outputs": [],
   "source": []
  },
  {
   "cell_type": "code",
   "execution_count": null,
   "metadata": {},
   "outputs": [],
   "source": []
  },
  {
   "cell_type": "code",
   "execution_count": null,
   "metadata": {},
   "outputs": [],
   "source": []
  },
  {
   "cell_type": "code",
   "execution_count": null,
   "metadata": {},
   "outputs": [],
   "source": []
  }
 ],
 "metadata": {
  "kernelspec": {
   "display_name": "R",
   "language": "R",
   "name": "ir"
  },
  "language_info": {
   "codemirror_mode": "r",
   "file_extension": ".r",
   "mimetype": "text/x-r-source",
   "name": "R",
   "pygments_lexer": "r",
   "version": "3.6.1"
  }
 },
 "nbformat": 4,
 "nbformat_minor": 2
}
