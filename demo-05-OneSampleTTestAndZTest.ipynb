{
 "cells": [
  {
   "cell_type": "markdown",
   "metadata": {},
   "source": [
    "### Performing One sample test in R"
   ]
  },
  {
   "cell_type": "markdown",
   "metadata": {},
   "source": [
    "http://www.sthda.com/english/wiki/one-sample-t-test-in-r    \n",
    "http://www.instantr.com/2012/12/29/performing-a-one-sample-t-test-in-r/"
   ]
  },
  {
   "cell_type": "code",
   "execution_count": 33,
   "metadata": {},
   "outputs": [
    {
     "name": "stderr",
     "output_type": "stream",
     "text": [
      "Updating HTML index of packages in '.Library'\n",
      "Making 'packages.html' ... done\n"
     ]
    }
   ],
   "source": [
    "install.packages(c(\"ggplot2\", \"ggpubr\", \"plyr\"))"
   ]
  },
  {
   "cell_type": "markdown",
   "metadata": {},
   "source": [
    "https://www.rdocumentation.org/packages/plyr/versions/1.8.4\n",
    "\n",
    "https://www.rdocumentation.org/packages/readxl/versions/0.1.1"
   ]
  },
  {
   "cell_type": "code",
   "execution_count": 1,
   "metadata": {},
   "outputs": [
    {
     "name": "stderr",
     "output_type": "stream",
     "text": [
      "Loading required package: magrittr\n",
      "\n",
      "Attaching package: ‘ggpubr’\n",
      "\n",
      "The following object is masked from ‘package:plyr’:\n",
      "\n",
      "    mutate\n",
      "\n"
     ]
    }
   ],
   "source": [
    "library(ggplot2)\n",
    "library(plyr)\n",
    "library(ggpubr)"
   ]
  },
  {
   "cell_type": "code",
   "execution_count": 9,
   "metadata": {},
   "outputs": [],
   "source": [
    "options(repr.plot.width = 6, repr.plot.height = 5)"
   ]
  },
  {
   "cell_type": "code",
   "execution_count": 10,
   "metadata": {},
   "outputs": [
    {
     "data": {
      "text/html": [
       "<table>\n",
       "<thead><tr><th scope=col>normalized_losses</th><th scope=col>fuel_type</th><th scope=col>aspiration</th><th scope=col>number_of_doors</th><th scope=col>drive_wheels</th><th scope=col>engine_location</th><th scope=col>wheel_base</th><th scope=col>length</th><th scope=col>width</th><th scope=col>height</th><th scope=col>...</th><th scope=col>engine_size</th><th scope=col>fuel_system</th><th scope=col>bore</th><th scope=col>stroke</th><th scope=col>compression_ratio</th><th scope=col>horsepower</th><th scope=col>peak_rpm</th><th scope=col>city_mpg</th><th scope=col>highway_mpg</th><th scope=col>price</th></tr></thead>\n",
       "<tbody>\n",
       "\t<tr><td>168  </td><td>gas  </td><td>std  </td><td>two  </td><td>rwd  </td><td>front</td><td> 88.6</td><td>168.8</td><td>64.1 </td><td>48.8 </td><td>...  </td><td>130  </td><td>mpfi </td><td>3.47 </td><td>2.68 </td><td> 9.0 </td><td>111  </td><td>5000 </td><td>21   </td><td>27   </td><td>13495</td></tr>\n",
       "\t<tr><td>168  </td><td>gas  </td><td>std  </td><td>two  </td><td>rwd  </td><td>front</td><td> 88.6</td><td>168.8</td><td>64.1 </td><td>48.8 </td><td>...  </td><td>130  </td><td>mpfi </td><td>3.47 </td><td>2.68 </td><td> 9.0 </td><td>111  </td><td>5000 </td><td>21   </td><td>27   </td><td>16500</td></tr>\n",
       "\t<tr><td>168  </td><td>gas  </td><td>std  </td><td>two  </td><td>rwd  </td><td>front</td><td> 94.5</td><td>171.2</td><td>65.5 </td><td>52.4 </td><td>...  </td><td>152  </td><td>mpfi </td><td>2.68 </td><td>3.47 </td><td> 9.0 </td><td>154  </td><td>5000 </td><td>19   </td><td>26   </td><td>16500</td></tr>\n",
       "\t<tr><td>164  </td><td>gas  </td><td>std  </td><td>four </td><td>fwd  </td><td>front</td><td> 99.8</td><td>176.6</td><td>66.2 </td><td>54.3 </td><td>...  </td><td>109  </td><td>mpfi </td><td>3.19 </td><td>3.40 </td><td>10.0 </td><td>102  </td><td>5500 </td><td>24   </td><td>30   </td><td>13950</td></tr>\n",
       "\t<tr><td>164  </td><td>gas  </td><td>std  </td><td>four </td><td>4wd  </td><td>front</td><td> 99.4</td><td>176.6</td><td>66.4 </td><td>54.3 </td><td>...  </td><td>136  </td><td>mpfi </td><td>3.19 </td><td>3.40 </td><td> 8.0 </td><td>115  </td><td>5500 </td><td>18   </td><td>22   </td><td>17450</td></tr>\n",
       "\t<tr><td>161  </td><td>gas  </td><td>std  </td><td>two  </td><td>fwd  </td><td>front</td><td> 99.8</td><td>177.3</td><td>66.3 </td><td>53.1 </td><td>...  </td><td>136  </td><td>mpfi </td><td>3.19 </td><td>3.40 </td><td> 8.5 </td><td>110  </td><td>5500 </td><td>19   </td><td>25   </td><td>15250</td></tr>\n",
       "\t<tr><td>158  </td><td>gas  </td><td>std  </td><td>four </td><td>fwd  </td><td>front</td><td>105.8</td><td>192.7</td><td>71.4 </td><td>55.7 </td><td>...  </td><td>136  </td><td>mpfi </td><td>3.19 </td><td>3.40 </td><td> 8.5 </td><td>110  </td><td>5500 </td><td>19   </td><td>25   </td><td>17710</td></tr>\n",
       "\t<tr><td>168  </td><td>gas  </td><td>std  </td><td>four </td><td>fwd  </td><td>front</td><td>105.8</td><td>192.7</td><td>71.4 </td><td>55.7 </td><td>...  </td><td>136  </td><td>mpfi </td><td>3.19 </td><td>3.40 </td><td> 8.5 </td><td>110  </td><td>5500 </td><td>19   </td><td>25   </td><td>18920</td></tr>\n",
       "\t<tr><td>158  </td><td>gas  </td><td>turbo</td><td>four </td><td>fwd  </td><td>front</td><td>105.8</td><td>192.7</td><td>71.4 </td><td>55.9 </td><td>...  </td><td>131  </td><td>mpfi </td><td>3.13 </td><td>3.40 </td><td> 8.3 </td><td>140  </td><td>5500 </td><td>17   </td><td>20   </td><td>23875</td></tr>\n",
       "\t<tr><td>192  </td><td>gas  </td><td>std  </td><td>two  </td><td>rwd  </td><td>front</td><td>101.2</td><td>176.8</td><td>64.8 </td><td>54.3 </td><td>...  </td><td>108  </td><td>mpfi </td><td>3.50 </td><td>2.80 </td><td> 8.8 </td><td>101  </td><td>5800 </td><td>23   </td><td>29   </td><td>16430</td></tr>\n",
       "</tbody>\n",
       "</table>\n"
      ],
      "text/latex": [
       "\\begin{tabular}{r|lllllllllllllllllllllll}\n",
       " normalized\\_losses & fuel\\_type & aspiration & number\\_of\\_doors & drive\\_wheels & engine\\_location & wheel\\_base & length & width & height & ... & engine\\_size & fuel\\_system & bore & stroke & compression\\_ratio & horsepower & peak\\_rpm & city\\_mpg & highway\\_mpg & price\\\\\n",
       "\\hline\n",
       "\t 168   & gas   & std   & two   & rwd   & front &  88.6 & 168.8 & 64.1  & 48.8  & ...   & 130   & mpfi  & 3.47  & 2.68  &  9.0  & 111   & 5000  & 21    & 27    & 13495\\\\\n",
       "\t 168   & gas   & std   & two   & rwd   & front &  88.6 & 168.8 & 64.1  & 48.8  & ...   & 130   & mpfi  & 3.47  & 2.68  &  9.0  & 111   & 5000  & 21    & 27    & 16500\\\\\n",
       "\t 168   & gas   & std   & two   & rwd   & front &  94.5 & 171.2 & 65.5  & 52.4  & ...   & 152   & mpfi  & 2.68  & 3.47  &  9.0  & 154   & 5000  & 19    & 26    & 16500\\\\\n",
       "\t 164   & gas   & std   & four  & fwd   & front &  99.8 & 176.6 & 66.2  & 54.3  & ...   & 109   & mpfi  & 3.19  & 3.40  & 10.0  & 102   & 5500  & 24    & 30    & 13950\\\\\n",
       "\t 164   & gas   & std   & four  & 4wd   & front &  99.4 & 176.6 & 66.4  & 54.3  & ...   & 136   & mpfi  & 3.19  & 3.40  &  8.0  & 115   & 5500  & 18    & 22    & 17450\\\\\n",
       "\t 161   & gas   & std   & two   & fwd   & front &  99.8 & 177.3 & 66.3  & 53.1  & ...   & 136   & mpfi  & 3.19  & 3.40  &  8.5  & 110   & 5500  & 19    & 25    & 15250\\\\\n",
       "\t 158   & gas   & std   & four  & fwd   & front & 105.8 & 192.7 & 71.4  & 55.7  & ...   & 136   & mpfi  & 3.19  & 3.40  &  8.5  & 110   & 5500  & 19    & 25    & 17710\\\\\n",
       "\t 168   & gas   & std   & four  & fwd   & front & 105.8 & 192.7 & 71.4  & 55.7  & ...   & 136   & mpfi  & 3.19  & 3.40  &  8.5  & 110   & 5500  & 19    & 25    & 18920\\\\\n",
       "\t 158   & gas   & turbo & four  & fwd   & front & 105.8 & 192.7 & 71.4  & 55.9  & ...   & 131   & mpfi  & 3.13  & 3.40  &  8.3  & 140   & 5500  & 17    & 20    & 23875\\\\\n",
       "\t 192   & gas   & std   & two   & rwd   & front & 101.2 & 176.8 & 64.8  & 54.3  & ...   & 108   & mpfi  & 3.50  & 2.80  &  8.8  & 101   & 5800  & 23    & 29    & 16430\\\\\n",
       "\\end{tabular}\n"
      ],
      "text/markdown": [
       "\n",
       "| normalized_losses | fuel_type | aspiration | number_of_doors | drive_wheels | engine_location | wheel_base | length | width | height | ... | engine_size | fuel_system | bore | stroke | compression_ratio | horsepower | peak_rpm | city_mpg | highway_mpg | price |\n",
       "|---|---|---|---|---|---|---|---|---|---|---|---|---|---|---|---|---|---|---|---|---|\n",
       "| 168   | gas   | std   | two   | rwd   | front |  88.6 | 168.8 | 64.1  | 48.8  | ...   | 130   | mpfi  | 3.47  | 2.68  |  9.0  | 111   | 5000  | 21    | 27    | 13495 |\n",
       "| 168   | gas   | std   | two   | rwd   | front |  88.6 | 168.8 | 64.1  | 48.8  | ...   | 130   | mpfi  | 3.47  | 2.68  |  9.0  | 111   | 5000  | 21    | 27    | 16500 |\n",
       "| 168   | gas   | std   | two   | rwd   | front |  94.5 | 171.2 | 65.5  | 52.4  | ...   | 152   | mpfi  | 2.68  | 3.47  |  9.0  | 154   | 5000  | 19    | 26    | 16500 |\n",
       "| 164   | gas   | std   | four  | fwd   | front |  99.8 | 176.6 | 66.2  | 54.3  | ...   | 109   | mpfi  | 3.19  | 3.40  | 10.0  | 102   | 5500  | 24    | 30    | 13950 |\n",
       "| 164   | gas   | std   | four  | 4wd   | front |  99.4 | 176.6 | 66.4  | 54.3  | ...   | 136   | mpfi  | 3.19  | 3.40  |  8.0  | 115   | 5500  | 18    | 22    | 17450 |\n",
       "| 161   | gas   | std   | two   | fwd   | front |  99.8 | 177.3 | 66.3  | 53.1  | ...   | 136   | mpfi  | 3.19  | 3.40  |  8.5  | 110   | 5500  | 19    | 25    | 15250 |\n",
       "| 158   | gas   | std   | four  | fwd   | front | 105.8 | 192.7 | 71.4  | 55.7  | ...   | 136   | mpfi  | 3.19  | 3.40  |  8.5  | 110   | 5500  | 19    | 25    | 17710 |\n",
       "| 168   | gas   | std   | four  | fwd   | front | 105.8 | 192.7 | 71.4  | 55.7  | ...   | 136   | mpfi  | 3.19  | 3.40  |  8.5  | 110   | 5500  | 19    | 25    | 18920 |\n",
       "| 158   | gas   | turbo | four  | fwd   | front | 105.8 | 192.7 | 71.4  | 55.9  | ...   | 131   | mpfi  | 3.13  | 3.40  |  8.3  | 140   | 5500  | 17    | 20    | 23875 |\n",
       "| 192   | gas   | std   | two   | rwd   | front | 101.2 | 176.8 | 64.8  | 54.3  | ...   | 108   | mpfi  | 3.50  | 2.80  |  8.8  | 101   | 5800  | 23    | 29    | 16430 |\n",
       "\n"
      ],
      "text/plain": [
       "   normalized_losses fuel_type aspiration number_of_doors drive_wheels\n",
       "1  168               gas       std        two             rwd         \n",
       "2  168               gas       std        two             rwd         \n",
       "3  168               gas       std        two             rwd         \n",
       "4  164               gas       std        four            fwd         \n",
       "5  164               gas       std        four            4wd         \n",
       "6  161               gas       std        two             fwd         \n",
       "7  158               gas       std        four            fwd         \n",
       "8  168               gas       std        four            fwd         \n",
       "9  158               gas       turbo      four            fwd         \n",
       "10 192               gas       std        two             rwd         \n",
       "   engine_location wheel_base length width height ... engine_size fuel_system\n",
       "1  front            88.6      168.8  64.1  48.8   ... 130         mpfi       \n",
       "2  front            88.6      168.8  64.1  48.8   ... 130         mpfi       \n",
       "3  front            94.5      171.2  65.5  52.4   ... 152         mpfi       \n",
       "4  front            99.8      176.6  66.2  54.3   ... 109         mpfi       \n",
       "5  front            99.4      176.6  66.4  54.3   ... 136         mpfi       \n",
       "6  front            99.8      177.3  66.3  53.1   ... 136         mpfi       \n",
       "7  front           105.8      192.7  71.4  55.7   ... 136         mpfi       \n",
       "8  front           105.8      192.7  71.4  55.7   ... 136         mpfi       \n",
       "9  front           105.8      192.7  71.4  55.9   ... 131         mpfi       \n",
       "10 front           101.2      176.8  64.8  54.3   ... 108         mpfi       \n",
       "   bore stroke compression_ratio horsepower peak_rpm city_mpg highway_mpg price\n",
       "1  3.47 2.68    9.0              111        5000     21       27          13495\n",
       "2  3.47 2.68    9.0              111        5000     21       27          16500\n",
       "3  2.68 3.47    9.0              154        5000     19       26          16500\n",
       "4  3.19 3.40   10.0              102        5500     24       30          13950\n",
       "5  3.19 3.40    8.0              115        5500     18       22          17450\n",
       "6  3.19 3.40    8.5              110        5500     19       25          15250\n",
       "7  3.19 3.40    8.5              110        5500     19       25          17710\n",
       "8  3.19 3.40    8.5              110        5500     19       25          18920\n",
       "9  3.13 3.40    8.3              140        5500     17       20          23875\n",
       "10 3.50 2.80    8.8              101        5800     23       29          16430"
      ]
     },
     "metadata": {},
     "output_type": "display_data"
    }
   ],
   "source": [
    "auto_mobile <- read.csv(\"datasets/auto_mobiles_processed.csv\", header = TRUE)\n",
    "\n",
    "head(auto_mobile, 10)"
   ]
  },
  {
   "cell_type": "code",
   "execution_count": 11,
   "metadata": {},
   "outputs": [
    {
     "data": {
      "text/html": [
       "<ol class=list-inline>\n",
       "\t<li>187</li>\n",
       "\t<li>23</li>\n",
       "</ol>\n"
      ],
      "text/latex": [
       "\\begin{enumerate*}\n",
       "\\item 187\n",
       "\\item 23\n",
       "\\end{enumerate*}\n"
      ],
      "text/markdown": [
       "1. 187\n",
       "2. 23\n",
       "\n",
       "\n"
      ],
      "text/plain": [
       "[1] 187  23"
      ]
     },
     "metadata": {},
     "output_type": "display_data"
    }
   ],
   "source": [
    "dim(auto_mobile)"
   ]
  },
  {
   "cell_type": "markdown",
   "metadata": {},
   "source": [
    "### About one sample t-test\n",
    "A one-sample t-test is used to compare the mean value of a sample with a constant value denoted μ0. The test has the null hypothesis that the population mean is equal to μ0 and the alternative hypothesis that it is not equal to μ0."
   ]
  },
  {
   "cell_type": "markdown",
   "metadata": {},
   "source": [
    "### Computing one-sample t-test manually\n",
    "\n",
    "Here we are taking less than 30 datapoints\n",
    "\n",
    "Set seed is same like random_int in python."
   ]
  },
  {
   "cell_type": "code",
   "execution_count": 13,
   "metadata": {},
   "outputs": [
    {
     "data": {
      "text/html": [
       "<ol class=list-inline>\n",
       "\t<li>5348</li>\n",
       "\t<li>12170</li>\n",
       "\t<li>9549</li>\n",
       "\t<li>8495</li>\n",
       "\t<li>5572</li>\n",
       "\t<li>11549</li>\n",
       "\t<li>7299</li>\n",
       "\t<li>10945</li>\n",
       "\t<li>8921</li>\n",
       "\t<li>9495</li>\n",
       "\t<li>15040</li>\n",
       "\t<li>9279</li>\n",
       "\t<li>7126</li>\n",
       "\t<li>7129</li>\n",
       "\t<li>19699</li>\n",
       "\t<li>8249</li>\n",
       "\t<li>15690</li>\n",
       "\t<li>10595</li>\n",
       "\t<li>5389</li>\n",
       "\t<li>12964</li>\n",
       "\t<li>14489</li>\n",
       "\t<li>6488</li>\n",
       "\t<li>11199</li>\n",
       "\t<li>8058</li>\n",
       "\t<li>7395</li>\n",
       "\t<li>11900</li>\n",
       "\t<li>6695</li>\n",
       "\t<li>7995</li>\n",
       "\t<li>7295</li>\n",
       "</ol>\n"
      ],
      "text/latex": [
       "\\begin{enumerate*}\n",
       "\\item 5348\n",
       "\\item 12170\n",
       "\\item 9549\n",
       "\\item 8495\n",
       "\\item 5572\n",
       "\\item 11549\n",
       "\\item 7299\n",
       "\\item 10945\n",
       "\\item 8921\n",
       "\\item 9495\n",
       "\\item 15040\n",
       "\\item 9279\n",
       "\\item 7126\n",
       "\\item 7129\n",
       "\\item 19699\n",
       "\\item 8249\n",
       "\\item 15690\n",
       "\\item 10595\n",
       "\\item 5389\n",
       "\\item 12964\n",
       "\\item 14489\n",
       "\\item 6488\n",
       "\\item 11199\n",
       "\\item 8058\n",
       "\\item 7395\n",
       "\\item 11900\n",
       "\\item 6695\n",
       "\\item 7995\n",
       "\\item 7295\n",
       "\\end{enumerate*}\n"
      ],
      "text/markdown": [
       "1. 5348\n",
       "2. 12170\n",
       "3. 9549\n",
       "4. 8495\n",
       "5. 5572\n",
       "6. 11549\n",
       "7. 7299\n",
       "8. 10945\n",
       "9. 8921\n",
       "10. 9495\n",
       "11. 15040\n",
       "12. 9279\n",
       "13. 7126\n",
       "14. 7129\n",
       "15. 19699\n",
       "16. 8249\n",
       "17. 15690\n",
       "18. 10595\n",
       "19. 5389\n",
       "20. 12964\n",
       "21. 14489\n",
       "22. 6488\n",
       "23. 11199\n",
       "24. 8058\n",
       "25. 7395\n",
       "26. 11900\n",
       "27. 6695\n",
       "28. 7995\n",
       "29. 7295\n",
       "\n",
       "\n"
      ],
      "text/plain": [
       " [1]  5348 12170  9549  8495  5572 11549  7299 10945  8921  9495 15040  9279\n",
       "[13]  7126  7129 19699  8249 15690 10595  5389 12964 14489  6488 11199  8058\n",
       "[25]  7395 11900  6695  7995  7295"
      ]
     },
     "metadata": {},
     "output_type": "display_data"
    }
   ],
   "source": [
    "set.seed =(1000)\n",
    "\n",
    "price_subset <- sample(auto_mobile$price, 29)\n",
    "\n",
    "price_subset"
   ]
  },
  {
   "cell_type": "markdown",
   "metadata": {},
   "source": [
    "##### Since the sample size is not large enough (less than 30), we need to check whether the data follow a normal distribution."
   ]
  },
  {
   "cell_type": "markdown",
   "metadata": {},
   "source": [
    "### Shapiro-Wilk test:\n",
    "* Null hypothesis: the data are normally distributed\n",
    "* Alternative hypothesis: the data are not normally distributed"
   ]
  },
  {
   "cell_type": "code",
   "execution_count": 14,
   "metadata": {},
   "outputs": [
    {
     "data": {
      "text/plain": [
       "\n",
       "\tShapiro-Wilk normality test\n",
       "\n",
       "data:  price_subset\n",
       "W = 0.91884, p-value = 0.0285\n"
      ]
     },
     "metadata": {},
     "output_type": "display_data"
    }
   ],
   "source": [
    "shapiro.test(price_subset)"
   ]
  },
  {
   "cell_type": "markdown",
   "metadata": {},
   "source": [
    "##### Since the p-value is less than 0.05 that means the data is not normally distributed so we have to use alternate hypothesis"
   ]
  },
  {
   "cell_type": "markdown",
   "metadata": {},
   "source": [
    "#### Visual inspection of the data normality using Q-Q plots (quantile-quantile plots). Q-Q plot draws the correlation between a given sample and the normal distribution"
   ]
  },
  {
   "cell_type": "code",
   "execution_count": 15,
   "metadata": {},
   "outputs": [
    {
     "data": {
      "image/png": "[encoded data removed]",
      "text/plain": [
       "plot without title"
      ]
     },
     "metadata": {},
     "output_type": "display_data"
    }
   ],
   "source": [
    "ggqqplot(price_subset, ylab = \"Price\",\n",
    "         ggtheme = theme_minimal())"
   ]
  },
  {
   "cell_type": "code",
   "execution_count": 16,
   "metadata": {},
   "outputs": [
    {
     "data": {
      "text/html": [
       "9724.72413793103"
      ],
      "text/latex": [
       "9724.72413793103"
      ],
      "text/markdown": [
       "9724.72413793103"
      ],
      "text/plain": [
       "[1] 9724.724"
      ]
     },
     "metadata": {},
     "output_type": "display_data"
    }
   ],
   "source": [
    "actual_mean <- mean(price_subset)\n",
    "\n",
    "actual_mean"
   ]
  },
  {
   "cell_type": "code",
   "execution_count": 17,
   "metadata": {},
   "outputs": [
    {
     "data": {
      "text/html": [
       "3437.82952598783"
      ],
      "text/latex": [
       "3437.82952598783"
      ],
      "text/markdown": [
       "3437.82952598783"
      ],
      "text/plain": [
       "[1] 3437.83"
      ]
     },
     "metadata": {},
     "output_type": "display_data"
    }
   ],
   "source": [
    "std <- sd(price_subset)\n",
    "\n",
    "std"
   ]
  },
  {
   "cell_type": "code",
   "execution_count": 18,
   "metadata": {},
   "outputs": [
    {
     "data": {
      "text/html": [
       "29"
      ],
      "text/latex": [
       "29"
      ],
      "text/markdown": [
       "29"
      ],
      "text/plain": [
       "[1] 29"
      ]
     },
     "metadata": {},
     "output_type": "display_data"
    }
   ],
   "source": [
    "len_data <- length(price_subset)\n",
    "\n",
    "len_data "
   ]
  },
  {
   "cell_type": "code",
   "execution_count": 19,
   "metadata": {},
   "outputs": [
    {
     "data": {
      "text/html": [
       "<ol class=list-inline>\n",
       "\t<li>47.009825374108</li>\n",
       "\t<li>31.1629848188972</li>\n",
       "\t<li>35.1807740459601</li>\n",
       "\t<li>37.2994686944941</li>\n",
       "\t<li>46.0552117427637</li>\n",
       "\t<li>31.9898457915187</li>\n",
       "\t<li>40.2395073836717</li>\n",
       "\t<li>32.8606730420705</li>\n",
       "\t<li>36.3980039291931</li>\n",
       "\t<li>35.2806723276329</li>\n",
       "</ol>\n"
      ],
      "text/latex": [
       "\\begin{enumerate*}\n",
       "\\item 47.009825374108\n",
       "\\item 31.1629848188972\n",
       "\\item 35.1807740459601\n",
       "\\item 37.2994686944941\n",
       "\\item 46.0552117427637\n",
       "\\item 31.9898457915187\n",
       "\\item 40.2395073836717\n",
       "\\item 32.8606730420705\n",
       "\\item 36.3980039291931\n",
       "\\item 35.2806723276329\n",
       "\\end{enumerate*}\n"
      ],
      "text/markdown": [
       "1. 47.009825374108\n",
       "2. 31.1629848188972\n",
       "3. 35.1807740459601\n",
       "4. 37.2994686944941\n",
       "5. 46.0552117427637\n",
       "6. 31.9898457915187\n",
       "7. 40.2395073836717\n",
       "8. 32.8606730420705\n",
       "9. 36.3980039291931\n",
       "10. 35.2806723276329\n",
       "\n",
       "\n"
      ],
      "text/plain": [
       " [1] 47.00983 31.16298 35.18077 37.29947 46.05521 31.98985 40.23951 32.86067\n",
       " [9] 36.39800 35.28067"
      ]
     },
     "metadata": {},
     "output_type": "display_data"
    }
   ],
   "source": [
    "std_error <- std / sqrt(price_subset)\n",
    "\n",
    "std_error[1:10]"
   ]
  },
  {
   "cell_type": "markdown",
   "metadata": {},
   "source": [
    "#### set mu value to 1000"
   ]
  },
  {
   "cell_type": "code",
   "execution_count": 20,
   "metadata": {},
   "outputs": [],
   "source": [
    "mu = 1000"
   ]
  },
  {
   "cell_type": "code",
   "execution_count": 21,
   "metadata": {},
   "outputs": [
    {
     "data": {
      "text/html": [
       "13.6667851108884"
      ],
      "text/latex": [
       "13.6667851108884"
      ],
      "text/markdown": [
       "13.6667851108884"
      ],
      "text/plain": [
       "[1] 13.66679"
      ]
     },
     "metadata": {},
     "output_type": "display_data"
    }
   ],
   "source": [
    "t_statistic <- (actual_mean - mu) / (std / sqrt(len_data))\n",
    "\n",
    "t_statistic"
   ]
  },
  {
   "cell_type": "code",
   "execution_count": 22,
   "metadata": {},
   "outputs": [
    {
     "data": {
      "text/html": [
       "6.53040620052753e-14"
      ],
      "text/latex": [
       "6.53040620052753e-14"
      ],
      "text/markdown": [
       "6.53040620052753e-14"
      ],
      "text/plain": [
       "[1] 6.530406e-14"
      ]
     },
     "metadata": {},
     "output_type": "display_data"
    }
   ],
   "source": [
    "p_value <- 2 * pt(t_statistic, df = len_data - 1, lower = F)\n",
    "\n",
    "p_value"
   ]
  },
  {
   "cell_type": "markdown",
   "metadata": {},
   "source": [
    "#### Checking the p_value condition whether we should do null hypothesis or alternative hypothesis"
   ]
  },
  {
   "cell_type": "code",
   "execution_count": 23,
   "metadata": {},
   "outputs": [
    {
     "data": {
      "text/html": [
       "'Mean of sample not equal to 1000 (alternative hypotheses)'"
      ],
      "text/latex": [
       "'Mean of sample not equal to 1000 (alternative hypotheses)'"
      ],
      "text/markdown": [
       "'Mean of sample not equal to 1000 (alternative hypotheses)'"
      ],
      "text/plain": [
       "[1] \"Mean of sample not equal to 1000 (alternative hypotheses)\""
      ]
     },
     "metadata": {},
     "output_type": "display_data"
    }
   ],
   "source": [
    "if (p_value <= 0.05) {\n",
    "    'Mean of sample not equal to 1000 (alternative hypotheses)' \n",
    "} else { \n",
    "    'Mean of sample is equal to 1000 (null hypotheses)'\n",
    "}"
   ]
  },
  {
   "cell_type": "markdown",
   "metadata": {},
   "source": [
    "### Find t-test by the help of t.test function \n",
    "\n",
    "https://www.rdocumentation.org/packages/stats/versions/3.6.1/topics/t.test"
   ]
  },
  {
   "cell_type": "code",
   "execution_count": 24,
   "metadata": {},
   "outputs": [
    {
     "data": {
      "text/plain": [
       "   Min. 1st Qu.  Median    Mean 3rd Qu.    Max. \n",
       "   5348    7295    8921    9725   11549   19699 "
      ]
     },
     "metadata": {},
     "output_type": "display_data"
    }
   ],
   "source": [
    "summary(price_subset)"
   ]
  },
  {
   "cell_type": "code",
   "execution_count": 25,
   "metadata": {},
   "outputs": [
    {
     "data": {
      "text/plain": [
       "\n",
       "\tOne Sample t-test\n",
       "\n",
       "data:  price_subset\n",
       "t = 13.667, df = 28, p-value = 6.53e-14\n",
       "alternative hypothesis: true mean is not equal to 1000\n",
       "95 percent confidence interval:\n",
       "  8417.044 11032.405\n",
       "sample estimates:\n",
       "mean of x \n",
       " 9724.724 \n"
      ]
     },
     "metadata": {},
     "output_type": "display_data"
    }
   ],
   "source": [
    "t_test <- t.test(price_subset, mu = mu, alternative = \"two.sided\")\n",
    "\n",
    "t_test"
   ]
  },
  {
   "cell_type": "markdown",
   "metadata": {},
   "source": [
    "##### The p-value of the test is less than the significance level alpha = 0.05. We can conclude that the mean price of the car is significantly different from 1000 with the p-value it had calculated."
   ]
  },
  {
   "cell_type": "code",
   "execution_count": 26,
   "metadata": {},
   "outputs": [
    {
     "data": {
      "text/html": [
       "<ol class=list-inline>\n",
       "\t<li>'statistic'</li>\n",
       "\t<li>'parameter'</li>\n",
       "\t<li>'p.value'</li>\n",
       "\t<li>'conf.int'</li>\n",
       "\t<li>'estimate'</li>\n",
       "\t<li>'null.value'</li>\n",
       "\t<li>'stderr'</li>\n",
       "\t<li>'alternative'</li>\n",
       "\t<li>'method'</li>\n",
       "\t<li>'data.name'</li>\n",
       "</ol>\n"
      ],
      "text/latex": [
       "\\begin{enumerate*}\n",
       "\\item 'statistic'\n",
       "\\item 'parameter'\n",
       "\\item 'p.value'\n",
       "\\item 'conf.int'\n",
       "\\item 'estimate'\n",
       "\\item 'null.value'\n",
       "\\item 'stderr'\n",
       "\\item 'alternative'\n",
       "\\item 'method'\n",
       "\\item 'data.name'\n",
       "\\end{enumerate*}\n"
      ],
      "text/markdown": [
       "1. 'statistic'\n",
       "2. 'parameter'\n",
       "3. 'p.value'\n",
       "4. 'conf.int'\n",
       "5. 'estimate'\n",
       "6. 'null.value'\n",
       "7. 'stderr'\n",
       "8. 'alternative'\n",
       "9. 'method'\n",
       "10. 'data.name'\n",
       "\n",
       "\n"
      ],
      "text/plain": [
       " [1] \"statistic\"   \"parameter\"   \"p.value\"     \"conf.int\"    \"estimate\"   \n",
       " [6] \"null.value\"  \"stderr\"      \"alternative\" \"method\"      \"data.name\"  "
      ]
     },
     "metadata": {},
     "output_type": "display_data"
    }
   ],
   "source": [
    "names(t_test)"
   ]
  },
  {
   "cell_type": "code",
   "execution_count": 27,
   "metadata": {},
   "outputs": [
    {
     "data": {
      "text/html": [
       "<strong>t:</strong> 13.6667851108884"
      ],
      "text/latex": [
       "\\textbf{t:} 13.6667851108884"
      ],
      "text/markdown": [
       "**t:** 13.6667851108884"
      ],
      "text/plain": [
       "       t \n",
       "13.66679 "
      ]
     },
     "metadata": {},
     "output_type": "display_data"
    }
   ],
   "source": [
    "t_test$statistic"
   ]
  },
  {
   "cell_type": "code",
   "execution_count": 28,
   "metadata": {},
   "outputs": [
    {
     "data": {
      "text/html": [
       "6.53040620052751e-14"
      ],
      "text/latex": [
       "6.53040620052751e-14"
      ],
      "text/markdown": [
       "6.53040620052751e-14"
      ],
      "text/plain": [
       "[1] 6.530406e-14"
      ]
     },
     "metadata": {},
     "output_type": "display_data"
    }
   ],
   "source": [
    "t_test$p.value"
   ]
  },
  {
   "cell_type": "code",
   "execution_count": 29,
   "metadata": {},
   "outputs": [
    {
     "data": {
      "text/html": [
       "638.388916423364"
      ],
      "text/latex": [
       "638.388916423364"
      ],
      "text/markdown": [
       "638.388916423364"
      ],
      "text/plain": [
       "[1] 638.3889"
      ]
     },
     "metadata": {},
     "output_type": "display_data"
    }
   ],
   "source": [
    "t_test$stderr"
   ]
  },
  {
   "cell_type": "code",
   "execution_count": 30,
   "metadata": {},
   "outputs": [
    {
     "data": {
      "text/html": [
       "<ol class=list-inline>\n",
       "\t<li>8417.04372228649</li>\n",
       "\t<li>11032.4045535756</li>\n",
       "</ol>\n"
      ],
      "text/latex": [
       "\\begin{enumerate*}\n",
       "\\item 8417.04372228649\n",
       "\\item 11032.4045535756\n",
       "\\end{enumerate*}\n"
      ],
      "text/markdown": [
       "1. 8417.04372228649\n",
       "2. 11032.4045535756\n",
       "\n",
       "\n"
      ],
      "text/plain": [
       "[1]  8417.044 11032.405\n",
       "attr(,\"conf.level\")\n",
       "[1] 0.95"
      ]
     },
     "metadata": {},
     "output_type": "display_data"
    }
   ],
   "source": [
    "t_test$conf.int"
   ]
  },
  {
   "cell_type": "code",
   "execution_count": 31,
   "metadata": {},
   "outputs": [
    {
     "data": {
      "text/html": [
       "<strong>mean of x:</strong> 9724.72413793103"
      ],
      "text/latex": [
       "\\textbf{mean of x:} 9724.72413793103"
      ],
      "text/markdown": [
       "**mean of x:** 9724.72413793103"
      ],
      "text/plain": [
       "mean of x \n",
       " 9724.724 "
      ]
     },
     "metadata": {},
     "output_type": "display_data"
    }
   ],
   "source": [
    "t_test$estimate"
   ]
  },
  {
   "cell_type": "code",
   "execution_count": 32,
   "metadata": {},
   "outputs": [
    {
     "data": {
      "text/html": [
       "'One Sample t-test'"
      ],
      "text/latex": [
       "'One Sample t-test'"
      ],
      "text/markdown": [
       "'One Sample t-test'"
      ],
      "text/plain": [
       "[1] \"One Sample t-test\""
      ]
     },
     "metadata": {},
     "output_type": "display_data"
    }
   ],
   "source": [
    "t_test$method"
   ]
  },
  {
   "cell_type": "markdown",
   "metadata": {},
   "source": [
    "### Z-test\n",
    "\n",
    "https://www.rdocumentation.org/packages/BSDA/versions/1.2.0/topics/z.test\n",
    "\n",
    "Here we will take all the datapoints"
   ]
  },
  {
   "cell_type": "code",
   "execution_count": 32,
   "metadata": {},
   "outputs": [
    {
     "name": "stderr",
     "output_type": "stream",
     "text": [
      "Updating HTML index of packages in '.Library'\n",
      "Making 'packages.html' ... done\n"
     ]
    }
   ],
   "source": [
    "install.packages(c(\"pastecs\", \"TeachingDemos\"))"
   ]
  },
  {
   "cell_type": "code",
   "execution_count": 33,
   "metadata": {},
   "outputs": [
    {
     "name": "stderr",
     "output_type": "stream",
     "text": [
      "\n",
      "Attaching package: ‘pastecs’\n",
      "\n",
      "The following object is masked from ‘package:magrittr’:\n",
      "\n",
      "    extract\n",
      "\n"
     ]
    }
   ],
   "source": [
    "library(TeachingDemos)\n",
    "library(pastecs)"
   ]
  },
  {
   "cell_type": "code",
   "execution_count": 34,
   "metadata": {},
   "outputs": [
    {
     "data": {
      "text/html": [
       "187"
      ],
      "text/latex": [
       "187"
      ],
      "text/markdown": [
       "187"
      ],
      "text/plain": [
       "[1] 187"
      ]
     },
     "metadata": {},
     "output_type": "display_data"
    }
   ],
   "source": [
    "nrow(auto_mobile)"
   ]
  },
  {
   "cell_type": "code",
   "execution_count": 35,
   "metadata": {},
   "outputs": [
    {
     "data": {
      "text/plain": [
       "\n",
       "\tShapiro-Wilk normality test\n",
       "\n",
       "data:  auto_mobile$price\n",
       "W = 0.90311, p-value = 1.045e-09\n"
      ]
     },
     "metadata": {},
     "output_type": "display_data"
    }
   ],
   "source": [
    "shapiro.test(auto_mobile$price)"
   ]
  },
  {
   "cell_type": "code",
   "execution_count": 36,
   "metadata": {},
   "outputs": [
    {
     "data": {
      "image/png": "[encoded data removed]",
      "text/plain": [
       "plot without title"
      ]
     },
     "metadata": {},
     "output_type": "display_data"
    }
   ],
   "source": [
    "ggqqplot(auto_mobile$price, ylab = \"Price\",\n",
    "         ggtheme = theme_minimal())"
   ]
  },
  {
   "cell_type": "code",
   "execution_count": 37,
   "metadata": {},
   "outputs": [
    {
     "data": {
      "text/html": [
       "11503.1764705882"
      ],
      "text/latex": [
       "11503.1764705882"
      ],
      "text/markdown": [
       "11503.1764705882"
      ],
      "text/plain": [
       "[1] 11503.18"
      ]
     },
     "metadata": {},
     "output_type": "display_data"
    }
   ],
   "source": [
    "z_actual_mean <- mean(auto_mobile$price)\n",
    "\n",
    "z_actual_mean"
   ]
  },
  {
   "cell_type": "code",
   "execution_count": 38,
   "metadata": {},
   "outputs": [
    {
     "data": {
      "text/html": [
       "4979.4065421194"
      ],
      "text/latex": [
       "4979.4065421194"
      ],
      "text/markdown": [
       "4979.4065421194"
      ],
      "text/plain": [
       "[1] 4979.407"
      ]
     },
     "metadata": {},
     "output_type": "display_data"
    }
   ],
   "source": [
    "z_std <- sd(auto_mobile$price)\n",
    "\n",
    "z_std"
   ]
  },
  {
   "cell_type": "code",
   "execution_count": 39,
   "metadata": {},
   "outputs": [
    {
     "data": {
      "text/html": [
       "187"
      ],
      "text/latex": [
       "187"
      ],
      "text/markdown": [
       "187"
      ],
      "text/plain": [
       "[1] 187"
      ]
     },
     "metadata": {},
     "output_type": "display_data"
    }
   ],
   "source": [
    "z_len_data <- length(auto_mobile$price)\n",
    "\n",
    "z_len_data "
   ]
  },
  {
   "cell_type": "code",
   "execution_count": 40,
   "metadata": {},
   "outputs": [
    {
     "data": {
      "text/html": [
       "364.130269277014"
      ],
      "text/latex": [
       "364.130269277014"
      ],
      "text/markdown": [
       "364.130269277014"
      ],
      "text/plain": [
       "[1] 364.1303"
      ]
     },
     "metadata": {},
     "output_type": "display_data"
    }
   ],
   "source": [
    "z_std_error <- z_std / sqrt(z_len_data)\n",
    "\n",
    "z_std_error"
   ]
  },
  {
   "cell_type": "code",
   "execution_count": 41,
   "metadata": {},
   "outputs": [
    {
     "data": {
      "text/html": [
       "1000"
      ],
      "text/latex": [
       "1000"
      ],
      "text/markdown": [
       "1000"
      ],
      "text/plain": [
       "[1] 1000"
      ]
     },
     "metadata": {},
     "output_type": "display_data"
    }
   ],
   "source": [
    "mu"
   ]
  },
  {
   "cell_type": "code",
   "execution_count": 42,
   "metadata": {},
   "outputs": [
    {
     "data": {
      "text/html": [
       "28.8445574476476"
      ],
      "text/latex": [
       "28.8445574476476"
      ],
      "text/markdown": [
       "28.8445574476476"
      ],
      "text/plain": [
       "[1] 28.84456"
      ]
     },
     "metadata": {},
     "output_type": "display_data"
    }
   ],
   "source": [
    "z_statistic <- (z_actual_mean - mu) / (z_std / sqrt(z_len_data))\n",
    "\n",
    "z_statistic"
   ]
  },
  {
   "cell_type": "code",
   "execution_count": 43,
   "metadata": {},
   "outputs": [
    {
     "data": {
      "text/html": [
       "5.9293455491803e-183"
      ],
      "text/latex": [
       "5.9293455491803e-183"
      ],
      "text/markdown": [
       "5.9293455491803e-183"
      ],
      "text/plain": [
       "[1] 5.929346e-183"
      ]
     },
     "metadata": {},
     "output_type": "display_data"
    }
   ],
   "source": [
    "p_value <- 2 * pnorm(-abs(z_statistic))\n",
    "\n",
    "p_value"
   ]
  },
  {
   "cell_type": "code",
   "execution_count": 44,
   "metadata": {},
   "outputs": [
    {
     "data": {
      "text/html": [
       "'Mean of sample not equal to 1000 (alternative hypotheses)'"
      ],
      "text/latex": [
       "'Mean of sample not equal to 1000 (alternative hypotheses)'"
      ],
      "text/markdown": [
       "'Mean of sample not equal to 1000 (alternative hypotheses)'"
      ],
      "text/plain": [
       "[1] \"Mean of sample not equal to 1000 (alternative hypotheses)\""
      ]
     },
     "metadata": {},
     "output_type": "display_data"
    }
   ],
   "source": [
    "if (p_value <= 0.05) {\n",
    "    'Mean of sample not equal to 1000 (alternative hypotheses)' \n",
    "} else { \n",
    "    'Mean of sample is equal to 1000 (null hypotheses)'\n",
    "}"
   ]
  },
  {
   "cell_type": "code",
   "execution_count": 45,
   "metadata": {},
   "outputs": [
    {
     "data": {
      "text/plain": [
       "\n",
       "\tOne Sample z-test\n",
       "\n",
       "data:  auto_mobile$price\n",
       "z = 28.845, n = 187.00, Std. Dev. = 4979.41, Std. Dev. of the sample\n",
       "mean = 364.13, p-value < 2.2e-16\n",
       "alternative hypothesis: true mean is not equal to 1000\n",
       "95 percent confidence interval:\n",
       " 10789.49 12216.86\n",
       "sample estimates:\n",
       "mean of auto_mobile$price \n",
       "                 11503.18 \n"
      ]
     },
     "metadata": {},
     "output_type": "display_data"
    }
   ],
   "source": [
    "z_test <- z.test(auto_mobile$price, mu = mu, stdev = z_std)\n",
    "\n",
    "z_test"
   ]
  },
  {
   "cell_type": "markdown",
   "metadata": {},
   "source": [
    "##### The p-value of the test is less than the significance level alpha = 0.05. We can conclude that the mean price of the car is significantly different from 1000 with the p-value it had calculated."
   ]
  },
  {
   "cell_type": "code",
   "execution_count": 46,
   "metadata": {},
   "outputs": [
    {
     "data": {
      "text/html": [
       "<ol class=list-inline>\n",
       "\t<li>'statistic'</li>\n",
       "\t<li>'parameter'</li>\n",
       "\t<li>'p.value'</li>\n",
       "\t<li>'conf.int'</li>\n",
       "\t<li>'estimate'</li>\n",
       "\t<li>'null.value'</li>\n",
       "\t<li>'alternative'</li>\n",
       "\t<li>'method'</li>\n",
       "\t<li>'data.name'</li>\n",
       "</ol>\n"
      ],
      "text/latex": [
       "\\begin{enumerate*}\n",
       "\\item 'statistic'\n",
       "\\item 'parameter'\n",
       "\\item 'p.value'\n",
       "\\item 'conf.int'\n",
       "\\item 'estimate'\n",
       "\\item 'null.value'\n",
       "\\item 'alternative'\n",
       "\\item 'method'\n",
       "\\item 'data.name'\n",
       "\\end{enumerate*}\n"
      ],
      "text/markdown": [
       "1. 'statistic'\n",
       "2. 'parameter'\n",
       "3. 'p.value'\n",
       "4. 'conf.int'\n",
       "5. 'estimate'\n",
       "6. 'null.value'\n",
       "7. 'alternative'\n",
       "8. 'method'\n",
       "9. 'data.name'\n",
       "\n",
       "\n"
      ],
      "text/plain": [
       "[1] \"statistic\"   \"parameter\"   \"p.value\"     \"conf.int\"    \"estimate\"   \n",
       "[6] \"null.value\"  \"alternative\" \"method\"      \"data.name\"  "
      ]
     },
     "metadata": {},
     "output_type": "display_data"
    }
   ],
   "source": [
    "names(z_test)"
   ]
  },
  {
   "cell_type": "markdown",
   "metadata": {},
   "source": [
    "##### Showing what type of z-test was performed"
   ]
  },
  {
   "cell_type": "code",
   "execution_count": 47,
   "metadata": {},
   "outputs": [
    {
     "data": {
      "text/html": [
       "'One Sample z-test'"
      ],
      "text/latex": [
       "'One Sample z-test'"
      ],
      "text/markdown": [
       "'One Sample z-test'"
      ],
      "text/plain": [
       "[1] \"One Sample z-test\""
      ]
     },
     "metadata": {},
     "output_type": "display_data"
    }
   ],
   "source": [
    "z_test$method"
   ]
  },
  {
   "cell_type": "markdown",
   "metadata": {},
   "source": [
    "##### Showing data"
   ]
  },
  {
   "cell_type": "code",
   "execution_count": 48,
   "metadata": {},
   "outputs": [
    {
     "data": {
      "text/html": [
       "'auto_mobile$price'"
      ],
      "text/latex": [
       "'auto\\_mobile\\$price'"
      ],
      "text/markdown": [
       "'auto_mobile$price'"
      ],
      "text/plain": [
       "[1] \"auto_mobile$price\""
      ]
     },
     "metadata": {},
     "output_type": "display_data"
    }
   ],
   "source": [
    "z_test$data.name"
   ]
  },
  {
   "cell_type": "markdown",
   "metadata": {},
   "source": [
    "##### Showing value of t-statistic"
   ]
  },
  {
   "cell_type": "code",
   "execution_count": 49,
   "metadata": {},
   "outputs": [
    {
     "data": {
      "text/html": [
       "<strong>z:</strong> 28.8445574476476"
      ],
      "text/latex": [
       "\\textbf{z:} 28.8445574476476"
      ],
      "text/markdown": [
       "**z:** 28.8445574476476"
      ],
      "text/plain": [
       "       z \n",
       "28.84456 "
      ]
     },
     "metadata": {},
     "output_type": "display_data"
    }
   ],
   "source": [
    "z_test$statistic"
   ]
  },
  {
   "cell_type": "code",
   "execution_count": 50,
   "metadata": {},
   "outputs": [
    {
     "data": {
      "text/html": [
       "<dl class=dl-horizontal>\n",
       "\t<dt>n</dt>\n",
       "\t\t<dd>187</dd>\n",
       "\t<dt>Std. Dev.</dt>\n",
       "\t\t<dd>4979.4065421194</dd>\n",
       "\t<dt>Std. Dev. of the sample mean</dt>\n",
       "\t\t<dd>364.130269277014</dd>\n",
       "</dl>\n"
      ],
      "text/latex": [
       "\\begin{description*}\n",
       "\\item[n] 187\n",
       "\\item[Std. Dev.] 4979.4065421194\n",
       "\\item[Std. Dev. of the sample mean] 364.130269277014\n",
       "\\end{description*}\n"
      ],
      "text/markdown": [
       "n\n",
       ":   187Std. Dev.\n",
       ":   4979.4065421194Std. Dev. of the sample mean\n",
       ":   364.130269277014\n",
       "\n"
      ],
      "text/plain": [
       "                           n                    Std. Dev. \n",
       "                    187.0000                    4979.4065 \n",
       "Std. Dev. of the sample mean \n",
       "                    364.1303 "
      ]
     },
     "metadata": {},
     "output_type": "display_data"
    }
   ],
   "source": [
    "z_test$parameter"
   ]
  },
  {
   "cell_type": "code",
   "execution_count": 51,
   "metadata": {},
   "outputs": [
    {
     "data": {
      "text/html": [
       "5.9293455491803e-183"
      ],
      "text/latex": [
       "5.9293455491803e-183"
      ],
      "text/markdown": [
       "5.9293455491803e-183"
      ],
      "text/plain": [
       "[1] 5.929346e-183"
      ]
     },
     "metadata": {},
     "output_type": "display_data"
    }
   ],
   "source": [
    "z_test$p.value"
   ]
  },
  {
   "cell_type": "code",
   "execution_count": 52,
   "metadata": {},
   "outputs": [
    {
     "data": {
      "text/html": [
       "<ol class=list-inline>\n",
       "\t<li>10789.4942571244</li>\n",
       "\t<li>12216.8586840521</li>\n",
       "</ol>\n"
      ],
      "text/latex": [
       "\\begin{enumerate*}\n",
       "\\item 10789.4942571244\n",
       "\\item 12216.8586840521\n",
       "\\end{enumerate*}\n"
      ],
      "text/markdown": [
       "1. 10789.4942571244\n",
       "2. 12216.8586840521\n",
       "\n",
       "\n"
      ],
      "text/plain": [
       "[1] 10789.49 12216.86\n",
       "attr(,\"conf.level\")\n",
       "[1] 0.95"
      ]
     },
     "metadata": {},
     "output_type": "display_data"
    }
   ],
   "source": [
    "z_test$conf.int"
   ]
  },
  {
   "cell_type": "code",
   "execution_count": 53,
   "metadata": {},
   "outputs": [
    {
     "data": {
      "text/html": [
       "<strong>mean of auto_mobile$price:</strong> 11503.1764705882"
      ],
      "text/latex": [
       "\\textbf{mean of auto\\textbackslash{}\\_mobile\\textbackslash{}\\$price:} 11503.1764705882"
      ],
      "text/markdown": [
       "**mean of auto_mobile$price:** 11503.1764705882"
      ],
      "text/plain": [
       "mean of auto_mobile$price \n",
       "                 11503.18 "
      ]
     },
     "metadata": {},
     "output_type": "display_data"
    }
   ],
   "source": [
    "z_test$estimate"
   ]
  },
  {
   "cell_type": "code",
   "execution_count": null,
   "metadata": {},
   "outputs": [],
   "source": []
  },
  {
   "cell_type": "code",
   "execution_count": null,
   "metadata": {},
   "outputs": [],
   "source": []
  },
  {
   "cell_type": "code",
   "execution_count": null,
   "metadata": {},
   "outputs": [],
   "source": []
  },
  {
   "cell_type": "code",
   "execution_count": null,
   "metadata": {},
   "outputs": [],
   "source": []
  },
  {
   "cell_type": "code",
   "execution_count": null,
   "metadata": {},
   "outputs": [],
   "source": []
  },
  {
   "cell_type": "code",
   "execution_count": null,
   "metadata": {},
   "outputs": [],
   "source": []
  },
  {
   "cell_type": "code",
   "execution_count": null,
   "metadata": {},
   "outputs": [],
   "source": []
  },
  {
   "cell_type": "code",
   "execution_count": null,
   "metadata": {},
   "outputs": [],
   "source": []
  },
  {
   "cell_type": "code",
   "execution_count": null,
   "metadata": {},
   "outputs": [],
   "source": []
  },
  {
   "cell_type": "code",
   "execution_count": null,
   "metadata": {},
   "outputs": [],
   "source": []
  },
  {
   "cell_type": "code",
   "execution_count": null,
   "metadata": {},
   "outputs": [],
   "source": []
  },
  {
   "cell_type": "code",
   "execution_count": null,
   "metadata": {},
   "outputs": [],
   "source": []
  },
  {
   "cell_type": "code",
   "execution_count": null,
   "metadata": {},
   "outputs": [],
   "source": []
  },
  {
   "cell_type": "code",
   "execution_count": null,
   "metadata": {},
   "outputs": [],
   "source": []
  },
  {
   "cell_type": "code",
   "execution_count": null,
   "metadata": {},
   "outputs": [],
   "source": []
  },
  {
   "cell_type": "code",
   "execution_count": null,
   "metadata": {},
   "outputs": [],
   "source": []
  },
  {
   "cell_type": "code",
   "execution_count": null,
   "metadata": {},
   "outputs": [],
   "source": []
  },
  {
   "cell_type": "code",
   "execution_count": null,
   "metadata": {},
   "outputs": [],
   "source": []
  },
  {
   "cell_type": "code",
   "execution_count": null,
   "metadata": {},
   "outputs": [],
   "source": []
  },
  {
   "cell_type": "code",
   "execution_count": null,
   "metadata": {},
   "outputs": [],
   "source": []
  },
  {
   "cell_type": "code",
   "execution_count": null,
   "metadata": {},
   "outputs": [],
   "source": []
  },
  {
   "cell_type": "code",
   "execution_count": null,
   "metadata": {},
   "outputs": [],
   "source": []
  },
  {
   "cell_type": "code",
   "execution_count": null,
   "metadata": {},
   "outputs": [],
   "source": []
  },
  {
   "cell_type": "code",
   "execution_count": null,
   "metadata": {},
   "outputs": [],
   "source": []
  },
  {
   "cell_type": "code",
   "execution_count": null,
   "metadata": {},
   "outputs": [],
   "source": []
  }
 ],
 "metadata": {
  "kernelspec": {
   "display_name": "R",
   "language": "R",
   "name": "ir"
  },
  "language_info": {
   "codemirror_mode": "r",
   "file_extension": ".r",
   "mimetype": "text/x-r-source",
   "name": "R",
   "pygments_lexer": "r",
   "version": "3.6.1"
  }
 },
 "nbformat": 4,
 "nbformat_minor": 2
}
