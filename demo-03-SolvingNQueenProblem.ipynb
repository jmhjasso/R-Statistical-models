{
 "cells": [
  {
   "cell_type": "markdown",
   "metadata": {},
   "source": [
    "### Solving N-queen problem with local search method"
   ]
  },
  {
   "cell_type": "markdown",
   "metadata": {},
   "source": [
    "https://cran.r-project.org/web/packages/NMOF/index.html"
   ]
  },
  {
   "cell_type": "code",
   "execution_count": 98,
   "metadata": {},
   "outputs": [
    {
     "name": "stderr",
     "output_type": "stream",
     "text": [
      "Updating HTML index of packages in '.Library'\n",
      "Making 'packages.html' ... done\n"
     ]
    }
   ],
   "source": [
    "install.packages(\"NMOF\")"
   ]
  },
  {
   "cell_type": "code",
   "execution_count": 1,
   "metadata": {},
   "outputs": [],
   "source": [
    "library(NMOF)"
   ]
  },
  {
   "cell_type": "markdown",
   "metadata": {},
   "source": [
    "#### Board Size"
   ]
  },
  {
   "cell_type": "code",
   "execution_count": 2,
   "metadata": {},
   "outputs": [],
   "source": [
    "board_size <- 8"
   ]
  },
  {
   "cell_type": "markdown",
   "metadata": {},
   "source": [
    "#### Just assuming the random position of the queens on the board ( taking a random solution)"
   ]
  },
  {
   "cell_type": "code",
   "execution_count": 3,
   "metadata": {},
   "outputs": [
    {
     "data": {
      "text/html": [
       "<ol class=list-inline>\n",
       "\t<li>7</li>\n",
       "\t<li>3</li>\n",
       "\t<li>6</li>\n",
       "\t<li>8</li>\n",
       "\t<li>1</li>\n",
       "\t<li>5</li>\n",
       "\t<li>4</li>\n",
       "\t<li>2</li>\n",
       "</ol>\n"
      ],
      "text/latex": [
       "\\begin{enumerate*}\n",
       "\\item 7\n",
       "\\item 3\n",
       "\\item 6\n",
       "\\item 8\n",
       "\\item 1\n",
       "\\item 5\n",
       "\\item 4\n",
       "\\item 2\n",
       "\\end{enumerate*}\n"
      ],
      "text/markdown": [
       "1. 7\n",
       "2. 3\n",
       "3. 6\n",
       "4. 8\n",
       "5. 1\n",
       "6. 5\n",
       "7. 4\n",
       "8. 2\n",
       "\n",
       "\n"
      ],
      "text/plain": [
       "[1] 7 3 6 8 1 5 4 2"
      ]
     },
     "metadata": {},
     "output_type": "display_data"
    }
   ],
   "source": [
    "pos <- sample.int(board_size)\n",
    "\n",
    "pos"
   ]
  },
  {
   "cell_type": "code",
   "execution_count": 4,
   "metadata": {},
   "outputs": [
    {
     "data": {
      "text/html": [
       "<table>\n",
       "<thead><tr><th scope=col>row</th><th scope=col>column</th></tr></thead>\n",
       "<tbody>\n",
       "\t<tr><td>1</td><td>7</td></tr>\n",
       "\t<tr><td>2</td><td>3</td></tr>\n",
       "\t<tr><td>3</td><td>6</td></tr>\n",
       "\t<tr><td>4</td><td>8</td></tr>\n",
       "\t<tr><td>5</td><td>1</td></tr>\n",
       "\t<tr><td>6</td><td>5</td></tr>\n",
       "\t<tr><td>7</td><td>4</td></tr>\n",
       "\t<tr><td>8</td><td>2</td></tr>\n",
       "</tbody>\n",
       "</table>\n"
      ],
      "text/latex": [
       "\\begin{tabular}{r|ll}\n",
       " row & column\\\\\n",
       "\\hline\n",
       "\t 1 & 7\\\\\n",
       "\t 2 & 3\\\\\n",
       "\t 3 & 6\\\\\n",
       "\t 4 & 8\\\\\n",
       "\t 5 & 1\\\\\n",
       "\t 6 & 5\\\\\n",
       "\t 7 & 4\\\\\n",
       "\t 8 & 2\\\\\n",
       "\\end{tabular}\n"
      ],
      "text/markdown": [
       "\n",
       "| row | column |\n",
       "|---|---|\n",
       "| 1 | 7 |\n",
       "| 2 | 3 |\n",
       "| 3 | 6 |\n",
       "| 4 | 8 |\n",
       "| 5 | 1 |\n",
       "| 6 | 5 |\n",
       "| 7 | 4 |\n",
       "| 8 | 2 |\n",
       "\n"
      ],
      "text/plain": [
       "  row column\n",
       "1 1   7     \n",
       "2 2   3     \n",
       "3 3   6     \n",
       "4 4   8     \n",
       "5 5   1     \n",
       "6 6   5     \n",
       "7 7   4     \n",
       "8 8   2     "
      ]
     },
     "metadata": {},
     "output_type": "display_data"
    }
   ],
   "source": [
    "data.frame(row = 1:board_size, column=pos)"
   ]
  },
  {
   "cell_type": "markdown",
   "metadata": {},
   "source": [
    "#### Function for visualizing position of queens on board"
   ]
  },
  {
   "cell_type": "code",
   "execution_count": 5,
   "metadata": {},
   "outputs": [],
   "source": [
    "print_board <- function(position, q.char=\"1\", sep = \" \") {\n",
    "\n",
    "    n <- length(position)\n",
    "    row <- rep(\"*\", n)\n",
    "\n",
    "    for (i in seq_len(n)) {\n",
    "\n",
    "         row_i <- row \n",
    "         row_i[position[i]] <- q.char\n",
    "\n",
    "         cat(paste(row_i, collapse = sep))\n",
    "         cat(\"\\n\")\n",
    "    }   \n",
    "}"
   ]
  },
  {
   "cell_type": "code",
   "execution_count": 6,
   "metadata": {},
   "outputs": [
    {
     "name": "stdout",
     "output_type": "stream",
     "text": [
      "* * * * * * 1 *\n",
      "* * 1 * * * * *\n",
      "* * * * * 1 * *\n",
      "* * * * * * * 1\n",
      "1 * * * * * * *\n",
      "* * * * 1 * * *\n",
      "* * * 1 * * * *\n",
      "* 1 * * * * * *\n"
     ]
    }
   ],
   "source": [
    "print_board(pos)"
   ]
  },
  {
   "cell_type": "markdown",
   "metadata": {},
   "source": [
    "### Evaluating a solution\n",
    "\n",
    "We need to compute on what row, column, diagonal (top left to bottom right) or reverse diagonal (top right\n",
    "to bottom left) a queen stands. Rows and columns are simple. We label the diagonals as follows.\n",
    "\n",
    "#### Initializing a null matrix with size N x N"
   ]
  },
  {
   "cell_type": "code",
   "execution_count": 7,
   "metadata": {},
   "outputs": [
    {
     "data": {
      "text/html": [
       "<table>\n",
       "<tbody>\n",
       "\t<tr><td>NA</td><td>NA</td><td>NA</td><td>NA</td><td>NA</td><td>NA</td><td>NA</td><td>NA</td></tr>\n",
       "\t<tr><td>NA</td><td>NA</td><td>NA</td><td>NA</td><td>NA</td><td>NA</td><td>NA</td><td>NA</td></tr>\n",
       "\t<tr><td>NA</td><td>NA</td><td>NA</td><td>NA</td><td>NA</td><td>NA</td><td>NA</td><td>NA</td></tr>\n",
       "\t<tr><td>NA</td><td>NA</td><td>NA</td><td>NA</td><td>NA</td><td>NA</td><td>NA</td><td>NA</td></tr>\n",
       "\t<tr><td>NA</td><td>NA</td><td>NA</td><td>NA</td><td>NA</td><td>NA</td><td>NA</td><td>NA</td></tr>\n",
       "\t<tr><td>NA</td><td>NA</td><td>NA</td><td>NA</td><td>NA</td><td>NA</td><td>NA</td><td>NA</td></tr>\n",
       "\t<tr><td>NA</td><td>NA</td><td>NA</td><td>NA</td><td>NA</td><td>NA</td><td>NA</td><td>NA</td></tr>\n",
       "\t<tr><td>NA</td><td>NA</td><td>NA</td><td>NA</td><td>NA</td><td>NA</td><td>NA</td><td>NA</td></tr>\n",
       "</tbody>\n",
       "</table>\n"
      ],
      "text/latex": [
       "\\begin{tabular}{llllllll}\n",
       "\t NA & NA & NA & NA & NA & NA & NA & NA\\\\\n",
       "\t NA & NA & NA & NA & NA & NA & NA & NA\\\\\n",
       "\t NA & NA & NA & NA & NA & NA & NA & NA\\\\\n",
       "\t NA & NA & NA & NA & NA & NA & NA & NA\\\\\n",
       "\t NA & NA & NA & NA & NA & NA & NA & NA\\\\\n",
       "\t NA & NA & NA & NA & NA & NA & NA & NA\\\\\n",
       "\t NA & NA & NA & NA & NA & NA & NA & NA\\\\\n",
       "\t NA & NA & NA & NA & NA & NA & NA & NA\\\\\n",
       "\\end{tabular}\n"
      ],
      "text/markdown": [
       "\n",
       "| NA | NA | NA | NA | NA | NA | NA | NA |\n",
       "| NA | NA | NA | NA | NA | NA | NA | NA |\n",
       "| NA | NA | NA | NA | NA | NA | NA | NA |\n",
       "| NA | NA | NA | NA | NA | NA | NA | NA |\n",
       "| NA | NA | NA | NA | NA | NA | NA | NA |\n",
       "| NA | NA | NA | NA | NA | NA | NA | NA |\n",
       "| NA | NA | NA | NA | NA | NA | NA | NA |\n",
       "| NA | NA | NA | NA | NA | NA | NA | NA |\n",
       "\n"
      ],
      "text/plain": [
       "     [,1] [,2] [,3] [,4] [,5] [,6] [,7] [,8]\n",
       "[1,] NA   NA   NA   NA   NA   NA   NA   NA  \n",
       "[2,] NA   NA   NA   NA   NA   NA   NA   NA  \n",
       "[3,] NA   NA   NA   NA   NA   NA   NA   NA  \n",
       "[4,] NA   NA   NA   NA   NA   NA   NA   NA  \n",
       "[5,] NA   NA   NA   NA   NA   NA   NA   NA  \n",
       "[6,] NA   NA   NA   NA   NA   NA   NA   NA  \n",
       "[7,] NA   NA   NA   NA   NA   NA   NA   NA  \n",
       "[8,] NA   NA   NA   NA   NA   NA   NA   NA  "
      ]
     },
     "metadata": {},
     "output_type": "display_data"
    }
   ],
   "source": [
    "board <- array(NA, dim=c(board_size, board_size))\n",
    "\n",
    "board"
   ]
  },
  {
   "cell_type": "markdown",
   "metadata": {},
   "source": [
    "##### Here we are taking reverse diagonal"
   ]
  },
  {
   "cell_type": "code",
   "execution_count": 8,
   "metadata": {},
   "outputs": [
    {
     "data": {
      "text/html": [
       "<table>\n",
       "<tbody>\n",
       "\t<tr><td> 0</td><td> 1</td><td> 2</td><td> 3</td><td> 4</td><td> 5</td><td> 6</td><td>7 </td></tr>\n",
       "\t<tr><td>-1</td><td> 0</td><td> 1</td><td> 2</td><td> 3</td><td> 4</td><td> 5</td><td>6 </td></tr>\n",
       "\t<tr><td>-2</td><td>-1</td><td> 0</td><td> 1</td><td> 2</td><td> 3</td><td> 4</td><td>5 </td></tr>\n",
       "\t<tr><td>-3</td><td>-2</td><td>-1</td><td> 0</td><td> 1</td><td> 2</td><td> 3</td><td>4 </td></tr>\n",
       "\t<tr><td>-4</td><td>-3</td><td>-2</td><td>-1</td><td> 0</td><td> 1</td><td> 2</td><td>3 </td></tr>\n",
       "\t<tr><td>-5</td><td>-4</td><td>-3</td><td>-2</td><td>-1</td><td> 0</td><td> 1</td><td>2 </td></tr>\n",
       "\t<tr><td>-6</td><td>-5</td><td>-4</td><td>-3</td><td>-2</td><td>-1</td><td> 0</td><td>1 </td></tr>\n",
       "\t<tr><td>-7</td><td>-6</td><td>-5</td><td>-4</td><td>-3</td><td>-2</td><td>-1</td><td>0 </td></tr>\n",
       "</tbody>\n",
       "</table>\n"
      ],
      "text/latex": [
       "\\begin{tabular}{llllllll}\n",
       "\t  0 &  1 &  2 &  3 &  4 &  5 &  6 & 7 \\\\\n",
       "\t -1 &  0 &  1 &  2 &  3 &  4 &  5 & 6 \\\\\n",
       "\t -2 & -1 &  0 &  1 &  2 &  3 &  4 & 5 \\\\\n",
       "\t -3 & -2 & -1 &  0 &  1 &  2 &  3 & 4 \\\\\n",
       "\t -4 & -3 & -2 & -1 &  0 &  1 &  2 & 3 \\\\\n",
       "\t -5 & -4 & -3 & -2 & -1 &  0 &  1 & 2 \\\\\n",
       "\t -6 & -5 & -4 & -3 & -2 & -1 &  0 & 1 \\\\\n",
       "\t -7 & -6 & -5 & -4 & -3 & -2 & -1 & 0 \\\\\n",
       "\\end{tabular}\n"
      ],
      "text/markdown": [
       "\n",
       "|  0 |  1 |  2 |  3 |  4 |  5 |  6 | 7  |\n",
       "| -1 |  0 |  1 |  2 |  3 |  4 |  5 | 6  |\n",
       "| -2 | -1 |  0 |  1 |  2 |  3 |  4 | 5  |\n",
       "| -3 | -2 | -1 |  0 |  1 |  2 |  3 | 4  |\n",
       "| -4 | -3 | -2 | -1 |  0 |  1 |  2 | 3  |\n",
       "| -5 | -4 | -3 | -2 | -1 |  0 |  1 | 2  |\n",
       "| -6 | -5 | -4 | -3 | -2 | -1 |  0 | 1  |\n",
       "| -7 | -6 | -5 | -4 | -3 | -2 | -1 | 0  |\n",
       "\n"
      ],
      "text/plain": [
       "     [,1] [,2] [,3] [,4] [,5] [,6] [,7] [,8]\n",
       "[1,]  0    1    2    3    4    5    6   7   \n",
       "[2,] -1    0    1    2    3    4    5   6   \n",
       "[3,] -2   -1    0    1    2    3    4   5   \n",
       "[4,] -3   -2   -1    0    1    2    3   4   \n",
       "[5,] -4   -3   -2   -1    0    1    2   3   \n",
       "[6,] -5   -4   -3   -2   -1    0    1   2   \n",
       "[7,] -6   -5   -4   -3   -2   -1    0   1   \n",
       "[8,] -7   -6   -5   -4   -3   -2   -1   0   "
      ]
     },
     "metadata": {},
     "output_type": "display_data"
    }
   ],
   "source": [
    "for (row in 1:board_size)\n",
    "    for (col in 1:board_size)\n",
    "        \n",
    "        board[row, col] <- col - row\n",
    "\n",
    "board"
   ]
  },
  {
   "cell_type": "code",
   "execution_count": 9,
   "metadata": {},
   "outputs": [
    {
     "data": {
      "text/html": [
       "<table>\n",
       "<tbody>\n",
       "\t<tr><td>-7</td><td>-6</td><td>-5</td><td>-4</td><td>-3</td><td>-2</td><td>-1</td><td>0 </td></tr>\n",
       "\t<tr><td>-6</td><td>-5</td><td>-4</td><td>-3</td><td>-2</td><td>-1</td><td> 0</td><td>1 </td></tr>\n",
       "\t<tr><td>-5</td><td>-4</td><td>-3</td><td>-2</td><td>-1</td><td> 0</td><td> 1</td><td>2 </td></tr>\n",
       "\t<tr><td>-4</td><td>-3</td><td>-2</td><td>-1</td><td> 0</td><td> 1</td><td> 2</td><td>3 </td></tr>\n",
       "\t<tr><td>-3</td><td>-2</td><td>-1</td><td> 0</td><td> 1</td><td> 2</td><td> 3</td><td>4 </td></tr>\n",
       "\t<tr><td>-2</td><td>-1</td><td> 0</td><td> 1</td><td> 2</td><td> 3</td><td> 4</td><td>5 </td></tr>\n",
       "\t<tr><td>-1</td><td> 0</td><td> 1</td><td> 2</td><td> 3</td><td> 4</td><td> 5</td><td>6 </td></tr>\n",
       "\t<tr><td> 0</td><td> 1</td><td> 2</td><td> 3</td><td> 4</td><td> 5</td><td> 6</td><td>7 </td></tr>\n",
       "</tbody>\n",
       "</table>\n"
      ],
      "text/latex": [
       "\\begin{tabular}{llllllll}\n",
       "\t -7 & -6 & -5 & -4 & -3 & -2 & -1 & 0 \\\\\n",
       "\t -6 & -5 & -4 & -3 & -2 & -1 &  0 & 1 \\\\\n",
       "\t -5 & -4 & -3 & -2 & -1 &  0 &  1 & 2 \\\\\n",
       "\t -4 & -3 & -2 & -1 &  0 &  1 &  2 & 3 \\\\\n",
       "\t -3 & -2 & -1 &  0 &  1 &  2 &  3 & 4 \\\\\n",
       "\t -2 & -1 &  0 &  1 &  2 &  3 &  4 & 5 \\\\\n",
       "\t -1 &  0 &  1 &  2 &  3 &  4 &  5 & 6 \\\\\n",
       "\t  0 &  1 &  2 &  3 &  4 &  5 &  6 & 7 \\\\\n",
       "\\end{tabular}\n"
      ],
      "text/markdown": [
       "\n",
       "| -7 | -6 | -5 | -4 | -3 | -2 | -1 | 0  |\n",
       "| -6 | -5 | -4 | -3 | -2 | -1 |  0 | 1  |\n",
       "| -5 | -4 | -3 | -2 | -1 |  0 |  1 | 2  |\n",
       "| -4 | -3 | -2 | -1 |  0 |  1 |  2 | 3  |\n",
       "| -3 | -2 | -1 |  0 |  1 |  2 |  3 | 4  |\n",
       "| -2 | -1 |  0 |  1 |  2 |  3 |  4 | 5  |\n",
       "| -1 |  0 |  1 |  2 |  3 |  4 |  5 | 6  |\n",
       "|  0 |  1 |  2 |  3 |  4 |  5 |  6 | 7  |\n",
       "\n"
      ],
      "text/plain": [
       "     [,1] [,2] [,3] [,4] [,5] [,6] [,7] [,8]\n",
       "[1,] -7   -6   -5   -4   -3   -2   -1   0   \n",
       "[2,] -6   -5   -4   -3   -2   -1    0   1   \n",
       "[3,] -5   -4   -3   -2   -1    0    1   2   \n",
       "[4,] -4   -3   -2   -1    0    1    2   3   \n",
       "[5,] -3   -2   -1    0    1    2    3   4   \n",
       "[6,] -2   -1    0    1    2    3    4   5   \n",
       "[7,] -1    0    1    2    3    4    5   6   \n",
       "[8,]  0    1    2    3    4    5    6   7   "
      ]
     },
     "metadata": {},
     "output_type": "display_data"
    }
   ],
   "source": [
    "board <- array(NA, dim=c(board_size, board_size))\n",
    "\n",
    "for (row in 1:board_size)\n",
    "    for (col in 1:board_size)\n",
    "        \n",
    "        board[row, col] <- col + row - (board_size + 1)\n",
    "\n",
    "board"
   ]
  },
  {
   "cell_type": "markdown",
   "metadata": {},
   "source": [
    "#### Function for counting attacks for a particular position \n",
    "#### For perfect solution the attacks should be zero"
   ]
  },
  {
   "cell_type": "code",
   "execution_count": 10,
   "metadata": {},
   "outputs": [
    {
     "data": {
      "text/html": [
       "<ol class=list-inline>\n",
       "\t<li>7</li>\n",
       "\t<li>3</li>\n",
       "\t<li>6</li>\n",
       "\t<li>8</li>\n",
       "\t<li>1</li>\n",
       "\t<li>5</li>\n",
       "\t<li>4</li>\n",
       "\t<li>2</li>\n",
       "</ol>\n"
      ],
      "text/latex": [
       "\\begin{enumerate*}\n",
       "\\item 7\n",
       "\\item 3\n",
       "\\item 6\n",
       "\\item 8\n",
       "\\item 1\n",
       "\\item 5\n",
       "\\item 4\n",
       "\\item 2\n",
       "\\end{enumerate*}\n"
      ],
      "text/markdown": [
       "1. 7\n",
       "2. 3\n",
       "3. 6\n",
       "4. 8\n",
       "5. 1\n",
       "6. 5\n",
       "7. 4\n",
       "8. 2\n",
       "\n",
       "\n"
      ],
      "text/plain": [
       "[1] 7 3 6 8 1 5 4 2"
      ]
     },
     "metadata": {},
     "output_type": "display_data"
    }
   ],
   "source": [
    "pos"
   ]
  },
  {
   "cell_type": "code",
   "execution_count": 11,
   "metadata": {},
   "outputs": [
    {
     "data": {
      "text/html": [
       "<ol class=list-inline>\n",
       "\t<li>FALSE</li>\n",
       "\t<li>FALSE</li>\n",
       "\t<li>FALSE</li>\n",
       "\t<li>FALSE</li>\n",
       "\t<li>FALSE</li>\n",
       "\t<li>FALSE</li>\n",
       "\t<li>FALSE</li>\n",
       "\t<li>FALSE</li>\n",
       "</ol>\n"
      ],
      "text/latex": [
       "\\begin{enumerate*}\n",
       "\\item FALSE\n",
       "\\item FALSE\n",
       "\\item FALSE\n",
       "\\item FALSE\n",
       "\\item FALSE\n",
       "\\item FALSE\n",
       "\\item FALSE\n",
       "\\item FALSE\n",
       "\\end{enumerate*}\n"
      ],
      "text/markdown": [
       "1. FALSE\n",
       "2. FALSE\n",
       "3. FALSE\n",
       "4. FALSE\n",
       "5. FALSE\n",
       "6. FALSE\n",
       "7. FALSE\n",
       "8. FALSE\n",
       "\n",
       "\n"
      ],
      "text/plain": [
       "[1] FALSE FALSE FALSE FALSE FALSE FALSE FALSE FALSE"
      ]
     },
     "metadata": {},
     "output_type": "display_data"
    }
   ],
   "source": [
    "duplicated(pos)"
   ]
  },
  {
   "cell_type": "code",
   "execution_count": 12,
   "metadata": {},
   "outputs": [
    {
     "data": {
      "text/html": [
       "<ol class=list-inline>\n",
       "\t<li>1</li>\n",
       "\t<li>2</li>\n",
       "\t<li>3</li>\n",
       "\t<li>4</li>\n",
       "\t<li>5</li>\n",
       "\t<li>6</li>\n",
       "\t<li>7</li>\n",
       "\t<li>8</li>\n",
       "</ol>\n"
      ],
      "text/latex": [
       "\\begin{enumerate*}\n",
       "\\item 1\n",
       "\\item 2\n",
       "\\item 3\n",
       "\\item 4\n",
       "\\item 5\n",
       "\\item 6\n",
       "\\item 7\n",
       "\\item 8\n",
       "\\end{enumerate*}\n"
      ],
      "text/markdown": [
       "1. 1\n",
       "2. 2\n",
       "3. 3\n",
       "4. 4\n",
       "5. 5\n",
       "6. 6\n",
       "7. 7\n",
       "8. 8\n",
       "\n",
       "\n"
      ],
      "text/plain": [
       "[1] 1 2 3 4 5 6 7 8"
      ]
     },
     "metadata": {},
     "output_type": "display_data"
    }
   ],
   "source": [
    "seq_along(pos)"
   ]
  },
  {
   "cell_type": "code",
   "execution_count": 13,
   "metadata": {},
   "outputs": [
    {
     "data": {
      "text/html": [
       "<ol class=list-inline>\n",
       "\t<li>6</li>\n",
       "\t<li>1</li>\n",
       "\t<li>3</li>\n",
       "\t<li>4</li>\n",
       "\t<li>-4</li>\n",
       "\t<li>-1</li>\n",
       "\t<li>-3</li>\n",
       "\t<li>-6</li>\n",
       "</ol>\n"
      ],
      "text/latex": [
       "\\begin{enumerate*}\n",
       "\\item 6\n",
       "\\item 1\n",
       "\\item 3\n",
       "\\item 4\n",
       "\\item -4\n",
       "\\item -1\n",
       "\\item -3\n",
       "\\item -6\n",
       "\\end{enumerate*}\n"
      ],
      "text/markdown": [
       "1. 6\n",
       "2. 1\n",
       "3. 3\n",
       "4. 4\n",
       "5. -4\n",
       "6. -1\n",
       "7. -3\n",
       "8. -6\n",
       "\n",
       "\n"
      ],
      "text/plain": [
       "[1]  6  1  3  4 -4 -1 -3 -6"
      ]
     },
     "metadata": {},
     "output_type": "display_data"
    }
   ],
   "source": [
    "pos - seq_along(pos)"
   ]
  },
  {
   "cell_type": "code",
   "execution_count": 14,
   "metadata": {},
   "outputs": [
    {
     "data": {
      "text/html": [
       "<ol class=list-inline>\n",
       "\t<li>FALSE</li>\n",
       "\t<li>FALSE</li>\n",
       "\t<li>FALSE</li>\n",
       "\t<li>FALSE</li>\n",
       "\t<li>FALSE</li>\n",
       "\t<li>FALSE</li>\n",
       "\t<li>FALSE</li>\n",
       "\t<li>FALSE</li>\n",
       "</ol>\n"
      ],
      "text/latex": [
       "\\begin{enumerate*}\n",
       "\\item FALSE\n",
       "\\item FALSE\n",
       "\\item FALSE\n",
       "\\item FALSE\n",
       "\\item FALSE\n",
       "\\item FALSE\n",
       "\\item FALSE\n",
       "\\item FALSE\n",
       "\\end{enumerate*}\n"
      ],
      "text/markdown": [
       "1. FALSE\n",
       "2. FALSE\n",
       "3. FALSE\n",
       "4. FALSE\n",
       "5. FALSE\n",
       "6. FALSE\n",
       "7. FALSE\n",
       "8. FALSE\n",
       "\n",
       "\n"
      ],
      "text/plain": [
       "[1] FALSE FALSE FALSE FALSE FALSE FALSE FALSE FALSE"
      ]
     },
     "metadata": {},
     "output_type": "display_data"
    }
   ],
   "source": [
    "duplicated(pos - seq_along(pos))"
   ]
  },
  {
   "cell_type": "code",
   "execution_count": 15,
   "metadata": {},
   "outputs": [
    {
     "data": {
      "text/html": [
       "0"
      ],
      "text/latex": [
       "0"
      ],
      "text/markdown": [
       "0"
      ],
      "text/plain": [
       "[1] 0"
      ]
     },
     "metadata": {},
     "output_type": "display_data"
    }
   ],
   "source": [
    "sum(duplicated(pos - seq_along(pos)))"
   ]
  },
  {
   "cell_type": "code",
   "execution_count": 16,
   "metadata": {},
   "outputs": [
    {
     "data": {
      "text/html": [
       "1"
      ],
      "text/latex": [
       "1"
      ],
      "text/markdown": [
       "1"
      ],
      "text/plain": [
       "[1] 1"
      ]
     },
     "metadata": {},
     "output_type": "display_data"
    }
   ],
   "source": [
    "sum(duplicated(pos + seq_along(pos)))"
   ]
  },
  {
   "cell_type": "code",
   "execution_count": 17,
   "metadata": {},
   "outputs": [],
   "source": [
    "n_attacks <- function(position) {\n",
    "    sum(duplicated(position)) +\n",
    "    sum(duplicated(position - seq_along(position))) +\n",
    "    sum(duplicated(position + seq_along(position)))\n",
    "}"
   ]
  },
  {
   "cell_type": "code",
   "execution_count": 18,
   "metadata": {},
   "outputs": [
    {
     "data": {
      "text/html": [
       "1"
      ],
      "text/latex": [
       "1"
      ],
      "text/markdown": [
       "1"
      ],
      "text/plain": [
       "[1] 1"
      ]
     },
     "metadata": {},
     "output_type": "display_data"
    }
   ],
   "source": [
    "n_attacks(pos)"
   ]
  },
  {
   "cell_type": "markdown",
   "metadata": {},
   "source": [
    "### Changing a solution\n",
    "\n",
    "A given position may be modified by picking one row randomly and then moving the queen there to the left\n",
    "or right. We allow for moves up to step squares, which we set to 2 here."
   ]
  },
  {
   "cell_type": "code",
   "execution_count": 20,
   "metadata": {},
   "outputs": [],
   "source": [
    "neighbor <- function(position) {\n",
    "    step <- 2\n",
    "    i <- sample.int(board_size, 1)\n",
    "\n",
    "    position[i] <- position[i] + sample(c(1:step, -(1:step)), 1)\n",
    "\n",
    "    if (position[i] > board_size)\n",
    "        position[i] <- 1\n",
    "    else if (position[i] < 1)\n",
    "        position[i] <- board_size\n",
    "\n",
    "    position\n",
    "}"
   ]
  },
  {
   "cell_type": "markdown",
   "metadata": {},
   "source": [
    "#### Showing how the position of the queen is changing after calling neighbour function"
   ]
  },
  {
   "cell_type": "code",
   "execution_count": 21,
   "metadata": {},
   "outputs": [
    {
     "name": "stdout",
     "output_type": "stream",
     "text": [
      "* * * * * * 1 *\n",
      "* * 1 * * * * *\n",
      "* * * * * 1 * *\n",
      "* * * * * * * 1\n",
      "1 * * * * * * *\n",
      "* * * * 1 * * *\n",
      "* * * 1 * * * *\n",
      "* 1 * * * * * *\n"
     ]
    }
   ],
   "source": [
    "print_board(pos)"
   ]
  },
  {
   "cell_type": "code",
   "execution_count": 22,
   "metadata": {},
   "outputs": [
    {
     "name": "stdout",
     "output_type": "stream",
     "text": [
      "* * * * * * 1 *\n",
      "* * 1 * * * * *\n",
      "* * * * * 1 * *\n",
      "* * * * * * * 1\n",
      "1 * * * * * * *\n",
      "* * * * 1 * * *\n",
      "* * * 1 * * * *\n",
      "* * * * * * * 1\n"
     ]
    }
   ],
   "source": [
    "print_board(pos <- neighbor(pos))"
   ]
  },
  {
   "cell_type": "code",
   "execution_count": 23,
   "metadata": {},
   "outputs": [
    {
     "name": "stdout",
     "output_type": "stream",
     "text": [
      "* * * * * * 1 *\n",
      "* * 1 * * * * *\n",
      "* * * * * 1 * *\n",
      "* * * * * * * 1\n",
      "1 * * * * * * *\n",
      "* * * * 1 * * *\n",
      "* * 1 * * * * *\n",
      "* * * * * * * 1\n"
     ]
    }
   ],
   "source": [
    "print_board(pos <- neighbor(pos))"
   ]
  },
  {
   "cell_type": "markdown",
   "metadata": {},
   "source": [
    "#### Setting the position of all the queen at 1 and then finding the best solution using the Local Search method"
   ]
  },
  {
   "cell_type": "code",
   "execution_count": 24,
   "metadata": {},
   "outputs": [],
   "source": [
    "pos0 <- rep(1, board_size)"
   ]
  },
  {
   "cell_type": "code",
   "execution_count": 25,
   "metadata": {},
   "outputs": [
    {
     "name": "stdout",
     "output_type": "stream",
     "text": [
      "1 * * * * * * *\n",
      "1 * * * * * * *\n",
      "1 * * * * * * *\n",
      "1 * * * * * * *\n",
      "1 * * * * * * *\n",
      "1 * * * * * * *\n",
      "1 * * * * * * *\n",
      "1 * * * * * * *\n"
     ]
    }
   ],
   "source": [
    "print_board(pos0)"
   ]
  },
  {
   "cell_type": "markdown",
   "metadata": {},
   "source": [
    "### Simulated Annealing Method"
   ]
  },
  {
   "cell_type": "code",
   "execution_count": 26,
   "metadata": {},
   "outputs": [
    {
     "name": "stdout",
     "output_type": "stream",
     "text": [
      "\n",
      "Simulated Annealing.\n",
      "\n",
      "  |======================================================================| 100%\n",
      "OK\n",
      "Estimated remaining running time: 3.64 secs.\n",
      "\n",
      "Running Simulated Annealing ...\n",
      "Initial solution:  7 \n",
      "  |======================================================================| 100%Finished.\n",
      "Best solution overall: 0\n",
      "\n"
     ]
    }
   ],
   "source": [
    "solution <- SAopt(n_attacks, list(x0 = pos0,\n",
    "                                  neighbour = neighbor,\n",
    "                                  printBar = TRUE,\n",
    "                                  nS = 1000))"
   ]
  },
  {
   "cell_type": "code",
   "execution_count": 27,
   "metadata": {},
   "outputs": [
    {
     "data": {
      "text/html": [
       "<ol class=list-inline>\n",
       "\t<li>6</li>\n",
       "\t<li>3</li>\n",
       "\t<li>1</li>\n",
       "\t<li>8</li>\n",
       "\t<li>4</li>\n",
       "\t<li>2</li>\n",
       "\t<li>7</li>\n",
       "\t<li>5</li>\n",
       "</ol>\n"
      ],
      "text/latex": [
       "\\begin{enumerate*}\n",
       "\\item 6\n",
       "\\item 3\n",
       "\\item 1\n",
       "\\item 8\n",
       "\\item 4\n",
       "\\item 2\n",
       "\\item 7\n",
       "\\item 5\n",
       "\\end{enumerate*}\n"
      ],
      "text/markdown": [
       "1. 6\n",
       "2. 3\n",
       "3. 1\n",
       "4. 8\n",
       "5. 4\n",
       "6. 2\n",
       "7. 7\n",
       "8. 5\n",
       "\n",
       "\n"
      ],
      "text/plain": [
       "[1] 6 3 1 8 4 2 7 5"
      ]
     },
     "metadata": {},
     "output_type": "display_data"
    }
   ],
   "source": [
    "solution$xbest"
   ]
  },
  {
   "cell_type": "code",
   "execution_count": 28,
   "metadata": {},
   "outputs": [
    {
     "data": {
      "text/html": [
       "0"
      ],
      "text/latex": [
       "0"
      ],
      "text/markdown": [
       "0"
      ],
      "text/plain": [
       "[1] 0"
      ]
     },
     "metadata": {},
     "output_type": "display_data"
    }
   ],
   "source": [
    "n_attacks(solution$xbest)"
   ]
  },
  {
   "cell_type": "code",
   "execution_count": 29,
   "metadata": {},
   "outputs": [
    {
     "name": "stdout",
     "output_type": "stream",
     "text": [
      "* * * * * 1 * *\n",
      "* * 1 * * * * *\n",
      "1 * * * * * * *\n",
      "* * * * * * * 1\n",
      "* * * 1 * * * *\n",
      "* 1 * * * * * *\n",
      "* * * * * * 1 *\n",
      "* * * * 1 * * *\n"
     ]
    }
   ],
   "source": [
    "print_board(solution$xbest)"
   ]
  },
  {
   "cell_type": "markdown",
   "metadata": {},
   "source": [
    "### Local Search Method"
   ]
  },
  {
   "cell_type": "code",
   "execution_count": 30,
   "metadata": {},
   "outputs": [
    {
     "name": "stdout",
     "output_type": "stream",
     "text": [
      "\n",
      "Local Search.\n",
      "Initial solution:  7 \n",
      "  |======================================================================| 100%\n",
      "Finished.\n",
      "Best solution overall: 1\n"
     ]
    }
   ],
   "source": [
    "solution <- LSopt(n_attacks, list(x0 = pos0,\n",
    "                                  neighbour = neighbor,\n",
    "                                  printBar = TRUE,\n",
    "                                  nS = 1000))"
   ]
  },
  {
   "cell_type": "code",
   "execution_count": 31,
   "metadata": {},
   "outputs": [
    {
     "data": {
      "text/html": [
       "1"
      ],
      "text/latex": [
       "1"
      ],
      "text/markdown": [
       "1"
      ],
      "text/plain": [
       "[1] 1"
      ]
     },
     "metadata": {},
     "output_type": "display_data"
    }
   ],
   "source": [
    "n_attacks(solution$xbest)"
   ]
  },
  {
   "cell_type": "code",
   "execution_count": 32,
   "metadata": {},
   "outputs": [
    {
     "name": "stdout",
     "output_type": "stream",
     "text": [
      "* * 1 * * * * *\n",
      "* * * * * 1 * *\n",
      "* * 1 * * * * *\n",
      "* * * * * * 1 *\n",
      "* 1 * * * * * *\n",
      "* * * 1 * * * *\n",
      "* * * * * * * 1\n",
      "1 * * * * * * *\n"
     ]
    }
   ],
   "source": [
    "print_board(solution$xbest)"
   ]
  },
  {
   "cell_type": "markdown",
   "metadata": {},
   "source": [
    "### Threshold Accepting Method"
   ]
  },
  {
   "cell_type": "code",
   "execution_count": 33,
   "metadata": {},
   "outputs": [
    {
     "name": "stdout",
     "output_type": "stream",
     "text": [
      "\n",
      "Threshold Accepting\n",
      "\n",
      "  Computing thresholds ... \n",
      "  |============================================================| 100%\n",
      "  OK\n",
      "  Estimated remaining running time: 2.765 secs\n",
      "\n",
      "  Running Threshold Accepting ...\n",
      "  Initial solution: 7 \n",
      "  |============================================================| 100%\n",
      "  Finished.\n",
      "  Best solution overall: 0\n"
     ]
    }
   ],
   "source": [
    "solution <- TAopt(n_attacks, list(x0 = pos0,\n",
    "                                  neighbour = neighbor,\n",
    "                                  printBar = TRUE,\n",
    "                                  nS = 1000))"
   ]
  },
  {
   "cell_type": "code",
   "execution_count": 34,
   "metadata": {},
   "outputs": [
    {
     "data": {
      "text/html": [
       "0"
      ],
      "text/latex": [
       "0"
      ],
      "text/markdown": [
       "0"
      ],
      "text/plain": [
       "[1] 0"
      ]
     },
     "metadata": {},
     "output_type": "display_data"
    }
   ],
   "source": [
    "n_attacks(solution$xbest)"
   ]
  },
  {
   "cell_type": "code",
   "execution_count": 35,
   "metadata": {},
   "outputs": [
    {
     "name": "stdout",
     "output_type": "stream",
     "text": [
      "* * * * 1 * * *\n",
      "1 * * * * * * *\n",
      "* * * 1 * * * *\n",
      "* * * * * 1 * *\n",
      "* * * * * * * 1\n",
      "* 1 * * * * * *\n",
      "* * * * * * 1 *\n",
      "* * 1 * * * * *\n"
     ]
    }
   ],
   "source": [
    "print_board(solution$xbest)"
   ]
  },
  {
   "cell_type": "markdown",
   "metadata": {},
   "source": [
    "#### Previously we fixed the position of the queens on first position and then applying the Local Search method but this time we will take some random position and then apply the Local Search methods."
   ]
  },
  {
   "cell_type": "code",
   "execution_count": 36,
   "metadata": {},
   "outputs": [],
   "source": [
    "pos0 <- sample.int(board_size)"
   ]
  },
  {
   "cell_type": "code",
   "execution_count": 37,
   "metadata": {},
   "outputs": [
    {
     "name": "stdout",
     "output_type": "stream",
     "text": [
      "* * * * * * * 1\n",
      "* * * * * * 1 *\n",
      "* * * 1 * * * *\n",
      "* * * * 1 * * *\n",
      "* * 1 * * * * *\n",
      "1 * * * * * * *\n",
      "* * * * * 1 * *\n",
      "* 1 * * * * * *\n"
     ]
    }
   ],
   "source": [
    "print_board(pos0)"
   ]
  },
  {
   "cell_type": "code",
   "execution_count": 38,
   "metadata": {},
   "outputs": [
    {
     "name": "stdout",
     "output_type": "stream",
     "text": [
      "\n",
      "Simulated Annealing.\n",
      "\n",
      "  |======================================================================| 100%\n",
      "OK\n",
      "Estimated remaining running time: 3.275 secs.\n",
      "\n",
      "Running Simulated Annealing ...\n",
      "Initial solution:  4 \n",
      "  |======================================================================| 100%Finished.\n",
      "Best solution overall: 0\n",
      "\n"
     ]
    }
   ],
   "source": [
    "solution <- SAopt(n_attacks, list(x0 = pos0,\n",
    "                                  neighbour = neighbor,\n",
    "                                  printBar = TRUE,\n",
    "                                  nS = 1000))"
   ]
  },
  {
   "cell_type": "code",
   "execution_count": 39,
   "metadata": {},
   "outputs": [
    {
     "data": {
      "text/html": [
       "0"
      ],
      "text/latex": [
       "0"
      ],
      "text/markdown": [
       "0"
      ],
      "text/plain": [
       "[1] 0"
      ]
     },
     "metadata": {},
     "output_type": "display_data"
    }
   ],
   "source": [
    "n_attacks(solution$xbest)"
   ]
  },
  {
   "cell_type": "code",
   "execution_count": 40,
   "metadata": {},
   "outputs": [
    {
     "name": "stdout",
     "output_type": "stream",
     "text": [
      "* * * * 1 * * *\n",
      "* * * * * * 1 *\n",
      "* * * 1 * * * *\n",
      "1 * * * * * * *\n",
      "* * 1 * * * * *\n",
      "* * * * * * * 1\n",
      "* * * * * 1 * *\n",
      "* 1 * * * * * *\n"
     ]
    }
   ],
   "source": [
    "print_board(solution$xbest)"
   ]
  },
  {
   "cell_type": "code",
   "execution_count": 41,
   "metadata": {},
   "outputs": [
    {
     "name": "stdout",
     "output_type": "stream",
     "text": [
      "\n",
      "Local Search.\n",
      "Initial solution:  4 \n",
      "  |======================================================================| 100%\n",
      "Finished.\n",
      "Best solution overall: 1\n"
     ]
    }
   ],
   "source": [
    "solution <- LSopt(n_attacks, list(x0 = pos0,\n",
    "                                  neighbour = neighbor,\n",
    "                                  printBar = TRUE,\n",
    "                                  nS = 1000))"
   ]
  },
  {
   "cell_type": "code",
   "execution_count": 42,
   "metadata": {},
   "outputs": [
    {
     "data": {
      "text/html": [
       "1"
      ],
      "text/latex": [
       "1"
      ],
      "text/markdown": [
       "1"
      ],
      "text/plain": [
       "[1] 1"
      ]
     },
     "metadata": {},
     "output_type": "display_data"
    }
   ],
   "source": [
    "n_attacks(solution$xbest)"
   ]
  },
  {
   "cell_type": "code",
   "execution_count": 43,
   "metadata": {},
   "outputs": [
    {
     "name": "stdout",
     "output_type": "stream",
     "text": [
      "* * 1 * * * * *\n",
      "* * 1 * * * * *\n",
      "* * * * * 1 * *\n",
      "* * * * * * * 1\n",
      "* * * * 1 * * *\n",
      "1 * * * * * * *\n",
      "* * * 1 * * * *\n",
      "* * * * * * 1 *\n"
     ]
    }
   ],
   "source": [
    "print_board(solution$xbest)"
   ]
  },
  {
   "cell_type": "code",
   "execution_count": 44,
   "metadata": {},
   "outputs": [
    {
     "name": "stdout",
     "output_type": "stream",
     "text": [
      "\n",
      "Threshold Accepting\n",
      "\n",
      "  Computing thresholds ... \n",
      "  |============================================================| 100%\n",
      "  OK\n",
      "  Estimated remaining running time: 4.24 secs\n",
      "\n",
      "  Running Threshold Accepting ...\n",
      "  Initial solution: 4 \n",
      "  |============================================================| 100%\n",
      "  Finished.\n",
      "  Best solution overall: 0\n"
     ]
    }
   ],
   "source": [
    "solution <- TAopt(n_attacks, list(x0 = pos0,\n",
    "                                  neighbour = neighbor,\n",
    "                                  printBar = TRUE,\n",
    "                                  nS = 1000))"
   ]
  },
  {
   "cell_type": "code",
   "execution_count": 45,
   "metadata": {},
   "outputs": [
    {
     "data": {
      "text/html": [
       "0"
      ],
      "text/latex": [
       "0"
      ],
      "text/markdown": [
       "0"
      ],
      "text/plain": [
       "[1] 0"
      ]
     },
     "metadata": {},
     "output_type": "display_data"
    }
   ],
   "source": [
    "n_attacks(solution$xbest)"
   ]
  },
  {
   "cell_type": "code",
   "execution_count": 46,
   "metadata": {},
   "outputs": [
    {
     "name": "stdout",
     "output_type": "stream",
     "text": [
      "* 1 * * * * * *\n",
      "* * * * * * 1 *\n",
      "* * 1 * * * * *\n",
      "* * * * * 1 * *\n",
      "* * * * * * * 1\n",
      "* * * * 1 * * *\n",
      "1 * * * * * * *\n",
      "* * * 1 * * * *\n"
     ]
    }
   ],
   "source": [
    "print_board(solution$xbest)"
   ]
  },
  {
   "cell_type": "markdown",
   "metadata": {},
   "source": [
    "### Solving N-queens problem using function available in R\n",
    "\n",
    "This function uses a direct transcript of Bo Bernhardsson's method.\n",
    "\n",
    "https://www.rdocumentation.org/packages/magic/versions/1.5-9/topics/nqueens\n",
    "\n",
    "https://dl.acm.org/citation.cfm?id=122319.122322"
   ]
  },
  {
   "cell_type": "code",
   "execution_count": 144,
   "metadata": {},
   "outputs": [
    {
     "name": "stderr",
     "output_type": "stream",
     "text": [
      "Updating HTML index of packages in '.Library'\n",
      "Making 'packages.html' ... done\n"
     ]
    }
   ],
   "source": [
    "install.packages(\"magic\")"
   ]
  },
  {
   "cell_type": "code",
   "execution_count": 47,
   "metadata": {},
   "outputs": [
    {
     "name": "stderr",
     "output_type": "stream",
     "text": [
      "Loading required package: abind\n"
     ]
    }
   ],
   "source": [
    "library(magic)"
   ]
  },
  {
   "cell_type": "code",
   "execution_count": 48,
   "metadata": {},
   "outputs": [
    {
     "data": {
      "text/html": [
       "<table>\n",
       "<tbody>\n",
       "\t<tr><td>0</td><td>1</td><td>0</td><td>0</td></tr>\n",
       "\t<tr><td>0</td><td>0</td><td>0</td><td>0</td></tr>\n",
       "\t<tr><td>1</td><td>0</td><td>0</td><td>0</td></tr>\n",
       "\t<tr><td>0</td><td>0</td><td>1</td><td>0</td></tr>\n",
       "</tbody>\n",
       "</table>\n"
      ],
      "text/latex": [
       "\\begin{tabular}{llll}\n",
       "\t 0 & 1 & 0 & 0\\\\\n",
       "\t 0 & 0 & 0 & 0\\\\\n",
       "\t 1 & 0 & 0 & 0\\\\\n",
       "\t 0 & 0 & 1 & 0\\\\\n",
       "\\end{tabular}\n"
      ],
      "text/markdown": [
       "\n",
       "| 0 | 1 | 0 | 0 |\n",
       "| 0 | 0 | 0 | 0 |\n",
       "| 1 | 0 | 0 | 0 |\n",
       "| 0 | 0 | 1 | 0 |\n",
       "\n"
      ],
      "text/plain": [
       "     [,1] [,2] [,3] [,4]\n",
       "[1,] 0    1    0    0   \n",
       "[2,] 0    0    0    0   \n",
       "[3,] 1    0    0    0   \n",
       "[4,] 0    0    1    0   "
      ]
     },
     "metadata": {},
     "output_type": "display_data"
    }
   ],
   "source": [
    "bernhardsson(4)"
   ]
  },
  {
   "cell_type": "code",
   "execution_count": 49,
   "metadata": {},
   "outputs": [
    {
     "data": {
      "text/html": [
       "<table>\n",
       "<tbody>\n",
       "\t<tr><td>0</td><td>0</td><td>0</td><td>1</td><td>0</td><td>0</td><td>0</td><td>0</td></tr>\n",
       "\t<tr><td>0</td><td>0</td><td>0</td><td>0</td><td>0</td><td>1</td><td>0</td><td>0</td></tr>\n",
       "\t<tr><td>0</td><td>0</td><td>0</td><td>0</td><td>0</td><td>0</td><td>0</td><td>0</td></tr>\n",
       "\t<tr><td>0</td><td>1</td><td>0</td><td>0</td><td>0</td><td>0</td><td>0</td><td>0</td></tr>\n",
       "\t<tr><td>0</td><td>0</td><td>0</td><td>0</td><td>0</td><td>0</td><td>1</td><td>0</td></tr>\n",
       "\t<tr><td>1</td><td>0</td><td>0</td><td>0</td><td>0</td><td>0</td><td>0</td><td>0</td></tr>\n",
       "\t<tr><td>0</td><td>0</td><td>1</td><td>0</td><td>0</td><td>0</td><td>0</td><td>0</td></tr>\n",
       "\t<tr><td>0</td><td>0</td><td>0</td><td>0</td><td>1</td><td>0</td><td>0</td><td>0</td></tr>\n",
       "</tbody>\n",
       "</table>\n"
      ],
      "text/latex": [
       "\\begin{tabular}{llllllll}\n",
       "\t 0 & 0 & 0 & 1 & 0 & 0 & 0 & 0\\\\\n",
       "\t 0 & 0 & 0 & 0 & 0 & 1 & 0 & 0\\\\\n",
       "\t 0 & 0 & 0 & 0 & 0 & 0 & 0 & 0\\\\\n",
       "\t 0 & 1 & 0 & 0 & 0 & 0 & 0 & 0\\\\\n",
       "\t 0 & 0 & 0 & 0 & 0 & 0 & 1 & 0\\\\\n",
       "\t 1 & 0 & 0 & 0 & 0 & 0 & 0 & 0\\\\\n",
       "\t 0 & 0 & 1 & 0 & 0 & 0 & 0 & 0\\\\\n",
       "\t 0 & 0 & 0 & 0 & 1 & 0 & 0 & 0\\\\\n",
       "\\end{tabular}\n"
      ],
      "text/markdown": [
       "\n",
       "| 0 | 0 | 0 | 1 | 0 | 0 | 0 | 0 |\n",
       "| 0 | 0 | 0 | 0 | 0 | 1 | 0 | 0 |\n",
       "| 0 | 0 | 0 | 0 | 0 | 0 | 0 | 0 |\n",
       "| 0 | 1 | 0 | 0 | 0 | 0 | 0 | 0 |\n",
       "| 0 | 0 | 0 | 0 | 0 | 0 | 1 | 0 |\n",
       "| 1 | 0 | 0 | 0 | 0 | 0 | 0 | 0 |\n",
       "| 0 | 0 | 1 | 0 | 0 | 0 | 0 | 0 |\n",
       "| 0 | 0 | 0 | 0 | 1 | 0 | 0 | 0 |\n",
       "\n"
      ],
      "text/plain": [
       "     [,1] [,2] [,3] [,4] [,5] [,6] [,7] [,8]\n",
       "[1,] 0    0    0    1    0    0    0    0   \n",
       "[2,] 0    0    0    0    0    1    0    0   \n",
       "[3,] 0    0    0    0    0    0    0    0   \n",
       "[4,] 0    1    0    0    0    0    0    0   \n",
       "[5,] 0    0    0    0    0    0    1    0   \n",
       "[6,] 1    0    0    0    0    0    0    0   \n",
       "[7,] 0    0    1    0    0    0    0    0   \n",
       "[8,] 0    0    0    0    1    0    0    0   "
      ]
     },
     "metadata": {},
     "output_type": "display_data"
    }
   ],
   "source": [
    "bernhardsson(8)"
   ]
  },
  {
   "cell_type": "code",
   "execution_count": 50,
   "metadata": {},
   "outputs": [
    {
     "data": {
      "text/html": [
       "<table>\n",
       "<tbody>\n",
       "\t<tr><td>0</td><td>1</td><td>0</td><td>0</td><td>0</td><td>0</td><td>0</td><td>0</td><td>0</td><td>0</td><td>0</td><td>0</td></tr>\n",
       "\t<tr><td>0</td><td>0</td><td>0</td><td>1</td><td>0</td><td>0</td><td>0</td><td>0</td><td>0</td><td>0</td><td>0</td><td>0</td></tr>\n",
       "\t<tr><td>0</td><td>0</td><td>0</td><td>0</td><td>0</td><td>1</td><td>0</td><td>0</td><td>0</td><td>0</td><td>0</td><td>0</td></tr>\n",
       "\t<tr><td>0</td><td>0</td><td>0</td><td>0</td><td>0</td><td>0</td><td>0</td><td>1</td><td>0</td><td>0</td><td>0</td><td>0</td></tr>\n",
       "\t<tr><td>0</td><td>0</td><td>0</td><td>0</td><td>0</td><td>0</td><td>0</td><td>0</td><td>0</td><td>1</td><td>0</td><td>0</td></tr>\n",
       "\t<tr><td>0</td><td>0</td><td>0</td><td>0</td><td>0</td><td>0</td><td>0</td><td>0</td><td>0</td><td>0</td><td>0</td><td>1</td></tr>\n",
       "\t<tr><td>1</td><td>0</td><td>0</td><td>0</td><td>0</td><td>0</td><td>0</td><td>0</td><td>0</td><td>0</td><td>0</td><td>0</td></tr>\n",
       "\t<tr><td>0</td><td>0</td><td>1</td><td>0</td><td>0</td><td>0</td><td>0</td><td>0</td><td>0</td><td>0</td><td>0</td><td>0</td></tr>\n",
       "\t<tr><td>0</td><td>0</td><td>0</td><td>0</td><td>1</td><td>0</td><td>0</td><td>0</td><td>0</td><td>0</td><td>0</td><td>0</td></tr>\n",
       "\t<tr><td>0</td><td>0</td><td>0</td><td>0</td><td>0</td><td>0</td><td>1</td><td>0</td><td>0</td><td>0</td><td>0</td><td>0</td></tr>\n",
       "\t<tr><td>0</td><td>0</td><td>0</td><td>0</td><td>0</td><td>0</td><td>0</td><td>0</td><td>1</td><td>0</td><td>0</td><td>0</td></tr>\n",
       "\t<tr><td>0</td><td>0</td><td>0</td><td>0</td><td>0</td><td>0</td><td>0</td><td>0</td><td>0</td><td>0</td><td>1</td><td>0</td></tr>\n",
       "</tbody>\n",
       "</table>\n"
      ],
      "text/latex": [
       "\\begin{tabular}{llllllllllll}\n",
       "\t 0 & 1 & 0 & 0 & 0 & 0 & 0 & 0 & 0 & 0 & 0 & 0\\\\\n",
       "\t 0 & 0 & 0 & 1 & 0 & 0 & 0 & 0 & 0 & 0 & 0 & 0\\\\\n",
       "\t 0 & 0 & 0 & 0 & 0 & 1 & 0 & 0 & 0 & 0 & 0 & 0\\\\\n",
       "\t 0 & 0 & 0 & 0 & 0 & 0 & 0 & 1 & 0 & 0 & 0 & 0\\\\\n",
       "\t 0 & 0 & 0 & 0 & 0 & 0 & 0 & 0 & 0 & 1 & 0 & 0\\\\\n",
       "\t 0 & 0 & 0 & 0 & 0 & 0 & 0 & 0 & 0 & 0 & 0 & 1\\\\\n",
       "\t 1 & 0 & 0 & 0 & 0 & 0 & 0 & 0 & 0 & 0 & 0 & 0\\\\\n",
       "\t 0 & 0 & 1 & 0 & 0 & 0 & 0 & 0 & 0 & 0 & 0 & 0\\\\\n",
       "\t 0 & 0 & 0 & 0 & 1 & 0 & 0 & 0 & 0 & 0 & 0 & 0\\\\\n",
       "\t 0 & 0 & 0 & 0 & 0 & 0 & 1 & 0 & 0 & 0 & 0 & 0\\\\\n",
       "\t 0 & 0 & 0 & 0 & 0 & 0 & 0 & 0 & 1 & 0 & 0 & 0\\\\\n",
       "\t 0 & 0 & 0 & 0 & 0 & 0 & 0 & 0 & 0 & 0 & 1 & 0\\\\\n",
       "\\end{tabular}\n"
      ],
      "text/markdown": [
       "\n",
       "| 0 | 1 | 0 | 0 | 0 | 0 | 0 | 0 | 0 | 0 | 0 | 0 |\n",
       "| 0 | 0 | 0 | 1 | 0 | 0 | 0 | 0 | 0 | 0 | 0 | 0 |\n",
       "| 0 | 0 | 0 | 0 | 0 | 1 | 0 | 0 | 0 | 0 | 0 | 0 |\n",
       "| 0 | 0 | 0 | 0 | 0 | 0 | 0 | 1 | 0 | 0 | 0 | 0 |\n",
       "| 0 | 0 | 0 | 0 | 0 | 0 | 0 | 0 | 0 | 1 | 0 | 0 |\n",
       "| 0 | 0 | 0 | 0 | 0 | 0 | 0 | 0 | 0 | 0 | 0 | 1 |\n",
       "| 1 | 0 | 0 | 0 | 0 | 0 | 0 | 0 | 0 | 0 | 0 | 0 |\n",
       "| 0 | 0 | 1 | 0 | 0 | 0 | 0 | 0 | 0 | 0 | 0 | 0 |\n",
       "| 0 | 0 | 0 | 0 | 1 | 0 | 0 | 0 | 0 | 0 | 0 | 0 |\n",
       "| 0 | 0 | 0 | 0 | 0 | 0 | 1 | 0 | 0 | 0 | 0 | 0 |\n",
       "| 0 | 0 | 0 | 0 | 0 | 0 | 0 | 0 | 1 | 0 | 0 | 0 |\n",
       "| 0 | 0 | 0 | 0 | 0 | 0 | 0 | 0 | 0 | 0 | 1 | 0 |\n",
       "\n"
      ],
      "text/plain": [
       "      [,1] [,2] [,3] [,4] [,5] [,6] [,7] [,8] [,9] [,10] [,11] [,12]\n",
       " [1,] 0    1    0    0    0    0    0    0    0    0     0     0    \n",
       " [2,] 0    0    0    1    0    0    0    0    0    0     0     0    \n",
       " [3,] 0    0    0    0    0    1    0    0    0    0     0     0    \n",
       " [4,] 0    0    0    0    0    0    0    1    0    0     0     0    \n",
       " [5,] 0    0    0    0    0    0    0    0    0    1     0     0    \n",
       " [6,] 0    0    0    0    0    0    0    0    0    0     0     1    \n",
       " [7,] 1    0    0    0    0    0    0    0    0    0     0     0    \n",
       " [8,] 0    0    1    0    0    0    0    0    0    0     0     0    \n",
       " [9,] 0    0    0    0    1    0    0    0    0    0     0     0    \n",
       "[10,] 0    0    0    0    0    0    1    0    0    0     0     0    \n",
       "[11,] 0    0    0    0    0    0    0    0    1    0     0     0    \n",
       "[12,] 0    0    0    0    0    0    0    0    0    0     1     0    "
      ]
     },
     "metadata": {},
     "output_type": "display_data"
    }
   ],
   "source": [
    "bernhardsson(12)"
   ]
  },
  {
   "cell_type": "code",
   "execution_count": null,
   "metadata": {},
   "outputs": [],
   "source": []
  },
  {
   "cell_type": "markdown",
   "metadata": {},
   "source": []
  }
 ],
 "metadata": {
  "kernelspec": {
   "display_name": "R",
   "language": "R",
   "name": "ir"
  },
  "language_info": {
   "codemirror_mode": "r",
   "file_extension": ".r",
   "mimetype": "text/x-r-source",
   "name": "R",
   "pygments_lexer": "r",
   "version": "3.6.1"
  }
 },
 "nbformat": 4,
 "nbformat_minor": 2
}
