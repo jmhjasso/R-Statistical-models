{
 "cells": [
  {
   "cell_type": "markdown",
   "metadata": {},
   "source": [
    "### Installing Package"
   ]
  },
  {
   "cell_type": "markdown",
   "metadata": {},
   "source": [
    "\"Deriv\" package is used for Differentiation in R   \n",
    "Doc: https://cran.r-project.org/web/packages/Deriv/Deriv.pdf"
   ]
  },
  {
   "cell_type": "code",
   "execution_count": 1,
   "metadata": {},
   "outputs": [
    {
     "name": "stderr",
     "output_type": "stream",
     "text": [
      "Updating HTML index of packages in '.Library'\n",
      "Making 'packages.html' ... done\n"
     ]
    }
   ],
   "source": [
    "install.packages(\"Deriv\")"
   ]
  },
  {
   "cell_type": "markdown",
   "metadata": {},
   "source": [
    "### Importing package"
   ]
  },
  {
   "cell_type": "code",
   "execution_count": 1,
   "metadata": {},
   "outputs": [],
   "source": [
    "library(Deriv)"
   ]
  },
  {
   "cell_type": "code",
   "execution_count": 2,
   "metadata": {},
   "outputs": [],
   "source": [
    "options(repr.plot.width = 6, repr.plot.height = 5)"
   ]
  },
  {
   "cell_type": "markdown",
   "metadata": {},
   "source": [
    "#### Differentiating contant value and the result should be Zero"
   ]
  },
  {
   "cell_type": "code",
   "execution_count": 3,
   "metadata": {},
   "outputs": [
    {
     "data": {
      "text/html": [
       "<pre class=language-r><code>function (x) \n",
       "0</code></pre>"
      ],
      "text/latex": [
       "\\begin{minted}{r}\n",
       "function (x) \n",
       "0\n",
       "\\end{minted}"
      ],
      "text/markdown": [
       "```r\n",
       "function (x) \n",
       "0\n",
       "```"
      ],
      "text/plain": [
       "function (x) \n",
       "0"
      ]
     },
     "metadata": {},
     "output_type": "display_data"
    }
   ],
   "source": [
    "f <- function(x) {\n",
    "    10\n",
    "}\n",
    "\n",
    "Deriv(f)"
   ]
  },
  {
   "cell_type": "code",
   "execution_count": 4,
   "metadata": {},
   "outputs": [
    {
     "data": {
      "text/html": [
       "<pre class=language-r><code>function (x) \n",
       "0</code></pre>"
      ],
      "text/latex": [
       "\\begin{minted}{r}\n",
       "function (x) \n",
       "0\n",
       "\\end{minted}"
      ],
      "text/markdown": [
       "```r\n",
       "function (x) \n",
       "0\n",
       "```"
      ],
      "text/plain": [
       "function (x) \n",
       "0"
      ]
     },
     "metadata": {},
     "output_type": "display_data"
    }
   ],
   "source": [
    "f <- function(x) {\n",
    "    2345\n",
    "}\n",
    "\n",
    "Deriv(f)"
   ]
  },
  {
   "cell_type": "code",
   "execution_count": 7,
   "metadata": {},
   "outputs": [
    {
     "data": {
      "text/html": [
       "<pre class=language-r><code>function (x) \n",
       "2</code></pre>"
      ],
      "text/latex": [
       "\\begin{minted}{r}\n",
       "function (x) \n",
       "2\n",
       "\\end{minted}"
      ],
      "text/markdown": [
       "```r\n",
       "function (x) \n",
       "2\n",
       "```"
      ],
      "text/plain": [
       "function (x) \n",
       "2"
      ]
     },
     "metadata": {},
     "output_type": "display_data"
    }
   ],
   "source": [
    "f <- function(x) {\n",
    "    x*2\n",
    "}\n",
    "\n",
    "Deriv(f)"
   ]
  },
  {
   "cell_type": "code",
   "execution_count": 8,
   "metadata": {},
   "outputs": [
    {
     "data": {
      "text/html": [
       "<pre class=language-r><code>function (x) \n",
       "3456</code></pre>"
      ],
      "text/latex": [
       "\\begin{minted}{r}\n",
       "function (x) \n",
       "3456\n",
       "\\end{minted}"
      ],
      "text/markdown": [
       "```r\n",
       "function (x) \n",
       "3456\n",
       "```"
      ],
      "text/plain": [
       "function (x) \n",
       "3456"
      ]
     },
     "metadata": {},
     "output_type": "display_data"
    }
   ],
   "source": [
    "f <- function(x) {\n",
    "    x*3456\n",
    "}\n",
    "\n",
    "Deriv(f)"
   ]
  },
  {
   "cell_type": "markdown",
   "metadata": {},
   "source": [
    "#### Differention of x power 2 should be 2x"
   ]
  },
  {
   "cell_type": "code",
   "execution_count": 9,
   "metadata": {},
   "outputs": [
    {
     "data": {
      "text/html": [
       "<pre class=language-r><code>function (x) \n",
       "2 * x</code></pre>"
      ],
      "text/latex": [
       "\\begin{minted}{r}\n",
       "function (x) \n",
       "2 * x\n",
       "\\end{minted}"
      ],
      "text/markdown": [
       "```r\n",
       "function (x) \n",
       "2 * x\n",
       "```"
      ],
      "text/plain": [
       "function (x) \n",
       "2 * x"
      ]
     },
     "metadata": {},
     "output_type": "display_data"
    }
   ],
   "source": [
    "f <- function(x) {\n",
    "    x**2\n",
    "}\n",
    "\n",
    "result <- Deriv(f)\n",
    "\n",
    "result"
   ]
  },
  {
   "cell_type": "code",
   "execution_count": 10,
   "metadata": {},
   "outputs": [
    {
     "data": {
      "text/html": [
       "4"
      ],
      "text/latex": [
       "4"
      ],
      "text/markdown": [
       "4"
      ],
      "text/plain": [
       "[1] 4"
      ]
     },
     "metadata": {},
     "output_type": "display_data"
    }
   ],
   "source": [
    "result(2)"
   ]
  },
  {
   "cell_type": "code",
   "execution_count": 11,
   "metadata": {},
   "outputs": [
    {
     "data": {
      "text/html": [
       "30"
      ],
      "text/latex": [
       "30"
      ],
      "text/markdown": [
       "30"
      ],
      "text/plain": [
       "[1] 30"
      ]
     },
     "metadata": {},
     "output_type": "display_data"
    }
   ],
   "source": [
    "result(15)"
   ]
  },
  {
   "cell_type": "code",
   "execution_count": 12,
   "metadata": {},
   "outputs": [
    {
     "data": {
      "text/html": [
       "<pre class=language-r><code>function (x, y) \n",
       "c(x = cos(x) * cos(y), y = -(sin(x) * sin(y)))</code></pre>"
      ],
      "text/latex": [
       "\\begin{minted}{r}\n",
       "function (x, y) \n",
       "c(x = cos(x) * cos(y), y = -(sin(x) * sin(y)))\n",
       "\\end{minted}"
      ],
      "text/markdown": [
       "```r\n",
       "function (x, y) \n",
       "c(x = cos(x) * cos(y), y = -(sin(x) * sin(y)))\n",
       "```"
      ],
      "text/plain": [
       "function (x, y) \n",
       "c(x = cos(x) * cos(y), y = -(sin(x) * sin(y)))"
      ]
     },
     "metadata": {},
     "output_type": "display_data"
    }
   ],
   "source": [
    "f <- function(x, y) {\n",
    "    sin(x) * cos(y)\n",
    "}\n",
    "\n",
    "result <- Deriv(f)\n",
    "\n",
    "result"
   ]
  },
  {
   "cell_type": "code",
   "execution_count": 13,
   "metadata": {},
   "outputs": [
    {
     "data": {
      "text/html": [
       "<dl class=dl-horizontal>\n",
       "\t<dt>x</dt>\n",
       "\t\t<dd>0.42675112818298</dd>\n",
       "\t<dt>y</dt>\n",
       "\t\t<dd>0.272499678295396</dd>\n",
       "</dl>\n"
      ],
      "text/latex": [
       "\\begin{description*}\n",
       "\\item[x] 0.42675112818298\n",
       "\\item[y] 0.272499678295396\n",
       "\\end{description*}\n"
      ],
      "text/markdown": [
       "x\n",
       ":   0.42675112818298y\n",
       ":   0.272499678295396\n",
       "\n"
      ],
      "text/plain": [
       "        x         y \n",
       "0.4267511 0.2724997 "
      ]
     },
     "metadata": {},
     "output_type": "display_data"
    }
   ],
   "source": [
    "result(60, 90)"
   ]
  },
  {
   "cell_type": "markdown",
   "metadata": {},
   "source": [
    "#### Differentiation with respect to x only"
   ]
  },
  {
   "cell_type": "code",
   "execution_count": 17,
   "metadata": {},
   "outputs": [
    {
     "data": {
      "text/plain": [
       "cos(x) * cos(y)"
      ]
     },
     "metadata": {},
     "output_type": "display_data"
    }
   ],
   "source": [
    "Deriv(~ f(x, y), \"x\")"
   ]
  },
  {
   "cell_type": "markdown",
   "metadata": {},
   "source": [
    "#### Differentiation with respect to y only"
   ]
  },
  {
   "cell_type": "code",
   "execution_count": 18,
   "metadata": {},
   "outputs": [
    {
     "data": {
      "text/plain": [
       "-(sin(x) * sin(y))"
      ]
     },
     "metadata": {},
     "output_type": "display_data"
    }
   ],
   "source": [
    "Deriv(~ f(x, y), \"y\")"
   ]
  },
  {
   "cell_type": "markdown",
   "metadata": {},
   "source": [
    "#### We can also differentiate with respect to x and y in below format"
   ]
  },
  {
   "cell_type": "code",
   "execution_count": 19,
   "metadata": {},
   "outputs": [
    {
     "data": {
      "text/plain": [
       "c(x = cos(x) * cos(y), y = -(sin(x) * sin(y)))"
      ]
     },
     "metadata": {},
     "output_type": "display_data"
    }
   ],
   "source": [
    "Deriv(~ f(x, y), c(\"x\", \"y\"))"
   ]
  },
  {
   "cell_type": "markdown",
   "metadata": {},
   "source": [
    "### Solving ODE (Ordinary Differential Equation) using ODE function in R\n",
    "\n",
    "https://www.rdocumentation.org/packages/deSolve/versions/1.24/topics/ode"
   ]
  },
  {
   "cell_type": "code",
   "execution_count": 22,
   "metadata": {},
   "outputs": [
    {
     "name": "stderr",
     "output_type": "stream",
     "text": [
      "Updating HTML index of packages in '.Library'\n",
      "Making 'packages.html' ... done\n"
     ]
    }
   ],
   "source": [
    "install.packages(c(\"deSolve\", \"ggplot2\", \"rmarkdown\"))"
   ]
  },
  {
   "cell_type": "code",
   "execution_count": 20,
   "metadata": {},
   "outputs": [],
   "source": [
    "library(ggplot2)\n",
    "library(rmarkdown)\n",
    "library(deSolve)"
   ]
  },
  {
   "cell_type": "code",
   "execution_count": 21,
   "metadata": {},
   "outputs": [
    {
     "data": {
      "text/html": [
       "<ol class=list-inline>\n",
       "\t<li>0</li>\n",
       "\t<li>1</li>\n",
       "\t<li>2</li>\n",
       "\t<li>3</li>\n",
       "\t<li>4</li>\n",
       "\t<li>5</li>\n",
       "\t<li>6</li>\n",
       "\t<li>7</li>\n",
       "\t<li>8</li>\n",
       "\t<li>9</li>\n",
       "</ol>\n"
      ],
      "text/latex": [
       "\\begin{enumerate*}\n",
       "\\item 0\n",
       "\\item 1\n",
       "\\item 2\n",
       "\\item 3\n",
       "\\item 4\n",
       "\\item 5\n",
       "\\item 6\n",
       "\\item 7\n",
       "\\item 8\n",
       "\\item 9\n",
       "\\end{enumerate*}\n"
      ],
      "text/markdown": [
       "1. 0\n",
       "2. 1\n",
       "3. 2\n",
       "4. 3\n",
       "5. 4\n",
       "6. 5\n",
       "7. 6\n",
       "8. 7\n",
       "9. 8\n",
       "10. 9\n",
       "\n",
       "\n"
      ],
      "text/plain": [
       " [1] 0 1 2 3 4 5 6 7 8 9"
      ]
     },
     "metadata": {},
     "output_type": "display_data"
    }
   ],
   "source": [
    "time_interval <- seq(0, 9, by =  1)\n",
    "\n",
    "time_interval"
   ]
  },
  {
   "cell_type": "code",
   "execution_count": 22,
   "metadata": {},
   "outputs": [],
   "source": [
    "state <- c(x = 0)"
   ]
  },
  {
   "cell_type": "code",
   "execution_count": 23,
   "metadata": {},
   "outputs": [],
   "source": [
    "parameters <- c()"
   ]
  },
  {
   "cell_type": "markdown",
   "metadata": {},
   "source": [
    "#### Integrating a constant and the result should be a line with a constant slope"
   ]
  },
  {
   "cell_type": "code",
   "execution_count": 24,
   "metadata": {},
   "outputs": [],
   "source": [
    "model_fn <- function(t, state, parameters){\n",
    "    with(as.list(c(state, parameters)), {\n",
    "        dx <- 3\n",
    "        \n",
    "        return (list(dx))\n",
    "    })\n",
    "}"
   ]
  },
  {
   "cell_type": "code",
   "execution_count": 25,
   "metadata": {},
   "outputs": [
    {
     "data": {
      "text/html": [
       "<table>\n",
       "<thead><tr><th scope=col>time</th><th scope=col>x</th></tr></thead>\n",
       "<tbody>\n",
       "\t<tr><td>0 </td><td> 0</td></tr>\n",
       "\t<tr><td>1 </td><td> 3</td></tr>\n",
       "\t<tr><td>2 </td><td> 6</td></tr>\n",
       "\t<tr><td>3 </td><td> 9</td></tr>\n",
       "\t<tr><td>4 </td><td>12</td></tr>\n",
       "\t<tr><td>5 </td><td>15</td></tr>\n",
       "\t<tr><td>6 </td><td>18</td></tr>\n",
       "\t<tr><td>7 </td><td>21</td></tr>\n",
       "\t<tr><td>8 </td><td>24</td></tr>\n",
       "\t<tr><td>9 </td><td>27</td></tr>\n",
       "</tbody>\n",
       "</table>\n"
      ],
      "text/latex": [
       "\\begin{tabular}{ll}\n",
       " time & x\\\\\n",
       "\\hline\n",
       "\t 0  &  0\\\\\n",
       "\t 1  &  3\\\\\n",
       "\t 2  &  6\\\\\n",
       "\t 3  &  9\\\\\n",
       "\t 4  & 12\\\\\n",
       "\t 5  & 15\\\\\n",
       "\t 6  & 18\\\\\n",
       "\t 7  & 21\\\\\n",
       "\t 8  & 24\\\\\n",
       "\t 9  & 27\\\\\n",
       "\\end{tabular}\n"
      ],
      "text/markdown": [
       "\n",
       "| time | x |\n",
       "|---|---|\n",
       "| 0  |  0 |\n",
       "| 1  |  3 |\n",
       "| 2  |  6 |\n",
       "| 3  |  9 |\n",
       "| 4  | 12 |\n",
       "| 5  | 15 |\n",
       "| 6  | 18 |\n",
       "| 7  | 21 |\n",
       "| 8  | 24 |\n",
       "| 9  | 27 |\n",
       "\n"
      ],
      "text/plain": [
       "      time x \n",
       " [1,] 0     0\n",
       " [2,] 1     3\n",
       " [3,] 2     6\n",
       " [4,] 3     9\n",
       " [5,] 4    12\n",
       " [6,] 5    15\n",
       " [7,] 6    18\n",
       " [8,] 7    21\n",
       " [9,] 8    24\n",
       "[10,] 9    27"
      ]
     },
     "metadata": {},
     "output_type": "display_data"
    }
   ],
   "source": [
    "result <- ode(y = state, times = time_interval, func = model_fn, parms = parameters)\n",
    "\n",
    "head(result, 10)"
   ]
  },
  {
   "cell_type": "code",
   "execution_count": 26,
   "metadata": {},
   "outputs": [
    {
     "data": {
      "image/png": "[encoded data removed]",
      "text/plain": [
       "plot without title"
      ]
     },
     "metadata": {},
     "output_type": "display_data"
    }
   ],
   "source": [
    "plot <- ggplot(data = as.data.frame(result), aes(time, x)) + \n",
    "        geom_line(color = \"#2E86C1\",size = 1.5)\n",
    "\n",
    "plot"
   ]
  },
  {
   "cell_type": "markdown",
   "metadata": {},
   "source": [
    "### Solving first order ODE and the output should be a curve"
   ]
  },
  {
   "cell_type": "markdown",
   "metadata": {},
   "source": [
    "#### Initializing initial state and parameter value and we are giving values in vector form "
   ]
  },
  {
   "cell_type": "code",
   "execution_count": 35,
   "metadata": {},
   "outputs": [],
   "source": [
    "time_interval <- seq(0, 9, by = 1)\n",
    "\n",
    "state <- c(x = 3)\n",
    "\n",
    "parameters <- c()\n",
    "\n",
    "model_fn <- function(t, state, parameters) {\n",
    "     with(as.list(c(state, parameters)), {\n",
    "          dx <- 3*t\n",
    "         \n",
    "          return(list(dx))\n",
    "     })\n",
    "}"
   ]
  },
  {
   "cell_type": "code",
   "execution_count": 48,
   "metadata": {},
   "outputs": [],
   "source": [
    "## TODO while recording try 3*t first\n",
    "\n",
    "# time_interval <- seq(0, 9, by = 1)\n",
    "\n",
    "# state <- c(x = 3)\n",
    "\n",
    "# parameters <- c(k = 50)\n",
    "\n",
    "# model_fn <- function(t, state, parameters) {\n",
    "#      with(as.list(c(state, parameters)), {\n",
    "#           dx <- t*t + k\n",
    "\n",
    "#           return(list(dx))\n",
    "#      })\n",
    "# }"
   ]
  },
  {
   "cell_type": "code",
   "execution_count": 49,
   "metadata": {},
   "outputs": [],
   "source": [
    "result <- ode(y = state, times = time_interval, func = model_fn, parms = parameters)"
   ]
  },
  {
   "cell_type": "code",
   "execution_count": 50,
   "metadata": {},
   "outputs": [
    {
     "data": {
      "text/html": [
       "<table>\n",
       "<thead><tr><th scope=col>time</th><th scope=col>x</th></tr></thead>\n",
       "<tbody>\n",
       "\t<tr><td>0        </td><td>  3.00000</td></tr>\n",
       "\t<tr><td>1        </td><td> 53.33333</td></tr>\n",
       "\t<tr><td>2        </td><td>105.66666</td></tr>\n",
       "\t<tr><td>3        </td><td>161.99999</td></tr>\n",
       "\t<tr><td>4        </td><td>224.33333</td></tr>\n",
       "\t<tr><td>5        </td><td>294.66666</td></tr>\n",
       "\t<tr><td>6        </td><td>374.99999</td></tr>\n",
       "\t<tr><td>7        </td><td>467.33333</td></tr>\n",
       "\t<tr><td>8        </td><td>573.66666</td></tr>\n",
       "\t<tr><td>9        </td><td>695.99999</td></tr>\n",
       "</tbody>\n",
       "</table>\n"
      ],
      "text/latex": [
       "\\begin{tabular}{ll}\n",
       " time & x\\\\\n",
       "\\hline\n",
       "\t 0         &   3.00000\\\\\n",
       "\t 1         &  53.33333\\\\\n",
       "\t 2         & 105.66666\\\\\n",
       "\t 3         & 161.99999\\\\\n",
       "\t 4         & 224.33333\\\\\n",
       "\t 5         & 294.66666\\\\\n",
       "\t 6         & 374.99999\\\\\n",
       "\t 7         & 467.33333\\\\\n",
       "\t 8         & 573.66666\\\\\n",
       "\t 9         & 695.99999\\\\\n",
       "\\end{tabular}\n"
      ],
      "text/markdown": [
       "\n",
       "| time | x |\n",
       "|---|---|\n",
       "| 0         |   3.00000 |\n",
       "| 1         |  53.33333 |\n",
       "| 2         | 105.66666 |\n",
       "| 3         | 161.99999 |\n",
       "| 4         | 224.33333 |\n",
       "| 5         | 294.66666 |\n",
       "| 6         | 374.99999 |\n",
       "| 7         | 467.33333 |\n",
       "| 8         | 573.66666 |\n",
       "| 9         | 695.99999 |\n",
       "\n"
      ],
      "text/plain": [
       "      time x        \n",
       " [1,] 0      3.00000\n",
       " [2,] 1     53.33333\n",
       " [3,] 2    105.66666\n",
       " [4,] 3    161.99999\n",
       " [5,] 4    224.33333\n",
       " [6,] 5    294.66666\n",
       " [7,] 6    374.99999\n",
       " [8,] 7    467.33333\n",
       " [9,] 8    573.66666\n",
       "[10,] 9    695.99999"
      ]
     },
     "metadata": {},
     "output_type": "display_data"
    }
   ],
   "source": [
    "head(result, 1000)"
   ]
  },
  {
   "cell_type": "code",
   "execution_count": 51,
   "metadata": {},
   "outputs": [
    {
     "data": {
      "image/png": "[encoded data removed]",
      "text/plain": [
       "plot without title"
      ]
     },
     "metadata": {},
     "output_type": "display_data"
    }
   ],
   "source": [
    "plot <- ggplot(data = as.data.frame(result), aes(time, x)) + \n",
    "        geom_line(color = \"#2E86C1\",size = 1.5)\n",
    "\n",
    "plot"
   ]
  },
  {
   "cell_type": "markdown",
   "metadata": {},
   "source": [
    "### Solving ODE (x (1 - kx))\n",
    "\n",
    "#### First we will do the integration manually and then use the ode function and in visualization we will compare both of the result"
   ]
  },
  {
   "cell_type": "code",
   "execution_count": 53,
   "metadata": {},
   "outputs": [
    {
     "data": {
      "text/html": [
       "<ol class=list-inline>\n",
       "\t<li>0</li>\n",
       "\t<li>0.5</li>\n",
       "\t<li>1</li>\n",
       "\t<li>1.5</li>\n",
       "\t<li>2</li>\n",
       "\t<li>2.5</li>\n",
       "\t<li>3</li>\n",
       "\t<li>3.5</li>\n",
       "\t<li>4</li>\n",
       "\t<li>4.5</li>\n",
       "\t<li>5</li>\n",
       "\t<li>5.5</li>\n",
       "\t<li>6</li>\n",
       "\t<li>6.5</li>\n",
       "\t<li>7</li>\n",
       "\t<li>7.5</li>\n",
       "\t<li>8</li>\n",
       "\t<li>8.5</li>\n",
       "\t<li>9</li>\n",
       "\t<li>9.5</li>\n",
       "\t<li>10</li>\n",
       "</ol>\n"
      ],
      "text/latex": [
       "\\begin{enumerate*}\n",
       "\\item 0\n",
       "\\item 0.5\n",
       "\\item 1\n",
       "\\item 1.5\n",
       "\\item 2\n",
       "\\item 2.5\n",
       "\\item 3\n",
       "\\item 3.5\n",
       "\\item 4\n",
       "\\item 4.5\n",
       "\\item 5\n",
       "\\item 5.5\n",
       "\\item 6\n",
       "\\item 6.5\n",
       "\\item 7\n",
       "\\item 7.5\n",
       "\\item 8\n",
       "\\item 8.5\n",
       "\\item 9\n",
       "\\item 9.5\n",
       "\\item 10\n",
       "\\end{enumerate*}\n"
      ],
      "text/markdown": [
       "1. 0\n",
       "2. 0.5\n",
       "3. 1\n",
       "4. 1.5\n",
       "5. 2\n",
       "6. 2.5\n",
       "7. 3\n",
       "8. 3.5\n",
       "9. 4\n",
       "10. 4.5\n",
       "11. 5\n",
       "12. 5.5\n",
       "13. 6\n",
       "14. 6.5\n",
       "15. 7\n",
       "16. 7.5\n",
       "17. 8\n",
       "18. 8.5\n",
       "19. 9\n",
       "20. 9.5\n",
       "21. 10\n",
       "\n",
       "\n"
      ],
      "text/plain": [
       " [1]  0.0  0.5  1.0  1.5  2.0  2.5  3.0  3.5  4.0  4.5  5.0  5.5  6.0  6.5  7.0\n",
       "[16]  7.5  8.0  8.5  9.0  9.5 10.0"
      ]
     },
     "metadata": {},
     "output_type": "display_data"
    }
   ],
   "source": [
    "time_interval <- seq(0, 10, by = 0.5)\n",
    "\n",
    "time_interval"
   ]
  },
  {
   "cell_type": "code",
   "execution_count": 54,
   "metadata": {},
   "outputs": [],
   "source": [
    "diff_func <- function(x, k) {\n",
    "    x * (1 - k*x)\n",
    "}"
   ]
  },
  {
   "cell_type": "code",
   "execution_count": 55,
   "metadata": {},
   "outputs": [],
   "source": [
    "state <- c(x = 0.1)"
   ]
  },
  {
   "cell_type": "code",
   "execution_count": 56,
   "metadata": {},
   "outputs": [],
   "source": [
    "k <- 0.2\n",
    "\n",
    "result_list <- c()"
   ]
  },
  {
   "cell_type": "code",
   "execution_count": 57,
   "metadata": {},
   "outputs": [],
   "source": [
    "result_list[1] <- state"
   ]
  },
  {
   "cell_type": "code",
   "execution_count": 58,
   "metadata": {},
   "outputs": [],
   "source": [
    "for (i in 1:(length(time_interval) - 1)) {\n",
    "\n",
    "    result_list[i + 1] = result_list[i] + \n",
    "                         0.5 * diff_func(result_list[i], k)\n",
    "}"
   ]
  },
  {
   "cell_type": "code",
   "execution_count": 59,
   "metadata": {},
   "outputs": [
    {
     "data": {
      "text/html": [
       "<ol class=list-inline>\n",
       "\t<li>0.1</li>\n",
       "\t<li>0.149</li>\n",
       "\t<li>0.2212799</li>\n",
       "\t<li>0.327023370585599</li>\n",
       "\t<li>0.479840627387482</li>\n",
       "\t<li>0.696736238312062</li>\n",
       "\t<li>0.996560218890368</li>\n",
       "\t<li>1.39552710134807</li>\n",
       "\t<li>1.89854106296241</li>\n",
       "\t<li>2.48736577766817</li>\n",
       "\t<li>3.11234981531078</li>\n",
       "\t<li>3.69985258567967</li>\n",
       "\t<li>4.18088796294345</li>\n",
       "\t<li>4.52334952854663</li>\n",
       "\t<li>4.73895519707964</li>\n",
       "\t<li>4.86266315962665</li>\n",
       "\t<li>4.92944543904095</li>\n",
       "\t<li>4.96422492491326</li>\n",
       "\t<li>4.98198447685689</li>\n",
       "\t<li>4.99095978252103</li>\n",
       "\t<li>4.99547171870731</li>\n",
       "</ol>\n"
      ],
      "text/latex": [
       "\\begin{enumerate*}\n",
       "\\item 0.1\n",
       "\\item 0.149\n",
       "\\item 0.2212799\n",
       "\\item 0.327023370585599\n",
       "\\item 0.479840627387482\n",
       "\\item 0.696736238312062\n",
       "\\item 0.996560218890368\n",
       "\\item 1.39552710134807\n",
       "\\item 1.89854106296241\n",
       "\\item 2.48736577766817\n",
       "\\item 3.11234981531078\n",
       "\\item 3.69985258567967\n",
       "\\item 4.18088796294345\n",
       "\\item 4.52334952854663\n",
       "\\item 4.73895519707964\n",
       "\\item 4.86266315962665\n",
       "\\item 4.92944543904095\n",
       "\\item 4.96422492491326\n",
       "\\item 4.98198447685689\n",
       "\\item 4.99095978252103\n",
       "\\item 4.99547171870731\n",
       "\\end{enumerate*}\n"
      ],
      "text/markdown": [
       "1. 0.1\n",
       "2. 0.149\n",
       "3. 0.2212799\n",
       "4. 0.327023370585599\n",
       "5. 0.479840627387482\n",
       "6. 0.696736238312062\n",
       "7. 0.996560218890368\n",
       "8. 1.39552710134807\n",
       "9. 1.89854106296241\n",
       "10. 2.48736577766817\n",
       "11. 3.11234981531078\n",
       "12. 3.69985258567967\n",
       "13. 4.18088796294345\n",
       "14. 4.52334952854663\n",
       "15. 4.73895519707964\n",
       "16. 4.86266315962665\n",
       "17. 4.92944543904095\n",
       "18. 4.96422492491326\n",
       "19. 4.98198447685689\n",
       "20. 4.99095978252103\n",
       "21. 4.99547171870731\n",
       "\n",
       "\n"
      ],
      "text/plain": [
       " [1] 0.1000000 0.1490000 0.2212799 0.3270234 0.4798406 0.6967362 0.9965602\n",
       " [8] 1.3955271 1.8985411 2.4873658 3.1123498 3.6998526 4.1808880 4.5233495\n",
       "[15] 4.7389552 4.8626632 4.9294454 4.9642249 4.9819845 4.9909598 4.9954717"
      ]
     },
     "metadata": {},
     "output_type": "display_data"
    }
   ],
   "source": [
    "result_list"
   ]
  },
  {
   "cell_type": "code",
   "execution_count": 60,
   "metadata": {},
   "outputs": [
    {
     "data": {
      "image/png": "[encoded data removed]",
      "text/plain": [
       "plot without title"
      ]
     },
     "metadata": {},
     "output_type": "display_data"
    }
   ],
   "source": [
    "approximation <- ggplot(data = data.frame(p = result_list, t = time_interval), \n",
    "                        aes(t, result_list)) + geom_point(size = 3)\n",
    "\n",
    "print(approximation)"
   ]
  },
  {
   "cell_type": "code",
   "execution_count": 61,
   "metadata": {},
   "outputs": [],
   "source": [
    "parameters <- c(k = 0.2)"
   ]
  },
  {
   "cell_type": "code",
   "execution_count": 62,
   "metadata": {},
   "outputs": [],
   "source": [
    "model_fn <- function(t, state, parameters) {\n",
    "     with(as.list(c(state, parameters)), {\n",
    "         dx <- x * (1 - k * x)\n",
    "         \n",
    "         return(list(dx))\n",
    "     })\n",
    "}"
   ]
  },
  {
   "cell_type": "code",
   "execution_count": 63,
   "metadata": {},
   "outputs": [],
   "source": [
    "result <- ode(y = state, times = time_interval, func = model_fn, parms = parameters)"
   ]
  },
  {
   "cell_type": "code",
   "execution_count": 64,
   "metadata": {},
   "outputs": [
    {
     "data": {
      "text/html": [
       "<table>\n",
       "<thead><tr><th scope=col>time</th><th scope=col>x</th></tr></thead>\n",
       "<tbody>\n",
       "\t<tr><td>0.0      </td><td>0.1000000</td></tr>\n",
       "\t<tr><td>0.5      </td><td>0.1627619</td></tr>\n",
       "\t<tr><td>1.0      </td><td>0.2627987</td></tr>\n",
       "\t<tr><td>1.5      </td><td>0.4189936</td></tr>\n",
       "\t<tr><td>2.0      </td><td>0.6551831</td></tr>\n",
       "\t<tr><td>2.5      </td><td>0.9955795</td></tr>\n",
       "\t<tr><td>3.0      </td><td>1.4536600</td></tr>\n",
       "\t<tr><td>3.5      </td><td>2.0163866</td></tr>\n",
       "\t<tr><td>4.0      </td><td>2.6350863</td></tr>\n",
       "\t<tr><td>4.5      </td><td>3.2376200</td></tr>\n",
       "</tbody>\n",
       "</table>\n"
      ],
      "text/latex": [
       "\\begin{tabular}{ll}\n",
       " time & x\\\\\n",
       "\\hline\n",
       "\t 0.0       & 0.1000000\\\\\n",
       "\t 0.5       & 0.1627619\\\\\n",
       "\t 1.0       & 0.2627987\\\\\n",
       "\t 1.5       & 0.4189936\\\\\n",
       "\t 2.0       & 0.6551831\\\\\n",
       "\t 2.5       & 0.9955795\\\\\n",
       "\t 3.0       & 1.4536600\\\\\n",
       "\t 3.5       & 2.0163866\\\\\n",
       "\t 4.0       & 2.6350863\\\\\n",
       "\t 4.5       & 3.2376200\\\\\n",
       "\\end{tabular}\n"
      ],
      "text/markdown": [
       "\n",
       "| time | x |\n",
       "|---|---|\n",
       "| 0.0       | 0.1000000 |\n",
       "| 0.5       | 0.1627619 |\n",
       "| 1.0       | 0.2627987 |\n",
       "| 1.5       | 0.4189936 |\n",
       "| 2.0       | 0.6551831 |\n",
       "| 2.5       | 0.9955795 |\n",
       "| 3.0       | 1.4536600 |\n",
       "| 3.5       | 2.0163866 |\n",
       "| 4.0       | 2.6350863 |\n",
       "| 4.5       | 3.2376200 |\n",
       "\n"
      ],
      "text/plain": [
       "      time x        \n",
       " [1,] 0.0  0.1000000\n",
       " [2,] 0.5  0.1627619\n",
       " [3,] 1.0  0.2627987\n",
       " [4,] 1.5  0.4189936\n",
       " [5,] 2.0  0.6551831\n",
       " [6,] 2.5  0.9955795\n",
       " [7,] 3.0  1.4536600\n",
       " [8,] 3.5  2.0163866\n",
       " [9,] 4.0  2.6350863\n",
       "[10,] 4.5  3.2376200"
      ]
     },
     "metadata": {},
     "output_type": "display_data"
    }
   ],
   "source": [
    "head(result, 10)"
   ]
  },
  {
   "cell_type": "code",
   "execution_count": 65,
   "metadata": {},
   "outputs": [
    {
     "data": {
      "image/png": "[encoded data removed]",
      "text/plain": [
       "plot without title"
      ]
     },
     "metadata": {},
     "output_type": "display_data"
    }
   ],
   "source": [
    "ggplot(data = as.data.frame(result), aes(time, x)) + geom_line(color = \"#2E86C1\", size = 1.5)"
   ]
  },
  {
   "cell_type": "code",
   "execution_count": 66,
   "metadata": {},
   "outputs": [
    {
     "data": {
      "image/png": "[encoded data removed]",
      "text/plain": [
       "plot without title"
      ]
     },
     "metadata": {},
     "output_type": "display_data"
    }
   ],
   "source": [
    "ggplot() + geom_point(data = data.frame(p = result_list, t = time_interval), aes(t, result_list), size=3) + \n",
    "geom_line(data = as.data.frame(result), aes(time, x), color = \"#2E86C1\", size = 1.5)"
   ]
  },
  {
   "cell_type": "markdown",
   "metadata": {},
   "source": [
    "### Solving a real time ODE equation for population growth\n",
    "\n",
    "http://ncsce.net/ordinary-differential-equations-in-real-world-situations/\n",
    "\n",
    "Source of equation: https://calcworkshop.com/diff-eqs/logistic-differential-equation/"
   ]
  },
  {
   "cell_type": "markdown",
   "metadata": {},
   "source": [
    "### dx/dt = r x(1 − x/K)\n",
    "\n",
    "where, growth rate(r) = 1.5%/year, carrying capacity(K) for the environment = 10 and initial population(x(0)) = 0.1 billion "
   ]
  },
  {
   "cell_type": "code",
   "execution_count": 67,
   "metadata": {},
   "outputs": [],
   "source": [
    "time_interval <- seq(from = 0, to = 10, by = 0.05)"
   ]
  },
  {
   "cell_type": "code",
   "execution_count": 68,
   "metadata": {},
   "outputs": [],
   "source": [
    "parameters <- c(r = 1.5, k = 10)"
   ]
  },
  {
   "cell_type": "code",
   "execution_count": 69,
   "metadata": {},
   "outputs": [],
   "source": [
    "state <- c(x = 0.1)"
   ]
  },
  {
   "cell_type": "code",
   "execution_count": 70,
   "metadata": {},
   "outputs": [],
   "source": [
    "model_fn <- function(t, state, parameters) {\n",
    "    with(as.list(c(state, parameters)), {\n",
    "        \n",
    "        dx <- r * x * (1 - x / k)\n",
    "\n",
    "        return(list(dx))\n",
    "    })\n",
    "}"
   ]
  },
  {
   "cell_type": "code",
   "execution_count": 71,
   "metadata": {},
   "outputs": [],
   "source": [
    "result <- ode(y = state, times = time_interval, func = model_fn, parms = parameters)"
   ]
  },
  {
   "cell_type": "code",
   "execution_count": 72,
   "metadata": {},
   "outputs": [
    {
     "data": {
      "text/html": [
       "<table>\n",
       "<thead><tr><th scope=col>time</th><th scope=col>x</th></tr></thead>\n",
       "<tbody>\n",
       "\t<tr><td>0.00     </td><td>0.1000000</td></tr>\n",
       "\t<tr><td>0.05     </td><td>0.1077046</td></tr>\n",
       "\t<tr><td>0.10     </td><td>0.1159967</td></tr>\n",
       "\t<tr><td>0.15     </td><td>0.1249178</td></tr>\n",
       "\t<tr><td>0.20     </td><td>0.1345162</td></tr>\n",
       "\t<tr><td>0.25     </td><td>0.1448413</td></tr>\n",
       "\t<tr><td>0.30     </td><td>0.1559463</td></tr>\n",
       "\t<tr><td>0.35     </td><td>0.1678880</td></tr>\n",
       "\t<tr><td>0.40     </td><td>0.1807275</td></tr>\n",
       "\t<tr><td>0.45     </td><td>0.1945295</td></tr>\n",
       "</tbody>\n",
       "</table>\n"
      ],
      "text/latex": [
       "\\begin{tabular}{ll}\n",
       " time & x\\\\\n",
       "\\hline\n",
       "\t 0.00      & 0.1000000\\\\\n",
       "\t 0.05      & 0.1077046\\\\\n",
       "\t 0.10      & 0.1159967\\\\\n",
       "\t 0.15      & 0.1249178\\\\\n",
       "\t 0.20      & 0.1345162\\\\\n",
       "\t 0.25      & 0.1448413\\\\\n",
       "\t 0.30      & 0.1559463\\\\\n",
       "\t 0.35      & 0.1678880\\\\\n",
       "\t 0.40      & 0.1807275\\\\\n",
       "\t 0.45      & 0.1945295\\\\\n",
       "\\end{tabular}\n"
      ],
      "text/markdown": [
       "\n",
       "| time | x |\n",
       "|---|---|\n",
       "| 0.00      | 0.1000000 |\n",
       "| 0.05      | 0.1077046 |\n",
       "| 0.10      | 0.1159967 |\n",
       "| 0.15      | 0.1249178 |\n",
       "| 0.20      | 0.1345162 |\n",
       "| 0.25      | 0.1448413 |\n",
       "| 0.30      | 0.1559463 |\n",
       "| 0.35      | 0.1678880 |\n",
       "| 0.40      | 0.1807275 |\n",
       "| 0.45      | 0.1945295 |\n",
       "\n"
      ],
      "text/plain": [
       "      time x        \n",
       " [1,] 0.00 0.1000000\n",
       " [2,] 0.05 0.1077046\n",
       " [3,] 0.10 0.1159967\n",
       " [4,] 0.15 0.1249178\n",
       " [5,] 0.20 0.1345162\n",
       " [6,] 0.25 0.1448413\n",
       " [7,] 0.30 0.1559463\n",
       " [8,] 0.35 0.1678880\n",
       " [9,] 0.40 0.1807275\n",
       "[10,] 0.45 0.1945295"
      ]
     },
     "metadata": {},
     "output_type": "display_data"
    }
   ],
   "source": [
    "head(result,10)"
   ]
  },
  {
   "cell_type": "code",
   "execution_count": 73,
   "metadata": {},
   "outputs": [
    {
     "data": {
      "image/png": "[encoded data removed]",
      "text/plain": [
       "plot without title"
      ]
     },
     "metadata": {},
     "output_type": "display_data"
    }
   ],
   "source": [
    "plot <- ggplot(data = as.data.frame(result), aes(time, x)) + \n",
    "        geom_line(color = \"#2E86C1\", size = 1.5)\n",
    "\n",
    "plot"
   ]
  },
  {
   "cell_type": "code",
   "execution_count": null,
   "metadata": {},
   "outputs": [],
   "source": []
  },
  {
   "cell_type": "code",
   "execution_count": null,
   "metadata": {},
   "outputs": [],
   "source": []
  },
  {
   "cell_type": "code",
   "execution_count": null,
   "metadata": {},
   "outputs": [],
   "source": []
  },
  {
   "cell_type": "code",
   "execution_count": null,
   "metadata": {},
   "outputs": [],
   "source": []
  },
  {
   "cell_type": "code",
   "execution_count": null,
   "metadata": {},
   "outputs": [],
   "source": []
  },
  {
   "cell_type": "code",
   "execution_count": null,
   "metadata": {},
   "outputs": [],
   "source": []
  }
 ],
 "metadata": {
  "kernelspec": {
   "display_name": "R",
   "language": "R",
   "name": "ir"
  },
  "language_info": {
   "codemirror_mode": "r",
   "file_extension": ".r",
   "mimetype": "text/x-r-source",
   "name": "R",
   "pygments_lexer": "r",
   "version": "3.6.1"
  }
 },
 "nbformat": 4,
 "nbformat_minor": 2
}
