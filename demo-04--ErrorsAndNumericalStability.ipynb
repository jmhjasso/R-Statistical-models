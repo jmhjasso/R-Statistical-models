{
 "cells": [
  {
   "cell_type": "markdown",
   "metadata": {},
   "source": [
    "# Errors Numerical Stability And Well Posed Problems"
   ]
  },
  {
   "cell_type": "markdown",
   "metadata": {},
   "source": [
    "### Install library\n",
    "\n",
    "https://anaconda.org/conda-forge/r-cubature\n",
    "\n",
    "`conda install -c conda-forge r-cubature`"
   ]
  },
  {
   "cell_type": "markdown",
   "metadata": {},
   "source": [
    "### Load library"
   ]
  },
  {
   "cell_type": "code",
   "execution_count": 1,
   "metadata": {},
   "outputs": [],
   "source": [
    "library(cubature)\n",
    "library(ggplot2)\n",
    "\n",
    "options(repr.plot.width = 6, repr.plot.height = 4)"
   ]
  },
  {
   "cell_type": "markdown",
   "metadata": {},
   "source": [
    "## Round off error \n",
    "http://mathforcollege.com/nm/mws/gen/01aae/mws_gen_aae_spe_measuringerror.pdf"
   ]
  },
  {
   "cell_type": "code",
   "execution_count": 2,
   "metadata": {},
   "outputs": [
    {
     "data": {
      "text/html": [
       "3.14159265358979"
      ],
      "text/latex": [
       "3.14159265358979"
      ],
      "text/markdown": [
       "3.14159265358979"
      ],
      "text/plain": [
       "[1] 3.141593"
      ]
     },
     "metadata": {},
     "output_type": "display_data"
    }
   ],
   "source": [
    "a <- pi\n",
    "\n",
    "a"
   ]
  },
  {
   "cell_type": "code",
   "execution_count": 3,
   "metadata": {},
   "outputs": [
    {
     "data": {
      "text/html": [
       "3.142"
      ],
      "text/latex": [
       "3.142"
      ],
      "text/markdown": [
       "3.142"
      ],
      "text/plain": [
       "[1] 3.142"
      ]
     },
     "metadata": {},
     "output_type": "display_data"
    }
   ],
   "source": [
    "b <- 3.142\n",
    "\n",
    "b"
   ]
  },
  {
   "cell_type": "code",
   "execution_count": 4,
   "metadata": {},
   "outputs": [
    {
     "data": {
      "text/html": [
       "-0.000407346410206788"
      ],
      "text/latex": [
       "-0.000407346410206788"
      ],
      "text/markdown": [
       "-0.000407346410206788"
      ],
      "text/plain": [
       "[1] -0.0004073464"
      ]
     },
     "metadata": {},
     "output_type": "display_data"
    }
   ],
   "source": [
    "error <- a - b \n",
    "\n",
    "error"
   ]
  },
  {
   "cell_type": "markdown",
   "metadata": {},
   "source": [
    "## Truncation error or discretization errors"
   ]
  },
  {
   "cell_type": "markdown",
   "metadata": {},
   "source": [
    "### Take numbers between `-1` to `7`"
   ]
  },
  {
   "cell_type": "code",
   "execution_count": 5,
   "metadata": {},
   "outputs": [
    {
     "data": {
      "text/html": [
       "<ol class=list-inline>\n",
       "\t<li>-1</li>\n",
       "\t<li>-0.5</li>\n",
       "\t<li>0</li>\n",
       "\t<li>0.5</li>\n",
       "\t<li>1</li>\n",
       "\t<li>1.5</li>\n",
       "\t<li>2</li>\n",
       "\t<li>2.5</li>\n",
       "\t<li>3</li>\n",
       "\t<li>3.5</li>\n",
       "\t<li>4</li>\n",
       "\t<li>4.5</li>\n",
       "\t<li>5</li>\n",
       "\t<li>5.5</li>\n",
       "\t<li>6</li>\n",
       "\t<li>6.5</li>\n",
       "\t<li>7</li>\n",
       "</ol>\n"
      ],
      "text/latex": [
       "\\begin{enumerate*}\n",
       "\\item -1\n",
       "\\item -0.5\n",
       "\\item 0\n",
       "\\item 0.5\n",
       "\\item 1\n",
       "\\item 1.5\n",
       "\\item 2\n",
       "\\item 2.5\n",
       "\\item 3\n",
       "\\item 3.5\n",
       "\\item 4\n",
       "\\item 4.5\n",
       "\\item 5\n",
       "\\item 5.5\n",
       "\\item 6\n",
       "\\item 6.5\n",
       "\\item 7\n",
       "\\end{enumerate*}\n"
      ],
      "text/markdown": [
       "1. -1\n",
       "2. -0.5\n",
       "3. 0\n",
       "4. 0.5\n",
       "5. 1\n",
       "6. 1.5\n",
       "7. 2\n",
       "8. 2.5\n",
       "9. 3\n",
       "10. 3.5\n",
       "11. 4\n",
       "12. 4.5\n",
       "13. 5\n",
       "14. 5.5\n",
       "15. 6\n",
       "16. 6.5\n",
       "17. 7\n",
       "\n",
       "\n"
      ],
      "text/plain": [
       " [1] -1.0 -0.5  0.0  0.5  1.0  1.5  2.0  2.5  3.0  3.5  4.0  4.5  5.0  5.5  6.0\n",
       "[16]  6.5  7.0"
      ]
     },
     "metadata": {},
     "output_type": "display_data"
    }
   ],
   "source": [
    "x <- seq(-1, 7, .5)\n",
    "\n",
    "x"
   ]
  },
  {
   "cell_type": "markdown",
   "metadata": {},
   "source": [
    "### Function is `f(x) = 4x^2`"
   ]
  },
  {
   "cell_type": "code",
   "execution_count": 6,
   "metadata": {},
   "outputs": [
    {
     "data": {
      "text/plain": [
       "expression(4 * x^2)"
      ]
     },
     "metadata": {},
     "output_type": "display_data"
    }
   ],
   "source": [
    "f_x <- expression(4*x^2)\n",
    "\n",
    "f_x"
   ]
  },
  {
   "cell_type": "code",
   "execution_count": 7,
   "metadata": {},
   "outputs": [
    {
     "data": {
      "text/html": [
       "<ol class=list-inline>\n",
       "\t<li>4</li>\n",
       "\t<li>1</li>\n",
       "\t<li>0</li>\n",
       "\t<li>1</li>\n",
       "\t<li>4</li>\n",
       "\t<li>9</li>\n",
       "\t<li>16</li>\n",
       "\t<li>25</li>\n",
       "\t<li>36</li>\n",
       "\t<li>49</li>\n",
       "\t<li>64</li>\n",
       "\t<li>81</li>\n",
       "\t<li>100</li>\n",
       "\t<li>121</li>\n",
       "\t<li>144</li>\n",
       "\t<li>169</li>\n",
       "\t<li>196</li>\n",
       "</ol>\n"
      ],
      "text/latex": [
       "\\begin{enumerate*}\n",
       "\\item 4\n",
       "\\item 1\n",
       "\\item 0\n",
       "\\item 1\n",
       "\\item 4\n",
       "\\item 9\n",
       "\\item 16\n",
       "\\item 25\n",
       "\\item 36\n",
       "\\item 49\n",
       "\\item 64\n",
       "\\item 81\n",
       "\\item 100\n",
       "\\item 121\n",
       "\\item 144\n",
       "\\item 169\n",
       "\\item 196\n",
       "\\end{enumerate*}\n"
      ],
      "text/markdown": [
       "1. 4\n",
       "2. 1\n",
       "3. 0\n",
       "4. 1\n",
       "5. 4\n",
       "6. 9\n",
       "7. 16\n",
       "8. 25\n",
       "9. 36\n",
       "10. 49\n",
       "11. 64\n",
       "12. 81\n",
       "13. 100\n",
       "14. 121\n",
       "15. 144\n",
       "16. 169\n",
       "17. 196\n",
       "\n",
       "\n"
      ],
      "text/plain": [
       " [1]   4   1   0   1   4   9  16  25  36  49  64  81 100 121 144 169 196"
      ]
     },
     "metadata": {},
     "output_type": "display_data"
    }
   ],
   "source": [
    "y <- eval(f_x)\n",
    "\n",
    "y"
   ]
  },
  {
   "cell_type": "code",
   "execution_count": 8,
   "metadata": {},
   "outputs": [
    {
     "data": {
      "text/html": [
       "<table>\n",
       "<thead><tr><th scope=col>x</th><th scope=col>y</th></tr></thead>\n",
       "<tbody>\n",
       "\t<tr><td>-1.0</td><td>  4 </td></tr>\n",
       "\t<tr><td>-0.5</td><td>  1 </td></tr>\n",
       "\t<tr><td> 0.0</td><td>  0 </td></tr>\n",
       "\t<tr><td> 0.5</td><td>  1 </td></tr>\n",
       "\t<tr><td> 1.0</td><td>  4 </td></tr>\n",
       "\t<tr><td> 1.5</td><td>  9 </td></tr>\n",
       "\t<tr><td> 2.0</td><td> 16 </td></tr>\n",
       "\t<tr><td> 2.5</td><td> 25 </td></tr>\n",
       "\t<tr><td> 3.0</td><td> 36 </td></tr>\n",
       "\t<tr><td> 3.5</td><td> 49 </td></tr>\n",
       "\t<tr><td> 4.0</td><td> 64 </td></tr>\n",
       "\t<tr><td> 4.5</td><td> 81 </td></tr>\n",
       "\t<tr><td> 5.0</td><td>100 </td></tr>\n",
       "\t<tr><td> 5.5</td><td>121 </td></tr>\n",
       "\t<tr><td> 6.0</td><td>144 </td></tr>\n",
       "\t<tr><td> 6.5</td><td>169 </td></tr>\n",
       "\t<tr><td> 7.0</td><td>196 </td></tr>\n",
       "</tbody>\n",
       "</table>\n"
      ],
      "text/latex": [
       "\\begin{tabular}{r|ll}\n",
       " x & y\\\\\n",
       "\\hline\n",
       "\t -1.0 &   4 \\\\\n",
       "\t -0.5 &   1 \\\\\n",
       "\t  0.0 &   0 \\\\\n",
       "\t  0.5 &   1 \\\\\n",
       "\t  1.0 &   4 \\\\\n",
       "\t  1.5 &   9 \\\\\n",
       "\t  2.0 &  16 \\\\\n",
       "\t  2.5 &  25 \\\\\n",
       "\t  3.0 &  36 \\\\\n",
       "\t  3.5 &  49 \\\\\n",
       "\t  4.0 &  64 \\\\\n",
       "\t  4.5 &  81 \\\\\n",
       "\t  5.0 & 100 \\\\\n",
       "\t  5.5 & 121 \\\\\n",
       "\t  6.0 & 144 \\\\\n",
       "\t  6.5 & 169 \\\\\n",
       "\t  7.0 & 196 \\\\\n",
       "\\end{tabular}\n"
      ],
      "text/markdown": [
       "\n",
       "| x | y |\n",
       "|---|---|\n",
       "| -1.0 |   4  |\n",
       "| -0.5 |   1  |\n",
       "|  0.0 |   0  |\n",
       "|  0.5 |   1  |\n",
       "|  1.0 |   4  |\n",
       "|  1.5 |   9  |\n",
       "|  2.0 |  16  |\n",
       "|  2.5 |  25  |\n",
       "|  3.0 |  36  |\n",
       "|  3.5 |  49  |\n",
       "|  4.0 |  64  |\n",
       "|  4.5 |  81  |\n",
       "|  5.0 | 100  |\n",
       "|  5.5 | 121  |\n",
       "|  6.0 | 144  |\n",
       "|  6.5 | 169  |\n",
       "|  7.0 | 196  |\n",
       "\n"
      ],
      "text/plain": [
       "   x    y  \n",
       "1  -1.0   4\n",
       "2  -0.5   1\n",
       "3   0.0   0\n",
       "4   0.5   1\n",
       "5   1.0   4\n",
       "6   1.5   9\n",
       "7   2.0  16\n",
       "8   2.5  25\n",
       "9   3.0  36\n",
       "10  3.5  49\n",
       "11  4.0  64\n",
       "12  4.5  81\n",
       "13  5.0 100\n",
       "14  5.5 121\n",
       "15  6.0 144\n",
       "16  6.5 169\n",
       "17  7.0 196"
      ]
     },
     "metadata": {},
     "output_type": "display_data"
    }
   ],
   "source": [
    "data_points <- data.frame(x, y)\n",
    "\n",
    "data_points"
   ]
  },
  {
   "cell_type": "markdown",
   "metadata": {},
   "source": [
    "### Create a function which return function variable"
   ]
  },
  {
   "cell_type": "code",
   "execution_count": 9,
   "metadata": {},
   "outputs": [],
   "source": [
    "poly_fun <- function(x){\n",
    "    return (4 * x^2)\n",
    "}"
   ]
  },
  {
   "cell_type": "markdown",
   "metadata": {},
   "source": [
    "### Graphically representation of ploynomial function"
   ]
  },
  {
   "cell_type": "code",
   "execution_count": 10,
   "metadata": {},
   "outputs": [
    {
     "data": {
      "image/png": "[encoded data removed]",
      "text/plain": [
       "plot without title"
      ]
     },
     "metadata": {},
     "output_type": "display_data"
    }
   ],
   "source": [
    "ggplot(data_points, aes(x = x, y = y)) + \n",
    "    stat_function(fun = poly_fun, col = 'darkgreen', size = 1, alpha = 1)+\n",
    "    geom_hline(aes(yintercept = 0), size = 1, col = 'darkblue')+\n",
    "    geom_vline(aes(xintercept = 0), size = 1, col = 'darkblue') "
   ]
  },
  {
   "cell_type": "markdown",
   "metadata": {},
   "source": [
    "### Taken two point on the given curve of function \n",
    "Note:- where x1 = 3, y1 = 5 and x2 = 36, y2 = 100"
   ]
  },
  {
   "cell_type": "code",
   "execution_count": 11,
   "metadata": {},
   "outputs": [],
   "source": [
    "x <- c(3, 5)\n",
    "y <- c(36, 100)"
   ]
  },
  {
   "cell_type": "code",
   "execution_count": 12,
   "metadata": {},
   "outputs": [
    {
     "data": {
      "text/html": [
       "<table>\n",
       "<thead><tr><th scope=col>x</th><th scope=col>y</th></tr></thead>\n",
       "<tbody>\n",
       "\t<tr><td>3  </td><td> 36</td></tr>\n",
       "\t<tr><td>5  </td><td>100</td></tr>\n",
       "</tbody>\n",
       "</table>\n"
      ],
      "text/latex": [
       "\\begin{tabular}{r|ll}\n",
       " x & y\\\\\n",
       "\\hline\n",
       "\t 3   &  36\\\\\n",
       "\t 5   & 100\\\\\n",
       "\\end{tabular}\n"
      ],
      "text/markdown": [
       "\n",
       "| x | y |\n",
       "|---|---|\n",
       "| 3   |  36 |\n",
       "| 5   | 100 |\n",
       "\n"
      ],
      "text/plain": [
       "  x y  \n",
       "1 3  36\n",
       "2 5 100"
      ]
     },
     "metadata": {},
     "output_type": "display_data"
    }
   ],
   "source": [
    "two_points <- data.frame(x, y)\n",
    "two_points"
   ]
  },
  {
   "cell_type": "code",
   "execution_count": 13,
   "metadata": {},
   "outputs": [
    {
     "data": {
      "image/png": "[encoded data removed]",
      "text/plain": [
       "plot without title"
      ]
     },
     "metadata": {},
     "output_type": "display_data"
    }
   ],
   "source": [
    "ggplot(data_points, aes(x = x, y = y)) + \n",
    "    stat_function(fun = poly_fun, col = 'darkgreen', size = 1, alpha = 1)+\n",
    "    geom_hline(aes(yintercept = 0), size = 1, col = 'darkblue')+\n",
    "    geom_vline(aes(xintercept = 0), size = 1, col = 'darkblue') +\n",
    "    geom_point(col = 'black', data = two_points, size = 3)"
   ]
  },
  {
   "cell_type": "markdown",
   "metadata": {},
   "source": [
    "### Graw a secant line between two taken points"
   ]
  },
  {
   "cell_type": "code",
   "execution_count": 14,
   "metadata": {},
   "outputs": [
    {
     "data": {
      "image/png": "[encoded data removed]",
      "text/plain": [
       "plot without title"
      ]
     },
     "metadata": {},
     "output_type": "display_data"
    }
   ],
   "source": [
    "ggplot(data_points, aes(x = x, y = y)) + \n",
    "    stat_function(fun = poly_fun, col = 'darkgreen', size = 1, alpha = 1)+\n",
    "    geom_hline(aes(yintercept = 0), size = 1, col = 'darkblue')+\n",
    "    geom_vline(aes(xintercept = 0), size = 1, col = 'darkblue') +\n",
    "    geom_point(col = 'black', data = two_points, size = 3)+\n",
    "    geom_line(col = 'red', data = two_points, size = 1)"
   ]
  },
  {
   "cell_type": "markdown",
   "metadata": {},
   "source": [
    "### Approximation Errors"
   ]
  },
  {
   "cell_type": "markdown",
   "metadata": {},
   "source": [
    "__Note:- In the above case, we took large values of h, so we can see clearly but in real life problem h value will be close to zero i.e (h -> 0) or h value will tends to zero but not exacly zero.\n",
    "\n",
    "The line here is an approximation of the original curve, closer together the points, better the approximation.__\n",
    "\n",
    "https://en.wikipedia.org/wiki/Approximation_error"
   ]
  },
  {
   "cell_type": "markdown",
   "metadata": {},
   "source": [
    "## Case-I"
   ]
  },
  {
   "cell_type": "markdown",
   "metadata": {},
   "source": [
    "### Set value of x = 3 and h = 0.1"
   ]
  },
  {
   "cell_type": "code",
   "execution_count": 15,
   "metadata": {},
   "outputs": [],
   "source": [
    "x <- 3\n",
    "h <- .1"
   ]
  },
  {
   "cell_type": "markdown",
   "metadata": {},
   "source": [
    "### Create a function or expression i.e `f(x)`"
   ]
  },
  {
   "cell_type": "code",
   "execution_count": 16,
   "metadata": {},
   "outputs": [
    {
     "data": {
      "text/plain": [
       "expression(4 * x^2)"
      ]
     },
     "metadata": {},
     "output_type": "display_data"
    }
   ],
   "source": [
    "f_x <- expression(4*x^2)\n",
    "\n",
    "f_x"
   ]
  },
  {
   "cell_type": "markdown",
   "metadata": {},
   "source": [
    "### Create a function of  `f(x+h)`"
   ]
  },
  {
   "cell_type": "code",
   "execution_count": 17,
   "metadata": {},
   "outputs": [
    {
     "data": {
      "text/plain": [
       "expression(4 * (x + h)^2)"
      ]
     },
     "metadata": {},
     "output_type": "display_data"
    }
   ],
   "source": [
    "f_x_h <- expression(4 * (x + h)^2)\n",
    "\n",
    "f_x_h"
   ]
  },
  {
   "cell_type": "markdown",
   "metadata": {},
   "source": [
    "### Find derivative by using analytics method of function i.e  `f'(x)` "
   ]
  },
  {
   "cell_type": "code",
   "execution_count": 18,
   "metadata": {},
   "outputs": [
    {
     "data": {
      "text/plain": [
       "4 * (2 * x)"
      ]
     },
     "metadata": {},
     "output_type": "display_data"
    }
   ],
   "source": [
    "dx <- D(f_x, 'x')\n",
    "\n",
    "dx"
   ]
  },
  {
   "cell_type": "markdown",
   "metadata": {},
   "source": [
    "### Find true value of derivative of function i.e `f'(x)`.  "
   ]
  },
  {
   "cell_type": "code",
   "execution_count": 19,
   "metadata": {},
   "outputs": [
    {
     "data": {
      "text/html": [
       "24"
      ],
      "text/latex": [
       "24"
      ],
      "text/markdown": [
       "24"
      ],
      "text/plain": [
       "[1] 24"
      ]
     },
     "metadata": {},
     "output_type": "display_data"
    }
   ],
   "source": [
    "true_value <- eval(dx)\n",
    "\n",
    "true_value"
   ]
  },
  {
   "cell_type": "markdown",
   "metadata": {},
   "source": [
    "### Finda approximate values of drivative of function by using `numerical method` i.e h. or find value of  `f'(x+h)`\n",
    "http://mathforcollege.com/nm/mws/gen/01aae/mws_gen_aae_spe_sourcesoferror.pdf"
   ]
  },
  {
   "cell_type": "code",
   "execution_count": 20,
   "metadata": {},
   "outputs": [
    {
     "data": {
      "text/html": [
       "24.4"
      ],
      "text/latex": [
       "24.4"
      ],
      "text/markdown": [
       "24.4"
      ],
      "text/plain": [
       "[1] 24.4"
      ]
     },
     "metadata": {},
     "output_type": "display_data"
    }
   ],
   "source": [
    "approx_value <- (eval(f_x_h) - eval(f_x)) / h\n",
    "\n",
    "approx_value"
   ]
  },
  {
   "cell_type": "markdown",
   "metadata": {},
   "source": [
    "### Find error "
   ]
  },
  {
   "cell_type": "code",
   "execution_count": 21,
   "metadata": {},
   "outputs": [
    {
     "data": {
      "text/html": [
       "-0.400000000000048"
      ],
      "text/latex": [
       "-0.400000000000048"
      ],
      "text/markdown": [
       "-0.400000000000048"
      ],
      "text/plain": [
       "[1] -0.4"
      ]
     },
     "metadata": {},
     "output_type": "display_data"
    }
   ],
   "source": [
    "true_error_value <- true_value - approx_value\n",
    "\n",
    "true_error_value"
   ]
  },
  {
   "cell_type": "markdown",
   "metadata": {},
   "source": [
    "### Ralative true error "
   ]
  },
  {
   "cell_type": "code",
   "execution_count": 22,
   "metadata": {},
   "outputs": [
    {
     "data": {
      "text/html": [
       "-0.0166666666666687"
      ],
      "text/latex": [
       "-0.0166666666666687"
      ],
      "text/markdown": [
       "-0.0166666666666687"
      ],
      "text/plain": [
       "[1] -0.01666667"
      ]
     },
     "metadata": {},
     "output_type": "display_data"
    }
   ],
   "source": [
    "rel_true_error <- true_error_value / true_value\n",
    "\n",
    "rel_true_error"
   ]
  },
  {
   "cell_type": "markdown",
   "metadata": {},
   "source": [
    "### case-II"
   ]
  },
  {
   "cell_type": "code",
   "execution_count": 23,
   "metadata": {},
   "outputs": [],
   "source": [
    "x <- 3\n",
    "h <- .0001"
   ]
  },
  {
   "cell_type": "markdown",
   "metadata": {},
   "source": [
    "### Find true value of derivative of function i.e `f'(x)`.  "
   ]
  },
  {
   "cell_type": "code",
   "execution_count": 27,
   "metadata": {},
   "outputs": [
    {
     "data": {
      "text/html": [
       "24"
      ],
      "text/latex": [
       "24"
      ],
      "text/markdown": [
       "24"
      ],
      "text/plain": [
       "[1] 24"
      ]
     },
     "metadata": {},
     "output_type": "display_data"
    }
   ],
   "source": [
    "true_value <- eval(dx)\n",
    "\n",
    "true_value"
   ]
  },
  {
   "cell_type": "markdown",
   "metadata": {},
   "source": [
    "### Finda approximate values of drivative of function by using `numerical method` i.e h. or find value of  `f'(x+h)`\n",
    "http://mathforcollege.com/nm/mws/gen/01aae/mws_gen_aae_spe_sourcesoferror.pdf"
   ]
  },
  {
   "cell_type": "code",
   "execution_count": 28,
   "metadata": {},
   "outputs": [
    {
     "data": {
      "text/html": [
       "24.0004000000482"
      ],
      "text/latex": [
       "24.0004000000482"
      ],
      "text/markdown": [
       "24.0004000000482"
      ],
      "text/plain": [
       "[1] 24.0004"
      ]
     },
     "metadata": {},
     "output_type": "display_data"
    }
   ],
   "source": [
    "approx_value <- (eval(f_x_h) - eval(f_x)) / h\n",
    "\n",
    "approx_value"
   ]
  },
  {
   "cell_type": "markdown",
   "metadata": {},
   "source": [
    "### Find error "
   ]
  },
  {
   "cell_type": "code",
   "execution_count": 29,
   "metadata": {},
   "outputs": [
    {
     "data": {
      "text/html": [
       "-0.000400000048216498"
      ],
      "text/latex": [
       "-0.000400000048216498"
      ],
      "text/markdown": [
       "-0.000400000048216498"
      ],
      "text/plain": [
       "[1] -4e-04"
      ]
     },
     "metadata": {},
     "output_type": "display_data"
    }
   ],
   "source": [
    "true_error_value <- true_value - approx_value\n",
    "\n",
    "true_error_value"
   ]
  },
  {
   "cell_type": "markdown",
   "metadata": {},
   "source": [
    "### Relative true error "
   ]
  },
  {
   "cell_type": "code",
   "execution_count": 30,
   "metadata": {},
   "outputs": [
    {
     "data": {
      "text/html": [
       "-1.66666686756874e-05"
      ],
      "text/latex": [
       "-1.66666686756874e-05"
      ],
      "text/markdown": [
       "-1.66666686756874e-05"
      ],
      "text/plain": [
       "[1] -1.666667e-05"
      ]
     },
     "metadata": {},
     "output_type": "display_data"
    }
   ],
   "source": [
    "rel_true_error <- true_error_value / true_value\n",
    "\n",
    "rel_true_error"
   ]
  },
  {
   "cell_type": "markdown",
   "metadata": {},
   "source": [
    "## NumericalStability\n",
    "\n",
    "__In numerical algorithms for differential equations the concern is the growth of round-off errors and/or initially small fluctuations in initial data which might cause a large deviation of final answer from the exact solution.__ \n",
    "\n",
    "__Note:-__\n",
    "In short, if a actual solution or equation has less error in Eular equation is called error as a numerical stability if large or can't approximatable is called error as a numerical non-stability. \n",
    "\n",
    "https://en.wikipedia.org/wiki/Numerical_stability#Stability_in_numerical_differential_equations\n",
    "\n",
    "https://en.wikipedia.org/wiki/Euler_method#Example\n",
    "\n",
    "https://en.wikipedia.org/wiki/Euler_method#Derivation\n",
    "\n",
    "https://en.wikipedia.org/wiki/Euler_method#Numerical_stability"
   ]
  },
  {
   "cell_type": "markdown",
   "metadata": {},
   "source": [
    "### Find solution by analytics method"
   ]
  },
  {
   "cell_type": "markdown",
   "metadata": {},
   "source": [
    "Given,\n",
    "`y' = y` and `y(0) = 1`\n",
    "\n",
    "Since,\n",
    "y' = y\n",
    "\n",
    "=> dy/dt = y\n",
    "\n",
    "=> dy/y = dt\n",
    "\n",
    "Intergrate both side\n",
    "\n",
    "=> ln(y) = t + c\n",
    "\n",
    "here, c is a constant.\n",
    "\n",
    "=> y = e^(t + c) .......(i)\n",
    "\n",
    "since,\n",
    "y(0) = 1\n",
    "\n",
    "therefore,\n",
    "At, t = 0.\n",
    "\n",
    "\n",
    "1 = e^(0 + c)\n",
    "\n",
    "=> ln(1) = 0 + c\n",
    "\n",
    "=> 0 = 0 + c\n",
    "\n",
    "therefore, \n",
    "c = 0\n",
    "\n",
    "from  .....(i)\n",
    "\n",
    "and hence,\n",
    "y = e^t"
   ]
  },
  {
   "cell_type": "markdown",
   "metadata": {},
   "source": [
    "### Find solution by numerical method\n",
    "\n",
    "https://en.wikipedia.org/wiki/Euler_method#Example\n",
    "\n",
    "The Euler method is\n",
    "\n",
    " y_n+1 = y_n + h*  f (t_n, y_n)"
   ]
  },
  {
   "cell_type": "markdown",
   "metadata": {},
   "source": [
    "### Create a first order differential equation."
   ]
  },
  {
   "cell_type": "code",
   "execution_count": 31,
   "metadata": {},
   "outputs": [
    {
     "data": {
      "text/html": [
       "<pre class=language-r><code>function (t_i, y) \n",
       "{\n",
       "<span style=white-space:pre-wrap>    y</span>\n",
       "}</code></pre>"
      ],
      "text/latex": [
       "\\begin{minted}{r}\n",
       "function (t\\_i, y) \n",
       "\\{\n",
       "    y\n",
       "\\}\n",
       "\\end{minted}"
      ],
      "text/markdown": [
       "```r\n",
       "function (t_i, y) \n",
       "{\n",
       "    y\n",
       "}\n",
       "```"
      ],
      "text/plain": [
       "function(t_i, y) {\n",
       "    y\n",
       "}"
      ]
     },
     "metadata": {},
     "output_type": "display_data"
    }
   ],
   "source": [
    "y_dash <- function(t_i, y) {\n",
    "    y\n",
    "}\n",
    "\n",
    "y_dash"
   ]
  },
  {
   "cell_type": "markdown",
   "metadata": {},
   "source": [
    "### Initialize parameters"
   ]
  },
  {
   "cell_type": "code",
   "execution_count": 32,
   "metadata": {},
   "outputs": [],
   "source": [
    "t_0 <- 0 \n",
    "t_n <- 6\n",
    "h <- 1\n",
    "y_0 <- 1"
   ]
  },
  {
   "cell_type": "markdown",
   "metadata": {},
   "source": [
    "### Find approximate solution or eular equation from actual derivative points "
   ]
  },
  {
   "cell_type": "code",
   "execution_count": 33,
   "metadata": {},
   "outputs": [],
   "source": [
    "euler_method <- function(t_0, h, t_n, y_0, y_dash){\n",
    "    t_seq <- seq(t_0, t_n, by = h)\n",
    "\n",
    "    data_frame <- data.frame(t_i = t_seq)\n",
    "    \n",
    "    data_frame$h <- h\n",
    "    data_frame$y_i <- y_0\n",
    "    \n",
    "    data_frame$f_dash[1] <- y_dash(data_frame$t_i[1], y_0)\n",
    "    \n",
    "    for (i in 2:nrow(data_frame)) {\n",
    "\n",
    "        data_frame$y_i[i] <- data_frame$y_i[i - 1] +  h * data_frame$f_dash[i - 1]\n",
    "        \n",
    "        data_frame$f_dash[i] <- y_dash(data_frame$t_i[i], data_frame$y_i[i])\n",
    "        \n",
    "    }\n",
    "    return (data_frame)\n",
    "}"
   ]
  },
  {
   "cell_type": "code",
   "execution_count": 35,
   "metadata": {},
   "outputs": [
    {
     "data": {
      "text/html": [
       "<table>\n",
       "<thead><tr><th scope=col>t_i</th><th scope=col>h</th><th scope=col>y_i</th><th scope=col>f_dash</th></tr></thead>\n",
       "<tbody>\n",
       "\t<tr><td>0 </td><td>1 </td><td> 1</td><td> 1</td></tr>\n",
       "\t<tr><td>1 </td><td>1 </td><td> 2</td><td> 2</td></tr>\n",
       "\t<tr><td>2 </td><td>1 </td><td> 4</td><td> 4</td></tr>\n",
       "\t<tr><td>3 </td><td>1 </td><td> 8</td><td> 8</td></tr>\n",
       "\t<tr><td>4 </td><td>1 </td><td>16</td><td>16</td></tr>\n",
       "\t<tr><td>5 </td><td>1 </td><td>32</td><td>32</td></tr>\n",
       "\t<tr><td>6 </td><td>1 </td><td>64</td><td>64</td></tr>\n",
       "</tbody>\n",
       "</table>\n"
      ],
      "text/latex": [
       "\\begin{tabular}{r|llll}\n",
       " t\\_i & h & y\\_i & f\\_dash\\\\\n",
       "\\hline\n",
       "\t 0  & 1  &  1 &  1\\\\\n",
       "\t 1  & 1  &  2 &  2\\\\\n",
       "\t 2  & 1  &  4 &  4\\\\\n",
       "\t 3  & 1  &  8 &  8\\\\\n",
       "\t 4  & 1  & 16 & 16\\\\\n",
       "\t 5  & 1  & 32 & 32\\\\\n",
       "\t 6  & 1  & 64 & 64\\\\\n",
       "\\end{tabular}\n"
      ],
      "text/markdown": [
       "\n",
       "| t_i | h | y_i | f_dash |\n",
       "|---|---|---|---|\n",
       "| 0  | 1  |  1 |  1 |\n",
       "| 1  | 1  |  2 |  2 |\n",
       "| 2  | 1  |  4 |  4 |\n",
       "| 3  | 1  |  8 |  8 |\n",
       "| 4  | 1  | 16 | 16 |\n",
       "| 5  | 1  | 32 | 32 |\n",
       "| 6  | 1  | 64 | 64 |\n",
       "\n"
      ],
      "text/plain": [
       "  t_i h y_i f_dash\n",
       "1 0   1  1   1    \n",
       "2 1   1  2   2    \n",
       "3 2   1  4   4    \n",
       "4 3   1  8   8    \n",
       "5 4   1 16  16    \n",
       "6 5   1 32  32    \n",
       "7 6   1 64  64    "
      ]
     },
     "metadata": {},
     "output_type": "display_data"
    }
   ],
   "source": [
    "table <- euler_method(t_0, h, t_n, y_0, y_dash)\n",
    "\n",
    "table"
   ]
  },
  {
   "cell_type": "markdown",
   "metadata": {},
   "source": [
    "### Rename columns name"
   ]
  },
  {
   "cell_type": "code",
   "execution_count": 36,
   "metadata": {},
   "outputs": [
    {
     "data": {
      "text/html": [
       "<table>\n",
       "<thead><tr><th scope=col>t.i</th><th scope=col>h</th><th scope=col>y.i</th><th scope=col>Dy/dt</th></tr></thead>\n",
       "<tbody>\n",
       "\t<tr><td>0 </td><td>1 </td><td> 1</td><td> 1</td></tr>\n",
       "\t<tr><td>1 </td><td>1 </td><td> 2</td><td> 2</td></tr>\n",
       "\t<tr><td>2 </td><td>1 </td><td> 4</td><td> 4</td></tr>\n",
       "\t<tr><td>3 </td><td>1 </td><td> 8</td><td> 8</td></tr>\n",
       "\t<tr><td>4 </td><td>1 </td><td>16</td><td>16</td></tr>\n",
       "\t<tr><td>5 </td><td>1 </td><td>32</td><td>32</td></tr>\n",
       "\t<tr><td>6 </td><td>1 </td><td>64</td><td>64</td></tr>\n",
       "</tbody>\n",
       "</table>\n"
      ],
      "text/latex": [
       "\\begin{tabular}{r|llll}\n",
       " t.i & h & y.i & Dy/dt\\\\\n",
       "\\hline\n",
       "\t 0  & 1  &  1 &  1\\\\\n",
       "\t 1  & 1  &  2 &  2\\\\\n",
       "\t 2  & 1  &  4 &  4\\\\\n",
       "\t 3  & 1  &  8 &  8\\\\\n",
       "\t 4  & 1  & 16 & 16\\\\\n",
       "\t 5  & 1  & 32 & 32\\\\\n",
       "\t 6  & 1  & 64 & 64\\\\\n",
       "\\end{tabular}\n"
      ],
      "text/markdown": [
       "\n",
       "| t.i | h | y.i | Dy/dt |\n",
       "|---|---|---|---|\n",
       "| 0  | 1  |  1 |  1 |\n",
       "| 1  | 1  |  2 |  2 |\n",
       "| 2  | 1  |  4 |  4 |\n",
       "| 3  | 1  |  8 |  8 |\n",
       "| 4  | 1  | 16 | 16 |\n",
       "| 5  | 1  | 32 | 32 |\n",
       "| 6  | 1  | 64 | 64 |\n",
       "\n"
      ],
      "text/plain": [
       "  t.i h y.i Dy/dt\n",
       "1 0   1  1   1   \n",
       "2 1   1  2   2   \n",
       "3 2   1  4   4   \n",
       "4 3   1  8   8   \n",
       "5 4   1 16  16   \n",
       "6 5   1 32  32   \n",
       "7 6   1 64  64   "
      ]
     },
     "metadata": {},
     "output_type": "display_data"
    }
   ],
   "source": [
    "colnames(table) <- c('t.i', 'h', 'y.i', 'Dy/dt')\n",
    "\n",
    "table"
   ]
  },
  {
   "cell_type": "markdown",
   "metadata": {},
   "source": [
    "### Find exact solution or real equation after putting `t.i` values into `exponential` function  and store into data frame.\n",
    "__Note:-__ we put `t.i` values into `e` iff the values of `y.i` look like as `e^t`, so for eular equation we put as `e^t`. And hence `y = e^t`"
   ]
  },
  {
   "cell_type": "code",
   "execution_count": 37,
   "metadata": {},
   "outputs": [
    {
     "data": {
      "text/html": [
       "<table>\n",
       "<thead><tr><th scope=col>t.i</th><th scope=col>h</th><th scope=col>y.i</th><th scope=col>Dy/dt</th><th scope=col>y</th></tr></thead>\n",
       "<tbody>\n",
       "\t<tr><td>0         </td><td>1         </td><td> 1        </td><td> 1        </td><td>  1.000000</td></tr>\n",
       "\t<tr><td>1         </td><td>1         </td><td> 2        </td><td> 2        </td><td>  2.718282</td></tr>\n",
       "\t<tr><td>2         </td><td>1         </td><td> 4        </td><td> 4        </td><td>  7.389056</td></tr>\n",
       "\t<tr><td>3         </td><td>1         </td><td> 8        </td><td> 8        </td><td> 20.085537</td></tr>\n",
       "\t<tr><td>4         </td><td>1         </td><td>16        </td><td>16        </td><td> 54.598150</td></tr>\n",
       "\t<tr><td>5         </td><td>1         </td><td>32        </td><td>32        </td><td>148.413159</td></tr>\n",
       "\t<tr><td>6         </td><td>1         </td><td>64        </td><td>64        </td><td>403.428793</td></tr>\n",
       "</tbody>\n",
       "</table>\n"
      ],
      "text/latex": [
       "\\begin{tabular}{r|lllll}\n",
       " t.i & h & y.i & Dy/dt & y\\\\\n",
       "\\hline\n",
       "\t 0          & 1          &  1         &  1         &   1.000000\\\\\n",
       "\t 1          & 1          &  2         &  2         &   2.718282\\\\\n",
       "\t 2          & 1          &  4         &  4         &   7.389056\\\\\n",
       "\t 3          & 1          &  8         &  8         &  20.085537\\\\\n",
       "\t 4          & 1          & 16         & 16         &  54.598150\\\\\n",
       "\t 5          & 1          & 32         & 32         & 148.413159\\\\\n",
       "\t 6          & 1          & 64         & 64         & 403.428793\\\\\n",
       "\\end{tabular}\n"
      ],
      "text/markdown": [
       "\n",
       "| t.i | h | y.i | Dy/dt | y |\n",
       "|---|---|---|---|---|\n",
       "| 0          | 1          |  1         |  1         |   1.000000 |\n",
       "| 1          | 1          |  2         |  2         |   2.718282 |\n",
       "| 2          | 1          |  4         |  4         |   7.389056 |\n",
       "| 3          | 1          |  8         |  8         |  20.085537 |\n",
       "| 4          | 1          | 16         | 16         |  54.598150 |\n",
       "| 5          | 1          | 32         | 32         | 148.413159 |\n",
       "| 6          | 1          | 64         | 64         | 403.428793 |\n",
       "\n"
      ],
      "text/plain": [
       "  t.i h y.i Dy/dt y         \n",
       "1 0   1  1   1      1.000000\n",
       "2 1   1  2   2      2.718282\n",
       "3 2   1  4   4      7.389056\n",
       "4 3   1  8   8     20.085537\n",
       "5 4   1 16  16     54.598150\n",
       "6 5   1 32  32    148.413159\n",
       "7 6   1 64  64    403.428793"
      ]
     },
     "metadata": {},
     "output_type": "display_data"
    }
   ],
   "source": [
    "table$y <- exp(table$t.i)\n",
    "\n",
    "table"
   ]
  },
  {
   "cell_type": "markdown",
   "metadata": {},
   "source": [
    "### Graphical representation of `Euler` equation and `Exact` solution."
   ]
  },
  {
   "cell_type": "code",
   "execution_count": 38,
   "metadata": {},
   "outputs": [],
   "source": [
    "options(repr.plot.width = 6, repr.plot.height = 5)"
   ]
  },
  {
   "cell_type": "code",
   "execution_count": 39,
   "metadata": {},
   "outputs": [
    {
     "data": {
      "image/png": "[encoded data removed]",
      "text/plain": [
       "plot without title"
      ]
     },
     "metadata": {},
     "output_type": "display_data"
    }
   ],
   "source": [
    "plot(table$t.i, table$y.i, col = 'red', type = 'l', lwd = 3)\n",
    "points(table$t.i, table$y.i, col ='black', lwd = 3)\n",
    "\n",
    "lines(table$t.i, table$y, col ='green', lwd = 3)\n",
    "points(table$t.i, table$y, col ='black', lwd = 3)\n",
    "\n",
    "grid(col = 'black')\n",
    "legend('topleft', legend = c('Eular', 'Exact'), lwd = 2, col = c('red', 'green'))"
   ]
  },
  {
   "cell_type": "markdown",
   "metadata": {},
   "source": [
    "__Note:-__ Error between `Euler` and `Exact` is large and it grows so this is not numerically stable"
   ]
  },
  {
   "cell_type": "code",
   "execution_count": 40,
   "metadata": {},
   "outputs": [
    {
     "data": {
      "text/html": [
       "<table>\n",
       "<thead><tr><th scope=col>t.i</th><th scope=col>h</th><th scope=col>y.i</th><th scope=col>Dy/dt</th><th scope=col>y</th><th scope=col>error</th></tr></thead>\n",
       "<tbody>\n",
       "\t<tr><td>0           </td><td>1           </td><td> 1          </td><td> 1          </td><td>  1.000000  </td><td>   0.0000000</td></tr>\n",
       "\t<tr><td>1           </td><td>1           </td><td> 2          </td><td> 2          </td><td>  2.718282  </td><td>  -0.7182818</td></tr>\n",
       "\t<tr><td>2           </td><td>1           </td><td> 4          </td><td> 4          </td><td>  7.389056  </td><td>  -3.3890561</td></tr>\n",
       "\t<tr><td>3           </td><td>1           </td><td> 8          </td><td> 8          </td><td> 20.085537  </td><td> -12.0855369</td></tr>\n",
       "\t<tr><td>4           </td><td>1           </td><td>16          </td><td>16          </td><td> 54.598150  </td><td> -38.5981500</td></tr>\n",
       "\t<tr><td>5           </td><td>1           </td><td>32          </td><td>32          </td><td>148.413159  </td><td>-116.4131591</td></tr>\n",
       "\t<tr><td>6           </td><td>1           </td><td>64          </td><td>64          </td><td>403.428793  </td><td>-339.4287935</td></tr>\n",
       "</tbody>\n",
       "</table>\n"
      ],
      "text/latex": [
       "\\begin{tabular}{r|llllll}\n",
       " t.i & h & y.i & Dy/dt & y & error\\\\\n",
       "\\hline\n",
       "\t 0            & 1            &  1           &  1           &   1.000000   &    0.0000000\\\\\n",
       "\t 1            & 1            &  2           &  2           &   2.718282   &   -0.7182818\\\\\n",
       "\t 2            & 1            &  4           &  4           &   7.389056   &   -3.3890561\\\\\n",
       "\t 3            & 1            &  8           &  8           &  20.085537   &  -12.0855369\\\\\n",
       "\t 4            & 1            & 16           & 16           &  54.598150   &  -38.5981500\\\\\n",
       "\t 5            & 1            & 32           & 32           & 148.413159   & -116.4131591\\\\\n",
       "\t 6            & 1            & 64           & 64           & 403.428793   & -339.4287935\\\\\n",
       "\\end{tabular}\n"
      ],
      "text/markdown": [
       "\n",
       "| t.i | h | y.i | Dy/dt | y | error |\n",
       "|---|---|---|---|---|---|\n",
       "| 0            | 1            |  1           |  1           |   1.000000   |    0.0000000 |\n",
       "| 1            | 1            |  2           |  2           |   2.718282   |   -0.7182818 |\n",
       "| 2            | 1            |  4           |  4           |   7.389056   |   -3.3890561 |\n",
       "| 3            | 1            |  8           |  8           |  20.085537   |  -12.0855369 |\n",
       "| 4            | 1            | 16           | 16           |  54.598150   |  -38.5981500 |\n",
       "| 5            | 1            | 32           | 32           | 148.413159   | -116.4131591 |\n",
       "| 6            | 1            | 64           | 64           | 403.428793   | -339.4287935 |\n",
       "\n"
      ],
      "text/plain": [
       "  t.i h y.i Dy/dt y          error       \n",
       "1 0   1  1   1      1.000000    0.0000000\n",
       "2 1   1  2   2      2.718282   -0.7182818\n",
       "3 2   1  4   4      7.389056   -3.3890561\n",
       "4 3   1  8   8     20.085537  -12.0855369\n",
       "5 4   1 16  16     54.598150  -38.5981500\n",
       "6 5   1 32  32    148.413159 -116.4131591\n",
       "7 6   1 64  64    403.428793 -339.4287935"
      ]
     },
     "metadata": {},
     "output_type": "display_data"
    }
   ],
   "source": [
    "table$error <- table$y.i - table$y \n",
    "table"
   ]
  },
  {
   "cell_type": "code",
   "execution_count": 41,
   "metadata": {},
   "outputs": [],
   "source": [
    "t_0 <- 0 \n",
    "t_n <- 6\n",
    "h <- 0.03\n",
    "y_0 <- 1"
   ]
  },
  {
   "cell_type": "code",
   "execution_count": 42,
   "metadata": {},
   "outputs": [
    {
     "data": {
      "text/html": [
       "<table>\n",
       "<thead><tr><th scope=col>t_i</th><th scope=col>h</th><th scope=col>y_i</th><th scope=col>f_dash</th></tr></thead>\n",
       "<tbody>\n",
       "\t<tr><td>0.00    </td><td>0.03    </td><td>1.000000</td><td>1.000000</td></tr>\n",
       "\t<tr><td>0.03    </td><td>0.03    </td><td>1.030000</td><td>1.030000</td></tr>\n",
       "\t<tr><td>0.06    </td><td>0.03    </td><td>1.060900</td><td>1.060900</td></tr>\n",
       "\t<tr><td>0.09    </td><td>0.03    </td><td>1.092727</td><td>1.092727</td></tr>\n",
       "\t<tr><td>0.12    </td><td>0.03    </td><td>1.125509</td><td>1.125509</td></tr>\n",
       "\t<tr><td>0.15    </td><td>0.03    </td><td>1.159274</td><td>1.159274</td></tr>\n",
       "</tbody>\n",
       "</table>\n"
      ],
      "text/latex": [
       "\\begin{tabular}{r|llll}\n",
       " t\\_i & h & y\\_i & f\\_dash\\\\\n",
       "\\hline\n",
       "\t 0.00     & 0.03     & 1.000000 & 1.000000\\\\\n",
       "\t 0.03     & 0.03     & 1.030000 & 1.030000\\\\\n",
       "\t 0.06     & 0.03     & 1.060900 & 1.060900\\\\\n",
       "\t 0.09     & 0.03     & 1.092727 & 1.092727\\\\\n",
       "\t 0.12     & 0.03     & 1.125509 & 1.125509\\\\\n",
       "\t 0.15     & 0.03     & 1.159274 & 1.159274\\\\\n",
       "\\end{tabular}\n"
      ],
      "text/markdown": [
       "\n",
       "| t_i | h | y_i | f_dash |\n",
       "|---|---|---|---|\n",
       "| 0.00     | 0.03     | 1.000000 | 1.000000 |\n",
       "| 0.03     | 0.03     | 1.030000 | 1.030000 |\n",
       "| 0.06     | 0.03     | 1.060900 | 1.060900 |\n",
       "| 0.09     | 0.03     | 1.092727 | 1.092727 |\n",
       "| 0.12     | 0.03     | 1.125509 | 1.125509 |\n",
       "| 0.15     | 0.03     | 1.159274 | 1.159274 |\n",
       "\n"
      ],
      "text/plain": [
       "  t_i  h    y_i      f_dash  \n",
       "1 0.00 0.03 1.000000 1.000000\n",
       "2 0.03 0.03 1.030000 1.030000\n",
       "3 0.06 0.03 1.060900 1.060900\n",
       "4 0.09 0.03 1.092727 1.092727\n",
       "5 0.12 0.03 1.125509 1.125509\n",
       "6 0.15 0.03 1.159274 1.159274"
      ]
     },
     "metadata": {},
     "output_type": "display_data"
    }
   ],
   "source": [
    "table <- euler_method(t_0, h, t_n, y_0, y_dash)\n",
    "\n",
    "head(table)"
   ]
  },
  {
   "cell_type": "code",
   "execution_count": 44,
   "metadata": {},
   "outputs": [
    {
     "data": {
      "text/html": [
       "<table>\n",
       "<thead><tr><th scope=col>t.i</th><th scope=col>h</th><th scope=col>y.i</th><th scope=col>Dy/dt</th><th scope=col>NA</th><th scope=col>y</th></tr></thead>\n",
       "<tbody>\n",
       "\t<tr><td>0.00    </td><td>0.03    </td><td>1.000000</td><td>1.000000</td><td>1.000000</td><td>1.000000</td></tr>\n",
       "\t<tr><td>0.03    </td><td>0.03    </td><td>1.030000</td><td>1.030000</td><td>1.030455</td><td>1.030455</td></tr>\n",
       "\t<tr><td>0.06    </td><td>0.03    </td><td>1.060900</td><td>1.060900</td><td>1.061837</td><td>1.061837</td></tr>\n",
       "\t<tr><td>0.09    </td><td>0.03    </td><td>1.092727</td><td>1.092727</td><td>1.094174</td><td>1.094174</td></tr>\n",
       "\t<tr><td>0.12    </td><td>0.03    </td><td>1.125509</td><td>1.125509</td><td>1.127497</td><td>1.127497</td></tr>\n",
       "\t<tr><td>0.15    </td><td>0.03    </td><td>1.159274</td><td>1.159274</td><td>1.161834</td><td>1.161834</td></tr>\n",
       "</tbody>\n",
       "</table>\n"
      ],
      "text/latex": [
       "\\begin{tabular}{r|llllll}\n",
       " t.i & h & y.i & Dy/dt & NA & y\\\\\n",
       "\\hline\n",
       "\t 0.00     & 0.03     & 1.000000 & 1.000000 & 1.000000 & 1.000000\\\\\n",
       "\t 0.03     & 0.03     & 1.030000 & 1.030000 & 1.030455 & 1.030455\\\\\n",
       "\t 0.06     & 0.03     & 1.060900 & 1.060900 & 1.061837 & 1.061837\\\\\n",
       "\t 0.09     & 0.03     & 1.092727 & 1.092727 & 1.094174 & 1.094174\\\\\n",
       "\t 0.12     & 0.03     & 1.125509 & 1.125509 & 1.127497 & 1.127497\\\\\n",
       "\t 0.15     & 0.03     & 1.159274 & 1.159274 & 1.161834 & 1.161834\\\\\n",
       "\\end{tabular}\n"
      ],
      "text/markdown": [
       "\n",
       "| t.i | h | y.i | Dy/dt | NA | y |\n",
       "|---|---|---|---|---|---|\n",
       "| 0.00     | 0.03     | 1.000000 | 1.000000 | 1.000000 | 1.000000 |\n",
       "| 0.03     | 0.03     | 1.030000 | 1.030000 | 1.030455 | 1.030455 |\n",
       "| 0.06     | 0.03     | 1.060900 | 1.060900 | 1.061837 | 1.061837 |\n",
       "| 0.09     | 0.03     | 1.092727 | 1.092727 | 1.094174 | 1.094174 |\n",
       "| 0.12     | 0.03     | 1.125509 | 1.125509 | 1.127497 | 1.127497 |\n",
       "| 0.15     | 0.03     | 1.159274 | 1.159274 | 1.161834 | 1.161834 |\n",
       "\n"
      ],
      "text/plain": [
       "  t.i  h    y.i      Dy/dt    <NA>     y       \n",
       "1 0.00 0.03 1.000000 1.000000 1.000000 1.000000\n",
       "2 0.03 0.03 1.030000 1.030000 1.030455 1.030455\n",
       "3 0.06 0.03 1.060900 1.060900 1.061837 1.061837\n",
       "4 0.09 0.03 1.092727 1.092727 1.094174 1.094174\n",
       "5 0.12 0.03 1.125509 1.125509 1.127497 1.127497\n",
       "6 0.15 0.03 1.159274 1.159274 1.161834 1.161834"
      ]
     },
     "metadata": {},
     "output_type": "display_data"
    }
   ],
   "source": [
    "colnames(table) <- c('t.i', 'h', 'y.i', 'Dy/dt')\n",
    "\n",
    "table$y <- exp(table$t.i)\n",
    "\n",
    "head(table)"
   ]
  },
  {
   "cell_type": "markdown",
   "metadata": {},
   "source": [
    "## Graphical representation of `Euler` equation and `Exact` solution."
   ]
  },
  {
   "cell_type": "code",
   "execution_count": 45,
   "metadata": {
    "scrolled": false
   },
   "outputs": [
    {
     "data": {
      "image/png": "[encoded data removed]",
      "text/plain": [
       "plot without title"
      ]
     },
     "metadata": {},
     "output_type": "display_data"
    }
   ],
   "source": [
    "plot(table$t.i, table$y.i, col = 'red', type = 'l', lwd = 3)\n",
    "lines(table$t.i, table$y, col ='green', lwd = 3)\n",
    "grid(col = 'black')\n",
    "legend('topleft', legend = c('Eular', 'Exact'), lwd = 2, col = c('red', 'green'))"
   ]
  },
  {
   "cell_type": "code",
   "execution_count": 46,
   "metadata": {},
   "outputs": [
    {
     "data": {
      "text/html": [
       "<table>\n",
       "<thead><tr><th scope=col>t.i</th><th scope=col>h</th><th scope=col>y.i</th><th scope=col>Dy/dt</th><th scope=col>NA</th><th scope=col>y</th><th scope=col>error</th></tr></thead>\n",
       "<tbody>\n",
       "\t<tr><td>0.00         </td><td>0.03         </td><td>1.000000     </td><td>1.000000     </td><td>1.000000     </td><td>1.000000     </td><td> 0.0000000000</td></tr>\n",
       "\t<tr><td>0.03         </td><td>0.03         </td><td>1.030000     </td><td>1.030000     </td><td>1.030455     </td><td>1.030455     </td><td>-0.0004545340</td></tr>\n",
       "\t<tr><td>0.06         </td><td>0.03         </td><td>1.060900     </td><td>1.060900     </td><td>1.061837     </td><td>1.061837     </td><td>-0.0009365465</td></tr>\n",
       "\t<tr><td>0.09         </td><td>0.03         </td><td>1.092727     </td><td>1.092727     </td><td>1.094174     </td><td>1.094174     </td><td>-0.0014472837</td></tr>\n",
       "\t<tr><td>0.12         </td><td>0.03         </td><td>1.125509     </td><td>1.125509     </td><td>1.127497     </td><td>1.127497     </td><td>-0.0019880416</td></tr>\n",
       "\t<tr><td>0.15         </td><td>0.03         </td><td>1.159274     </td><td>1.159274     </td><td>1.161834     </td><td>1.161834     </td><td>-0.0025601684</td></tr>\n",
       "</tbody>\n",
       "</table>\n"
      ],
      "text/latex": [
       "\\begin{tabular}{r|lllllll}\n",
       " t.i & h & y.i & Dy/dt & NA & y & error\\\\\n",
       "\\hline\n",
       "\t 0.00          & 0.03          & 1.000000      & 1.000000      & 1.000000      & 1.000000      &  0.0000000000\\\\\n",
       "\t 0.03          & 0.03          & 1.030000      & 1.030000      & 1.030455      & 1.030455      & -0.0004545340\\\\\n",
       "\t 0.06          & 0.03          & 1.060900      & 1.060900      & 1.061837      & 1.061837      & -0.0009365465\\\\\n",
       "\t 0.09          & 0.03          & 1.092727      & 1.092727      & 1.094174      & 1.094174      & -0.0014472837\\\\\n",
       "\t 0.12          & 0.03          & 1.125509      & 1.125509      & 1.127497      & 1.127497      & -0.0019880416\\\\\n",
       "\t 0.15          & 0.03          & 1.159274      & 1.159274      & 1.161834      & 1.161834      & -0.0025601684\\\\\n",
       "\\end{tabular}\n"
      ],
      "text/markdown": [
       "\n",
       "| t.i | h | y.i | Dy/dt | NA | y | error |\n",
       "|---|---|---|---|---|---|---|\n",
       "| 0.00          | 0.03          | 1.000000      | 1.000000      | 1.000000      | 1.000000      |  0.0000000000 |\n",
       "| 0.03          | 0.03          | 1.030000      | 1.030000      | 1.030455      | 1.030455      | -0.0004545340 |\n",
       "| 0.06          | 0.03          | 1.060900      | 1.060900      | 1.061837      | 1.061837      | -0.0009365465 |\n",
       "| 0.09          | 0.03          | 1.092727      | 1.092727      | 1.094174      | 1.094174      | -0.0014472837 |\n",
       "| 0.12          | 0.03          | 1.125509      | 1.125509      | 1.127497      | 1.127497      | -0.0019880416 |\n",
       "| 0.15          | 0.03          | 1.159274      | 1.159274      | 1.161834      | 1.161834      | -0.0025601684 |\n",
       "\n"
      ],
      "text/plain": [
       "  t.i  h    y.i      Dy/dt    <NA>     y        error        \n",
       "1 0.00 0.03 1.000000 1.000000 1.000000 1.000000  0.0000000000\n",
       "2 0.03 0.03 1.030000 1.030000 1.030455 1.030455 -0.0004545340\n",
       "3 0.06 0.03 1.060900 1.060900 1.061837 1.061837 -0.0009365465\n",
       "4 0.09 0.03 1.092727 1.092727 1.094174 1.094174 -0.0014472837\n",
       "5 0.12 0.03 1.125509 1.125509 1.127497 1.127497 -0.0019880416\n",
       "6 0.15 0.03 1.159274 1.159274 1.161834 1.161834 -0.0025601684"
      ]
     },
     "metadata": {},
     "output_type": "display_data"
    }
   ],
   "source": [
    "table$error <- table$y.i - table$y\n",
    "\n",
    "head(table)"
   ]
  },
  {
   "cell_type": "markdown",
   "metadata": {},
   "source": [
    "### Numerical stability for `y' = k.y` where `k` is constant and `y(0) = 1`."
   ]
  },
  {
   "cell_type": "markdown",
   "metadata": {},
   "source": [
    "### Find solution by analytics method"
   ]
  },
  {
   "cell_type": "markdown",
   "metadata": {},
   "source": [
    "Given,\n",
    "`y' = -2.3y` and `y(0) = 1`\n",
    "\n",
    "Since,\n",
    "y' = -2.3y\n",
    "\n",
    "=> dy/dt = -2.3y\n",
    "\n",
    "=> dy/y = -2.3dt\n",
    "\n",
    "Intergrate both side\n",
    "\n",
    "=> ln(y) = -2.3 * t + c\n",
    "\n",
    "here, c is a constant.\n",
    "\n",
    "=> y = e^(-2.3 * t + c) .......(i)\n",
    "\n",
    "since,\n",
    "y(0) = 1\n",
    "\n",
    "therefore,\n",
    "At, t = 0.\n",
    "\n",
    "1 = e^(-2.3 * 0 + c)\n",
    "\n",
    "=> ln(1) = 0 + c\n",
    "\n",
    "=> 0 = 0 + c\n",
    "\n",
    "therefore, \n",
    "c = 0\n",
    "\n",
    "from ....(i)\n",
    "\n",
    "and hence,\n",
    "y = e^-2.3 * t"
   ]
  },
  {
   "cell_type": "markdown",
   "metadata": {},
   "source": [
    "### Find solution by numerical method"
   ]
  },
  {
   "cell_type": "markdown",
   "metadata": {},
   "source": [
    "### Create a first order differential equation."
   ]
  },
  {
   "cell_type": "code",
   "execution_count": 47,
   "metadata": {
    "scrolled": true
   },
   "outputs": [
    {
     "data": {
      "text/html": [
       "<pre class=language-r><code>function (t_i, y) \n",
       "{\n",
       "<span style=white-space:pre-wrap>    -2.3 * y</span>\n",
       "}</code></pre>"
      ],
      "text/latex": [
       "\\begin{minted}{r}\n",
       "function (t\\_i, y) \n",
       "\\{\n",
       "    -2.3 * y\n",
       "\\}\n",
       "\\end{minted}"
      ],
      "text/markdown": [
       "```r\n",
       "function (t_i, y) \n",
       "{\n",
       "    -2.3 * y\n",
       "}\n",
       "```"
      ],
      "text/plain": [
       "function(t_i, y)  {\n",
       "    -2.3 * y\n",
       "}"
      ]
     },
     "metadata": {},
     "output_type": "display_data"
    }
   ],
   "source": [
    "y_dash <- function(t_i, y)  {\n",
    "    -2.3 * y\n",
    "}\n",
    "\n",
    "y_dash"
   ]
  },
  {
   "cell_type": "markdown",
   "metadata": {},
   "source": [
    "### Initialize parameters"
   ]
  },
  {
   "cell_type": "code",
   "execution_count": 48,
   "metadata": {},
   "outputs": [],
   "source": [
    "t_0 <- 0 \n",
    "t_n <- 6\n",
    "h <- 1\n",
    "y_0 <- 1"
   ]
  },
  {
   "cell_type": "code",
   "execution_count": 49,
   "metadata": {},
   "outputs": [
    {
     "data": {
      "text/html": [
       "<table>\n",
       "<thead><tr><th scope=col>t_i</th><th scope=col>h</th><th scope=col>y_i</th><th scope=col>f_dash</th></tr></thead>\n",
       "<tbody>\n",
       "\t<tr><td>0        </td><td>1        </td><td> 1.00000 </td><td>-2.300000</td></tr>\n",
       "\t<tr><td>1        </td><td>1        </td><td>-1.30000 </td><td> 2.990000</td></tr>\n",
       "\t<tr><td>2        </td><td>1        </td><td> 1.69000 </td><td>-3.887000</td></tr>\n",
       "\t<tr><td>3        </td><td>1        </td><td>-2.19700 </td><td> 5.053100</td></tr>\n",
       "\t<tr><td>4        </td><td>1        </td><td> 2.85610 </td><td>-6.569030</td></tr>\n",
       "\t<tr><td>5        </td><td>1        </td><td>-3.71293 </td><td> 8.539739</td></tr>\n",
       "</tbody>\n",
       "</table>\n"
      ],
      "text/latex": [
       "\\begin{tabular}{r|llll}\n",
       " t\\_i & h & y\\_i & f\\_dash\\\\\n",
       "\\hline\n",
       "\t 0         & 1         &  1.00000  & -2.300000\\\\\n",
       "\t 1         & 1         & -1.30000  &  2.990000\\\\\n",
       "\t 2         & 1         &  1.69000  & -3.887000\\\\\n",
       "\t 3         & 1         & -2.19700  &  5.053100\\\\\n",
       "\t 4         & 1         &  2.85610  & -6.569030\\\\\n",
       "\t 5         & 1         & -3.71293  &  8.539739\\\\\n",
       "\\end{tabular}\n"
      ],
      "text/markdown": [
       "\n",
       "| t_i | h | y_i | f_dash |\n",
       "|---|---|---|---|\n",
       "| 0         | 1         |  1.00000  | -2.300000 |\n",
       "| 1         | 1         | -1.30000  |  2.990000 |\n",
       "| 2         | 1         |  1.69000  | -3.887000 |\n",
       "| 3         | 1         | -2.19700  |  5.053100 |\n",
       "| 4         | 1         |  2.85610  | -6.569030 |\n",
       "| 5         | 1         | -3.71293  |  8.539739 |\n",
       "\n"
      ],
      "text/plain": [
       "  t_i h y_i      f_dash   \n",
       "1 0   1  1.00000 -2.300000\n",
       "2 1   1 -1.30000  2.990000\n",
       "3 2   1  1.69000 -3.887000\n",
       "4 3   1 -2.19700  5.053100\n",
       "5 4   1  2.85610 -6.569030\n",
       "6 5   1 -3.71293  8.539739"
      ]
     },
     "metadata": {},
     "output_type": "display_data"
    }
   ],
   "source": [
    "table <- euler_method(t_0, h, t_n, y_0, y_dash)\n",
    "\n",
    "head(table)"
   ]
  },
  {
   "cell_type": "code",
   "execution_count": 50,
   "metadata": {},
   "outputs": [
    {
     "data": {
      "text/html": [
       "<table>\n",
       "<thead><tr><th scope=col>t.i</th><th scope=col>h</th><th scope=col>y.i</th><th scope=col>Dy/dt</th><th scope=col>y</th></tr></thead>\n",
       "<tbody>\n",
       "\t<tr><td>0           </td><td>1           </td><td> 1.00000    </td><td>-2.300000   </td><td>1.000000e+00</td></tr>\n",
       "\t<tr><td>1           </td><td>1           </td><td>-1.30000    </td><td> 2.990000   </td><td>1.002588e-01</td></tr>\n",
       "\t<tr><td>2           </td><td>1           </td><td> 1.69000    </td><td>-3.887000   </td><td>1.005184e-02</td></tr>\n",
       "\t<tr><td>3           </td><td>1           </td><td>-2.19700    </td><td> 5.053100   </td><td>1.007785e-03</td></tr>\n",
       "\t<tr><td>4           </td><td>1           </td><td> 2.85610    </td><td>-6.569030   </td><td>1.010394e-04</td></tr>\n",
       "\t<tr><td>5           </td><td>1           </td><td>-3.71293    </td><td> 8.539739   </td><td>1.013009e-05</td></tr>\n",
       "</tbody>\n",
       "</table>\n"
      ],
      "text/latex": [
       "\\begin{tabular}{r|lllll}\n",
       " t.i & h & y.i & Dy/dt & y\\\\\n",
       "\\hline\n",
       "\t 0            & 1            &  1.00000     & -2.300000    & 1.000000e+00\\\\\n",
       "\t 1            & 1            & -1.30000     &  2.990000    & 1.002588e-01\\\\\n",
       "\t 2            & 1            &  1.69000     & -3.887000    & 1.005184e-02\\\\\n",
       "\t 3            & 1            & -2.19700     &  5.053100    & 1.007785e-03\\\\\n",
       "\t 4            & 1            &  2.85610     & -6.569030    & 1.010394e-04\\\\\n",
       "\t 5            & 1            & -3.71293     &  8.539739    & 1.013009e-05\\\\\n",
       "\\end{tabular}\n"
      ],
      "text/markdown": [
       "\n",
       "| t.i | h | y.i | Dy/dt | y |\n",
       "|---|---|---|---|---|\n",
       "| 0            | 1            |  1.00000     | -2.300000    | 1.000000e+00 |\n",
       "| 1            | 1            | -1.30000     |  2.990000    | 1.002588e-01 |\n",
       "| 2            | 1            |  1.69000     | -3.887000    | 1.005184e-02 |\n",
       "| 3            | 1            | -2.19700     |  5.053100    | 1.007785e-03 |\n",
       "| 4            | 1            |  2.85610     | -6.569030    | 1.010394e-04 |\n",
       "| 5            | 1            | -3.71293     |  8.539739    | 1.013009e-05 |\n",
       "\n"
      ],
      "text/plain": [
       "  t.i h y.i      Dy/dt     y           \n",
       "1 0   1  1.00000 -2.300000 1.000000e+00\n",
       "2 1   1 -1.30000  2.990000 1.002588e-01\n",
       "3 2   1  1.69000 -3.887000 1.005184e-02\n",
       "4 3   1 -2.19700  5.053100 1.007785e-03\n",
       "5 4   1  2.85610 -6.569030 1.010394e-04\n",
       "6 5   1 -3.71293  8.539739 1.013009e-05"
      ]
     },
     "metadata": {},
     "output_type": "display_data"
    }
   ],
   "source": [
    "colnames(table) <- c('t.i', 'h', 'y.i', 'Dy/dt')\n",
    "\n",
    "table$y <- exp(-2.3 * table$t.i)\n",
    "\n",
    "head(table)"
   ]
  },
  {
   "cell_type": "markdown",
   "metadata": {},
   "source": [
    "### Graphical representation of `Euler` equation and `Exact` or actual solution.\n",
    "\n",
    "https://en.wikipedia.org/wiki/Euler_method#Numerical_stability"
   ]
  },
  {
   "cell_type": "code",
   "execution_count": 51,
   "metadata": {},
   "outputs": [
    {
     "data": {
      "image/png": "[encoded data removed]",
      "text/plain": [
       "plot without title"
      ]
     },
     "metadata": {},
     "output_type": "display_data"
    }
   ],
   "source": [
    "plot(table$t.i, table$y.i, col = 'blue', type = 'l', lty=2, lwd = 3)\n",
    "points(table$t.i, table$y.i, col = 'red', lwd = 3)\n",
    "\n",
    "lines(table$t.i, table$y, col ='green', lwd = 3)\n",
    "grid(col = 'black')\n",
    "legend('topleft', legend = c('Eular', 'Exact'), lwd = 2, col = c('blue', 'green'))"
   ]
  },
  {
   "cell_type": "markdown",
   "metadata": {},
   "source": [
    "### Check how `Eular` and `Exact` solution are diferrence or check error of stabilty or not?\n",
    "\n",
    "__Note:-__ Error between `Eular` and `Exact` are not small so it's called error of non numerical stability because of only we have little big size of `h`."
   ]
  },
  {
   "cell_type": "code",
   "execution_count": 52,
   "metadata": {},
   "outputs": [
    {
     "data": {
      "text/html": [
       "<table>\n",
       "<thead><tr><th scope=col>t.i</th><th scope=col>h</th><th scope=col>y.i</th><th scope=col>Dy/dt</th><th scope=col>y</th><th scope=col>error</th></tr></thead>\n",
       "<tbody>\n",
       "\t<tr><td>0           </td><td>1           </td><td> 1.00000    </td><td>-2.300000   </td><td>1.000000e+00</td><td> 0.000000   </td></tr>\n",
       "\t<tr><td>1           </td><td>1           </td><td>-1.30000    </td><td> 2.990000   </td><td>1.002588e-01</td><td>-1.400259   </td></tr>\n",
       "\t<tr><td>2           </td><td>1           </td><td> 1.69000    </td><td>-3.887000   </td><td>1.005184e-02</td><td> 1.679948   </td></tr>\n",
       "\t<tr><td>3           </td><td>1           </td><td>-2.19700    </td><td> 5.053100   </td><td>1.007785e-03</td><td>-2.198008   </td></tr>\n",
       "\t<tr><td>4           </td><td>1           </td><td> 2.85610    </td><td>-6.569030   </td><td>1.010394e-04</td><td> 2.855999   </td></tr>\n",
       "\t<tr><td>5           </td><td>1           </td><td>-3.71293    </td><td> 8.539739   </td><td>1.013009e-05</td><td>-3.712940   </td></tr>\n",
       "</tbody>\n",
       "</table>\n"
      ],
      "text/latex": [
       "\\begin{tabular}{r|llllll}\n",
       " t.i & h & y.i & Dy/dt & y & error\\\\\n",
       "\\hline\n",
       "\t 0            & 1            &  1.00000     & -2.300000    & 1.000000e+00 &  0.000000   \\\\\n",
       "\t 1            & 1            & -1.30000     &  2.990000    & 1.002588e-01 & -1.400259   \\\\\n",
       "\t 2            & 1            &  1.69000     & -3.887000    & 1.005184e-02 &  1.679948   \\\\\n",
       "\t 3            & 1            & -2.19700     &  5.053100    & 1.007785e-03 & -2.198008   \\\\\n",
       "\t 4            & 1            &  2.85610     & -6.569030    & 1.010394e-04 &  2.855999   \\\\\n",
       "\t 5            & 1            & -3.71293     &  8.539739    & 1.013009e-05 & -3.712940   \\\\\n",
       "\\end{tabular}\n"
      ],
      "text/markdown": [
       "\n",
       "| t.i | h | y.i | Dy/dt | y | error |\n",
       "|---|---|---|---|---|---|\n",
       "| 0            | 1            |  1.00000     | -2.300000    | 1.000000e+00 |  0.000000    |\n",
       "| 1            | 1            | -1.30000     |  2.990000    | 1.002588e-01 | -1.400259    |\n",
       "| 2            | 1            |  1.69000     | -3.887000    | 1.005184e-02 |  1.679948    |\n",
       "| 3            | 1            | -2.19700     |  5.053100    | 1.007785e-03 | -2.198008    |\n",
       "| 4            | 1            |  2.85610     | -6.569030    | 1.010394e-04 |  2.855999    |\n",
       "| 5            | 1            | -3.71293     |  8.539739    | 1.013009e-05 | -3.712940    |\n",
       "\n"
      ],
      "text/plain": [
       "  t.i h y.i      Dy/dt     y            error    \n",
       "1 0   1  1.00000 -2.300000 1.000000e+00  0.000000\n",
       "2 1   1 -1.30000  2.990000 1.002588e-01 -1.400259\n",
       "3 2   1  1.69000 -3.887000 1.005184e-02  1.679948\n",
       "4 3   1 -2.19700  5.053100 1.007785e-03 -2.198008\n",
       "5 4   1  2.85610 -6.569030 1.010394e-04  2.855999\n",
       "6 5   1 -3.71293  8.539739 1.013009e-05 -3.712940"
      ]
     },
     "metadata": {},
     "output_type": "display_data"
    }
   ],
   "source": [
    "table$error <- table$y.i - table$y\n",
    "\n",
    "head(table)"
   ]
  },
  {
   "cell_type": "code",
   "execution_count": 53,
   "metadata": {},
   "outputs": [],
   "source": [
    "t_0 <- 0 \n",
    "t_n <- 6\n",
    "h <- .6\n",
    "y_0 <- 1"
   ]
  },
  {
   "cell_type": "code",
   "execution_count": 54,
   "metadata": {},
   "outputs": [
    {
     "data": {
      "text/html": [
       "<table>\n",
       "<thead><tr><th scope=col>t.i</th><th scope=col>h</th><th scope=col>y.i</th><th scope=col>Dy/dt</th><th scope=col>y</th></tr></thead>\n",
       "<tbody>\n",
       "\t<tr><td>0.0         </td><td>0.6         </td><td> 1.000000000</td><td>-2.30000000 </td><td>1.000000000 </td></tr>\n",
       "\t<tr><td>0.6         </td><td>0.6         </td><td>-0.380000000</td><td> 0.87400000 </td><td>0.251578553 </td></tr>\n",
       "\t<tr><td>1.2         </td><td>0.6         </td><td> 0.144400000</td><td>-0.33212000 </td><td>0.063291768 </td></tr>\n",
       "\t<tr><td>1.8         </td><td>0.6         </td><td>-0.054872000</td><td> 0.12620560 </td><td>0.015922852 </td></tr>\n",
       "\t<tr><td>2.4         </td><td>0.6         </td><td> 0.020851360</td><td>-0.04795813 </td><td>0.004005848 </td></tr>\n",
       "\t<tr><td>3.0         </td><td>0.6         </td><td>-0.007923517</td><td> 0.01822409 </td><td>0.001007785 </td></tr>\n",
       "</tbody>\n",
       "</table>\n"
      ],
      "text/latex": [
       "\\begin{tabular}{r|lllll}\n",
       " t.i & h & y.i & Dy/dt & y\\\\\n",
       "\\hline\n",
       "\t 0.0          & 0.6          &  1.000000000 & -2.30000000  & 1.000000000 \\\\\n",
       "\t 0.6          & 0.6          & -0.380000000 &  0.87400000  & 0.251578553 \\\\\n",
       "\t 1.2          & 0.6          &  0.144400000 & -0.33212000  & 0.063291768 \\\\\n",
       "\t 1.8          & 0.6          & -0.054872000 &  0.12620560  & 0.015922852 \\\\\n",
       "\t 2.4          & 0.6          &  0.020851360 & -0.04795813  & 0.004005848 \\\\\n",
       "\t 3.0          & 0.6          & -0.007923517 &  0.01822409  & 0.001007785 \\\\\n",
       "\\end{tabular}\n"
      ],
      "text/markdown": [
       "\n",
       "| t.i | h | y.i | Dy/dt | y |\n",
       "|---|---|---|---|---|\n",
       "| 0.0          | 0.6          |  1.000000000 | -2.30000000  | 1.000000000  |\n",
       "| 0.6          | 0.6          | -0.380000000 |  0.87400000  | 0.251578553  |\n",
       "| 1.2          | 0.6          |  0.144400000 | -0.33212000  | 0.063291768  |\n",
       "| 1.8          | 0.6          | -0.054872000 |  0.12620560  | 0.015922852  |\n",
       "| 2.4          | 0.6          |  0.020851360 | -0.04795813  | 0.004005848  |\n",
       "| 3.0          | 0.6          | -0.007923517 |  0.01822409  | 0.001007785  |\n",
       "\n"
      ],
      "text/plain": [
       "  t.i h   y.i          Dy/dt       y          \n",
       "1 0.0 0.6  1.000000000 -2.30000000 1.000000000\n",
       "2 0.6 0.6 -0.380000000  0.87400000 0.251578553\n",
       "3 1.2 0.6  0.144400000 -0.33212000 0.063291768\n",
       "4 1.8 0.6 -0.054872000  0.12620560 0.015922852\n",
       "5 2.4 0.6  0.020851360 -0.04795813 0.004005848\n",
       "6 3.0 0.6 -0.007923517  0.01822409 0.001007785"
      ]
     },
     "metadata": {},
     "output_type": "display_data"
    }
   ],
   "source": [
    "table <- euler_method(t_0, h, t_n, y_0, y_dash)\n",
    "\n",
    "colnames(table) <- c('t.i', 'h', 'y.i', 'Dy/dt')\n",
    "\n",
    "table$y <- exp(-2.3 * table$t.i)\n",
    "\n",
    "head(table)"
   ]
  },
  {
   "cell_type": "markdown",
   "metadata": {},
   "source": [
    "### Graphical representation of `Euler` equation and `Exact` or actual solution.\n",
    "\n",
    "https://en.wikipedia.org/wiki/Euler_method#Numerical_stability"
   ]
  },
  {
   "cell_type": "code",
   "execution_count": 55,
   "metadata": {},
   "outputs": [
    {
     "data": {
      "image/png": "[encoded data removed]",
      "text/plain": [
       "plot without title"
      ]
     },
     "metadata": {},
     "output_type": "display_data"
    }
   ],
   "source": [
    "plot(table$t.i, table$y.i, col = 'darkblue', type = 'l', lty=2, lwd = 3)\n",
    "points(table$t.i, table$y.i, col = 'red', lwd = 3)\n",
    "\n",
    "lines(table$t.i, table$y, col ='green', lwd = 3)\n",
    "grid(col = 'black')\n",
    "legend('topright', legend = c('Eular', 'Exact'), lwd = 2, col = c('blue', 'green'))"
   ]
  },
  {
   "cell_type": "code",
   "execution_count": 56,
   "metadata": {},
   "outputs": [
    {
     "data": {
      "text/html": [
       "<table>\n",
       "<thead><tr><th scope=col>t.i</th><th scope=col>h</th><th scope=col>y.i</th><th scope=col>Dy/dt</th><th scope=col>y</th><th scope=col>error</th></tr></thead>\n",
       "<tbody>\n",
       "\t<tr><td>0.0         </td><td>0.6         </td><td> 1.000000000</td><td>-2.30000000 </td><td>1.000000000 </td><td> 0.000000000</td></tr>\n",
       "\t<tr><td>0.6         </td><td>0.6         </td><td>-0.380000000</td><td> 0.87400000 </td><td>0.251578553 </td><td>-0.631578553</td></tr>\n",
       "\t<tr><td>1.2         </td><td>0.6         </td><td> 0.144400000</td><td>-0.33212000 </td><td>0.063291768 </td><td> 0.081108232</td></tr>\n",
       "\t<tr><td>1.8         </td><td>0.6         </td><td>-0.054872000</td><td> 0.12620560 </td><td>0.015922852 </td><td>-0.070794852</td></tr>\n",
       "\t<tr><td>2.4         </td><td>0.6         </td><td> 0.020851360</td><td>-0.04795813 </td><td>0.004005848 </td><td> 0.016845512</td></tr>\n",
       "\t<tr><td>3.0         </td><td>0.6         </td><td>-0.007923517</td><td> 0.01822409 </td><td>0.001007785 </td><td>-0.008931302</td></tr>\n",
       "</tbody>\n",
       "</table>\n"
      ],
      "text/latex": [
       "\\begin{tabular}{r|llllll}\n",
       " t.i & h & y.i & Dy/dt & y & error\\\\\n",
       "\\hline\n",
       "\t 0.0          & 0.6          &  1.000000000 & -2.30000000  & 1.000000000  &  0.000000000\\\\\n",
       "\t 0.6          & 0.6          & -0.380000000 &  0.87400000  & 0.251578553  & -0.631578553\\\\\n",
       "\t 1.2          & 0.6          &  0.144400000 & -0.33212000  & 0.063291768  &  0.081108232\\\\\n",
       "\t 1.8          & 0.6          & -0.054872000 &  0.12620560  & 0.015922852  & -0.070794852\\\\\n",
       "\t 2.4          & 0.6          &  0.020851360 & -0.04795813  & 0.004005848  &  0.016845512\\\\\n",
       "\t 3.0          & 0.6          & -0.007923517 &  0.01822409  & 0.001007785  & -0.008931302\\\\\n",
       "\\end{tabular}\n"
      ],
      "text/markdown": [
       "\n",
       "| t.i | h | y.i | Dy/dt | y | error |\n",
       "|---|---|---|---|---|---|\n",
       "| 0.0          | 0.6          |  1.000000000 | -2.30000000  | 1.000000000  |  0.000000000 |\n",
       "| 0.6          | 0.6          | -0.380000000 |  0.87400000  | 0.251578553  | -0.631578553 |\n",
       "| 1.2          | 0.6          |  0.144400000 | -0.33212000  | 0.063291768  |  0.081108232 |\n",
       "| 1.8          | 0.6          | -0.054872000 |  0.12620560  | 0.015922852  | -0.070794852 |\n",
       "| 2.4          | 0.6          |  0.020851360 | -0.04795813  | 0.004005848  |  0.016845512 |\n",
       "| 3.0          | 0.6          | -0.007923517 |  0.01822409  | 0.001007785  | -0.008931302 |\n",
       "\n"
      ],
      "text/plain": [
       "  t.i h   y.i          Dy/dt       y           error       \n",
       "1 0.0 0.6  1.000000000 -2.30000000 1.000000000  0.000000000\n",
       "2 0.6 0.6 -0.380000000  0.87400000 0.251578553 -0.631578553\n",
       "3 1.2 0.6  0.144400000 -0.33212000 0.063291768  0.081108232\n",
       "4 1.8 0.6 -0.054872000  0.12620560 0.015922852 -0.070794852\n",
       "5 2.4 0.6  0.020851360 -0.04795813 0.004005848  0.016845512\n",
       "6 3.0 0.6 -0.007923517  0.01822409 0.001007785 -0.008931302"
      ]
     },
     "metadata": {},
     "output_type": "display_data"
    }
   ],
   "source": [
    "table$error <- table$y.i - table$y \n",
    "\n",
    "head(table)"
   ]
  },
  {
   "cell_type": "code",
   "execution_count": null,
   "metadata": {},
   "outputs": [],
   "source": []
  },
  {
   "cell_type": "code",
   "execution_count": null,
   "metadata": {},
   "outputs": [],
   "source": []
  },
  {
   "cell_type": "code",
   "execution_count": null,
   "metadata": {},
   "outputs": [],
   "source": []
  }
 ],
 "metadata": {
  "kernelspec": {
   "display_name": "R",
   "language": "R",
   "name": "ir"
  },
  "language_info": {
   "codemirror_mode": "r",
   "file_extension": ".r",
   "mimetype": "text/x-r-source",
   "name": "R",
   "pygments_lexer": "r",
   "version": "3.6.1"
  }
 },
 "nbformat": 4,
 "nbformat_minor": 2
}
